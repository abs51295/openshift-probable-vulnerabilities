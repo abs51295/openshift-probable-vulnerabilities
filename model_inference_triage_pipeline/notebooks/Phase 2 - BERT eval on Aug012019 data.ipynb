{
 "cells": [
  {
   "cell_type": "code",
   "execution_count": 1,
   "metadata": {},
   "outputs": [
    {
     "name": "stderr",
     "output_type": "stream",
     "text": [
      "WARNING: Logging before flag parsing goes to stderr.\n",
      "I0811 07:46:46.257797 140292808554304 __init__.py:56] hub.KerasLayer is not available because TensorFlow version is less than 1.14\n",
      "Using TensorFlow backend.\n"
     ]
    }
   ],
   "source": [
    "import warnings\n",
    "warnings.simplefilter(action='ignore', category=FutureWarning)\n",
    "warnings.simplefilter(action='ignore', category=Warning)\n",
    "from utils import cloud_constants as cc\n",
    "from utils import text_normalizer as tn\n",
    "from utils import bert_text_processor as btp\n",
    "from models import bert_cve_classifier as bcvec\n",
    "from models import security_dl_classifier as sdc\n",
    "from models import cve_dl_classifier as cdc\n",
    "from collections import Counter\n",
    "\n",
    "\n",
    "import pandas as pd\n",
    "import numpy as np\n",
    "import arrow\n",
    "import daiquiri\n",
    "import logging\n",
    "import gc\n",
    "import os\n",
    "import argparse\n",
    "import textwrap\n",
    "import tensorflow as tf"
   ]
  },
  {
   "cell_type": "code",
   "execution_count": 16,
   "metadata": {},
   "outputs": [
    {
     "name": "stdout",
     "output_type": "stream",
     "text": [
      "<class 'pandas.core.frame.DataFrame'>\n",
      "RangeIndex: 4674 entries, 0 to 4673\n",
      "Data columns (total 15 columns):\n",
      "repo_name       4674 non-null object\n",
      "event_type      4674 non-null object\n",
      "ecosystem       4674 non-null object\n",
      "status          4674 non-null object\n",
      "id              4674 non-null int64\n",
      "number          4674 non-null int64\n",
      "api_url         4674 non-null object\n",
      "url             4674 non-null object\n",
      "creator_name    4674 non-null object\n",
      "creator_url     4674 non-null object\n",
      "created_at      4674 non-null object\n",
      "updated_at      4674 non-null object\n",
      "closed_at       4674 non-null object\n",
      "title           4674 non-null object\n",
      "body            4674 non-null object\n",
      "dtypes: int64(2), object(13)\n",
      "memory usage: 547.8+ KB\n"
     ]
    }
   ],
   "source": [
    "df = pd.read_csv('./test_data_models.csv', encoding='utf-8', na_filter=False)\n",
    "df.info()"
   ]
  },
  {
   "cell_type": "code",
   "execution_count": 17,
   "metadata": {},
   "outputs": [
    {
     "data": {
      "text/html": [
       "<div>\n",
       "<style scoped>\n",
       "    .dataframe tbody tr th:only-of-type {\n",
       "        vertical-align: middle;\n",
       "    }\n",
       "\n",
       "    .dataframe tbody tr th {\n",
       "        vertical-align: top;\n",
       "    }\n",
       "\n",
       "    .dataframe thead th {\n",
       "        text-align: right;\n",
       "    }\n",
       "</style>\n",
       "<table border=\"1\" class=\"dataframe\">\n",
       "  <thead>\n",
       "    <tr style=\"text-align: right;\">\n",
       "      <th></th>\n",
       "      <th>repo_name</th>\n",
       "      <th>event_type</th>\n",
       "      <th>ecosystem</th>\n",
       "      <th>status</th>\n",
       "      <th>id</th>\n",
       "      <th>number</th>\n",
       "      <th>api_url</th>\n",
       "      <th>url</th>\n",
       "      <th>creator_name</th>\n",
       "      <th>creator_url</th>\n",
       "      <th>created_at</th>\n",
       "      <th>updated_at</th>\n",
       "      <th>closed_at</th>\n",
       "      <th>title</th>\n",
       "      <th>body</th>\n",
       "    </tr>\n",
       "  </thead>\n",
       "  <tbody>\n",
       "    <tr>\n",
       "      <th>0</th>\n",
       "      <td>AlecAivazis/survey</td>\n",
       "      <td>IssuesEvent</td>\n",
       "      <td>golang</td>\n",
       "      <td>closed</td>\n",
       "      <td>476207931</td>\n",
       "      <td>241</td>\n",
       "      <td>https://api.github.com/repos/AlecAivazis/surve...</td>\n",
       "      <td>https://github.com/AlecAivazis/survey/issues/241</td>\n",
       "      <td>mkumatag</td>\n",
       "      <td>https://github.com/mkumatag</td>\n",
       "      <td>2019-08-02 14:28:10+00:00</td>\n",
       "      <td>2019-08-02 15:38:51+00:00</td>\n",
       "      <td>2019-08-02 15:38:51+00:00</td>\n",
       "      <td>v2 version from the code should be removed</td>\n",
       "      <td>The specific version(e.g: github.com/AlecAivaz...</td>\n",
       "    </tr>\n",
       "    <tr>\n",
       "      <th>1</th>\n",
       "      <td>Azure/azure-sdk-for-go</td>\n",
       "      <td>IssuesEvent</td>\n",
       "      <td>golang</td>\n",
       "      <td>opened</td>\n",
       "      <td>474328235</td>\n",
       "      <td>5379</td>\n",
       "      <td>https://api.github.com/repos/Azure/azure-sdk-f...</td>\n",
       "      <td>https://github.com/Azure/azure-sdk-for-go/issu...</td>\n",
       "      <td>mguglani</td>\n",
       "      <td>https://github.com/mguglani</td>\n",
       "      <td>2019-07-30 01:37:13+00:00</td>\n",
       "      <td>2019-07-30 01:37:13+00:00</td>\n",
       "      <td></td>\n",
       "      <td>MarshalJSON for EvenData return nil</td>\n",
       "      <td>### Bug Report - What happened? I am using Res...</td>\n",
       "    </tr>\n",
       "    <tr>\n",
       "      <th>2</th>\n",
       "      <td>Azure/azure-sdk-for-go</td>\n",
       "      <td>IssuesEvent</td>\n",
       "      <td>golang</td>\n",
       "      <td>opened</td>\n",
       "      <td>475079134</td>\n",
       "      <td>5391</td>\n",
       "      <td>https://api.github.com/repos/Azure/azure-sdk-f...</td>\n",
       "      <td>https://github.com/Azure/azure-sdk-for-go/issu...</td>\n",
       "      <td>invidian</td>\n",
       "      <td>https://github.com/invidian</td>\n",
       "      <td>2019-07-31 11:05:29+00:00</td>\n",
       "      <td>2019-07-31 11:05:29+00:00</td>\n",
       "      <td></td>\n",
       "      <td>Support for client-side blob encryption</td>\n",
       "      <td>### Feature Request It seems that Blob Encrypt...</td>\n",
       "    </tr>\n",
       "    <tr>\n",
       "      <th>3</th>\n",
       "      <td>Azure/azure-sdk-for-go</td>\n",
       "      <td>IssuesEvent</td>\n",
       "      <td>golang</td>\n",
       "      <td>opened</td>\n",
       "      <td>475785847</td>\n",
       "      <td>5407</td>\n",
       "      <td>https://api.github.com/repos/Azure/azure-sdk-f...</td>\n",
       "      <td>https://github.com/Azure/azure-sdk-for-go/issu...</td>\n",
       "      <td>mbfrahry</td>\n",
       "      <td>https://github.com/mbfrahry</td>\n",
       "      <td>2019-08-01 16:47:37+00:00</td>\n",
       "      <td>2019-08-01 16:47:37+00:00</td>\n",
       "      <td></td>\n",
       "      <td>App Service Plan 404 does not return an error</td>\n",
       "      <td>### Bug Report - import path of package in que...</td>\n",
       "    </tr>\n",
       "    <tr>\n",
       "      <th>4</th>\n",
       "      <td>Azure/azure-sdk-for-go</td>\n",
       "      <td>IssuesEvent</td>\n",
       "      <td>golang</td>\n",
       "      <td>opened</td>\n",
       "      <td>475914536</td>\n",
       "      <td>5412</td>\n",
       "      <td>https://api.github.com/repos/Azure/azure-sdk-f...</td>\n",
       "      <td>https://github.com/Azure/azure-sdk-for-go/issu...</td>\n",
       "      <td>udbhav-sharma</td>\n",
       "      <td>https://github.com/udbhav-sharma</td>\n",
       "      <td>2019-08-01 22:23:26+00:00</td>\n",
       "      <td>2019-08-01 22:23:26+00:00</td>\n",
       "      <td></td>\n",
       "      <td>Authenticating with Azure using Certificate</td>\n",
       "      <td>I am trying to authenticate with Azure AAD usi...</td>\n",
       "    </tr>\n",
       "  </tbody>\n",
       "</table>\n",
       "</div>"
      ],
      "text/plain": [
       "                repo_name   event_type ecosystem  status         id  number  \\\n",
       "0      AlecAivazis/survey  IssuesEvent    golang  closed  476207931     241   \n",
       "1  Azure/azure-sdk-for-go  IssuesEvent    golang  opened  474328235    5379   \n",
       "2  Azure/azure-sdk-for-go  IssuesEvent    golang  opened  475079134    5391   \n",
       "3  Azure/azure-sdk-for-go  IssuesEvent    golang  opened  475785847    5407   \n",
       "4  Azure/azure-sdk-for-go  IssuesEvent    golang  opened  475914536    5412   \n",
       "\n",
       "                                             api_url  \\\n",
       "0  https://api.github.com/repos/AlecAivazis/surve...   \n",
       "1  https://api.github.com/repos/Azure/azure-sdk-f...   \n",
       "2  https://api.github.com/repos/Azure/azure-sdk-f...   \n",
       "3  https://api.github.com/repos/Azure/azure-sdk-f...   \n",
       "4  https://api.github.com/repos/Azure/azure-sdk-f...   \n",
       "\n",
       "                                                 url   creator_name  \\\n",
       "0   https://github.com/AlecAivazis/survey/issues/241       mkumatag   \n",
       "1  https://github.com/Azure/azure-sdk-for-go/issu...       mguglani   \n",
       "2  https://github.com/Azure/azure-sdk-for-go/issu...       invidian   \n",
       "3  https://github.com/Azure/azure-sdk-for-go/issu...       mbfrahry   \n",
       "4  https://github.com/Azure/azure-sdk-for-go/issu...  udbhav-sharma   \n",
       "\n",
       "                        creator_url                 created_at  \\\n",
       "0       https://github.com/mkumatag  2019-08-02 14:28:10+00:00   \n",
       "1       https://github.com/mguglani  2019-07-30 01:37:13+00:00   \n",
       "2       https://github.com/invidian  2019-07-31 11:05:29+00:00   \n",
       "3       https://github.com/mbfrahry  2019-08-01 16:47:37+00:00   \n",
       "4  https://github.com/udbhav-sharma  2019-08-01 22:23:26+00:00   \n",
       "\n",
       "                  updated_at                  closed_at  \\\n",
       "0  2019-08-02 15:38:51+00:00  2019-08-02 15:38:51+00:00   \n",
       "1  2019-07-30 01:37:13+00:00                              \n",
       "2  2019-07-31 11:05:29+00:00                              \n",
       "3  2019-08-01 16:47:37+00:00                              \n",
       "4  2019-08-01 22:23:26+00:00                              \n",
       "\n",
       "                                           title  \\\n",
       "0     v2 version from the code should be removed   \n",
       "1            MarshalJSON for EvenData return nil   \n",
       "2        Support for client-side blob encryption   \n",
       "3  App Service Plan 404 does not return an error   \n",
       "4    Authenticating with Azure using Certificate   \n",
       "\n",
       "                                                body  \n",
       "0  The specific version(e.g: github.com/AlecAivaz...  \n",
       "1  ### Bug Report - What happened? I am using Res...  \n",
       "2  ### Feature Request It seems that Blob Encrypt...  \n",
       "3  ### Bug Report - import path of package in que...  \n",
       "4  I am trying to authenticate with Azure AAD usi...  "
      ]
     },
     "execution_count": 17,
     "metadata": {},
     "output_type": "execute_result"
    }
   ],
   "source": [
    "df.head()"
   ]
  },
  {
   "cell_type": "code",
   "execution_count": 18,
   "metadata": {},
   "outputs": [],
   "source": [
    "daiquiri.setup(level=logging.INFO)\n",
    "_logger = daiquiri.getLogger(__name__)"
   ]
  },
  {
   "cell_type": "code",
   "execution_count": 19,
   "metadata": {},
   "outputs": [
    {
     "name": "stderr",
     "output_type": "stream",
     "text": [
      "2019-08-11 10:14:39,681 [7770] INFO     __main__: Creating description column for NLP\n"
     ]
    }
   ],
   "source": [
    "_logger.info('Creating description column for NLP')\n",
    "df['description'] = df['title'].fillna(value='').map(\n",
    "    str) + ' ' + df['body'].fillna(value='')\n",
    "columns = ['title', 'body']\n",
    "df.drop(columns, inplace=True, axis=1)"
   ]
  },
  {
   "cell_type": "code",
   "execution_count": 20,
   "metadata": {},
   "outputs": [
    {
     "name": "stderr",
     "output_type": "stream",
     "text": [
      "2019-08-11 10:14:41,047 [7770] INFO     __main__: ----- STARTING MODEL INFERENCE -----\n",
      "2019-08-11 10:14:41,049 [7770] INFO     __main__: Loading Security Model\n",
      "2019-08-11 10:14:41,050 [7770] INFO     models.security_dl_classifier: Loading Security Model Tokenizer Vocabulary\n",
      "2019-08-11 10:14:41,332 [7770] INFO     models.security_dl_classifier: Building Security Model Architecture\n",
      "2019-08-11 10:14:42,005 [7770] INFO     models.security_dl_classifier: Loading Security Model Weights\n"
     ]
    },
    {
     "name": "stdout",
     "output_type": "stream",
     "text": [
      "_________________________________________________________________\n",
      "Layer (type)                 Output Shape              Param #   \n",
      "=================================================================\n",
      "input_2 (InputLayer)         (None, 1000)              0         \n",
      "_________________________________________________________________\n",
      "embedding_2 (Embedding)      (None, 1000, 300)         194814900 \n",
      "_________________________________________________________________\n",
      "bidirectional_3 (Bidirection (None, 1000, 128)         140544    \n",
      "_________________________________________________________________\n",
      "bidirectional_4 (Bidirection (None, 1000, 64)          31104     \n",
      "_________________________________________________________________\n",
      "attention_layer_2 (Attention (None, 64)                1064      \n",
      "_________________________________________________________________\n",
      "dense_4 (Dense)              (None, 64)                4160      \n",
      "_________________________________________________________________\n",
      "dropout_3 (Dropout)          (None, 64)                0         \n",
      "_________________________________________________________________\n",
      "dense_5 (Dense)              (None, 32)                2080      \n",
      "_________________________________________________________________\n",
      "dropout_4 (Dropout)          (None, 32)                0         \n",
      "_________________________________________________________________\n",
      "dense_6 (Dense)              (None, 1)                 33        \n",
      "=================================================================\n",
      "Total params: 194,993,885\n",
      "Trainable params: 178,985\n",
      "Non-trainable params: 194,814,900\n",
      "_________________________________________________________________\n"
     ]
    }
   ],
   "source": [
    "_logger.info('----- STARTING MODEL INFERENCE -----')\n",
    "_logger.info('Loading Security Model')\n",
    "sc = sdc.SecurityClassifier(embedding_size=300, max_length=1000, max_features=800000,\n",
    "                            tokenizer_path=cc.P1GRU_SEC_MODEL_TOKENIZER_PATH,\n",
    "                            model_weights_path=cc.P1GRU_SEC_MODEL_WEIGHTS_PATH)\n",
    "sc.build_model_architecture()\n",
    "sc.load_model_weights()\n",
    "sc_model = sc.get_model()\n",
    "sc_model.summary()"
   ]
  },
  {
   "cell_type": "code",
   "execution_count": 21,
   "metadata": {},
   "outputs": [
    {
     "name": "stderr",
     "output_type": "stream",
     "text": [
      "2019-08-11 10:15:47,915 [7770] INFO     __main__: Text Pre-processing Issue/PR Descriptions\n",
      "2019-08-11 10:15:47,919 [7770] INFO     utils.text_normalizer: Text Pre-processing: starting\n",
      "2019-08-11 10:15:47,921 [7770] INFO     utils.text_normalizer: ThreadPoolExecutor-1_0: working on doc num: 0\n",
      "2019-08-11 10:16:03,203 [7770] INFO     utils.text_normalizer: ThreadPoolExecutor-1_9: working on doc num: 4673\n",
      "2019-08-11 10:16:03,284 [7770] INFO     __main__: Setting Default CVE and Security Flags\n",
      "2019-08-11 10:16:03,286 [7770] INFO     __main__: \n",
      "\n"
     ]
    }
   ],
   "source": [
    "_logger.info('Text Pre-processing Issue/PR Descriptions')\n",
    "df['norm_description'] = tn.pre_process_documents_parallel(\n",
    "    documents=df['description'].values)\n",
    "\n",
    "_logger.info('Setting Default CVE and Security Flags')\n",
    "df['security_model_flag'] = 0\n",
    "df['cve_model_flag'] = 0\n",
    "\n",
    "_logger.info('\\n')"
   ]
  },
  {
   "cell_type": "code",
   "execution_count": 22,
   "metadata": {},
   "outputs": [
    {
     "name": "stderr",
     "output_type": "stream",
     "text": [
      "2019-08-11 10:16:08,594 [7770] INFO     __main__: Preparing data for security model inference\n",
      "2019-08-11 10:16:08,944 [7770] INFO     __main__: Total Security Docs Encoded: 4674\n",
      "2019-08-11 10:16:08,972 [7770] INFO     __main__: Removing bad docs with low tokens\n",
      "2019-08-11 10:16:08,984 [7770] INFO     __main__: Filtered Security Docs Encoded: 4575\n",
      "2019-08-11 10:16:08,985 [7770] INFO     __main__: Making predictions for probable security issues\n",
      "2019-08-11 10:16:17,591 [7770] INFO     __main__: Updating Security Model predictions in dataset\n",
      "2019-08-11 10:16:17,597 [7770] INFO     __main__: Teardown security model\n",
      "2019-08-11 10:16:17,820 [7770] INFO     __main__: \n",
      "\n"
     ]
    }
   ],
   "source": [
    "_logger.info('Preparing data for security model inference')\n",
    "security_encoded_docs = sc.prepare_inference_data(\n",
    "    df['norm_description'].tolist())\n",
    "_logger.info('Total Security Docs Encoded: {n}'.format(\n",
    "    n=len(security_encoded_docs)))\n",
    "sec_doc_lengths = np.array([len(np.nonzero(item)[0])\n",
    "                            for item in security_encoded_docs])\n",
    "_logger.info('Removing bad docs with low tokens')\n",
    "sec_doc_idx = np.argwhere(sec_doc_lengths >= 5).ravel()\n",
    "filtered_security_encoded_docs = security_encoded_docs[sec_doc_idx]\n",
    "_logger.info('Filtered Security Docs Encoded: {n}'.format(\n",
    "    n=len(filtered_security_encoded_docs)))\n",
    "\n",
    "_logger.info('Making predictions for probable security issues')\n",
    "sec_pred_probs = sc_model.predict(\n",
    "    filtered_security_encoded_docs, batch_size=1024, verbose=0)\n",
    "sec_pred_probsr = sec_pred_probs.ravel()\n",
    "sec_pred_labels = [1 if prob > 0.4 else 0 for prob in sec_pred_probsr]\n",
    "_logger.info('Updating Security Model predictions in dataset')\n",
    "df.loc[df.index.isin(sec_doc_idx), 'security_model_flag'] = sec_pred_labels\n",
    "\n",
    "_logger.info('Teardown security model')\n",
    "del sc\n",
    "del sc_model\n",
    "gc.collect()\n",
    "\n",
    "_logger.info('\\n')"
   ]
  },
  {
   "cell_type": "code",
   "execution_count": 23,
   "metadata": {},
   "outputs": [
    {
     "name": "stdout",
     "output_type": "stream",
     "text": [
      "<class 'pandas.core.frame.DataFrame'>\n",
      "Int64Index: 713 entries, 1 to 4653\n",
      "Data columns (total 17 columns):\n",
      "repo_name              713 non-null object\n",
      "event_type             713 non-null object\n",
      "ecosystem              713 non-null object\n",
      "status                 713 non-null object\n",
      "id                     713 non-null int64\n",
      "number                 713 non-null int64\n",
      "api_url                713 non-null object\n",
      "url                    713 non-null object\n",
      "creator_name           713 non-null object\n",
      "creator_url            713 non-null object\n",
      "created_at             713 non-null object\n",
      "updated_at             713 non-null object\n",
      "closed_at              713 non-null object\n",
      "description            713 non-null object\n",
      "norm_description       713 non-null object\n",
      "security_model_flag    713 non-null int64\n",
      "cve_model_flag         713 non-null int64\n",
      "dtypes: int64(4), object(13)\n",
      "memory usage: 100.3+ KB\n"
     ]
    }
   ],
   "source": [
    "subset_df = df[df['security_model_flag'] == 1]\n",
    "subset_df.info()"
   ]
  },
  {
   "cell_type": "code",
   "execution_count": 24,
   "metadata": {},
   "outputs": [
    {
     "data": {
      "text/html": [
       "<div>\n",
       "<style scoped>\n",
       "    .dataframe tbody tr th:only-of-type {\n",
       "        vertical-align: middle;\n",
       "    }\n",
       "\n",
       "    .dataframe tbody tr th {\n",
       "        vertical-align: top;\n",
       "    }\n",
       "\n",
       "    .dataframe thead th {\n",
       "        text-align: right;\n",
       "    }\n",
       "</style>\n",
       "<table border=\"1\" class=\"dataframe\">\n",
       "  <thead>\n",
       "    <tr style=\"text-align: right;\">\n",
       "      <th></th>\n",
       "      <th>repo_name</th>\n",
       "      <th>event_type</th>\n",
       "      <th>ecosystem</th>\n",
       "      <th>status</th>\n",
       "      <th>id</th>\n",
       "      <th>number</th>\n",
       "      <th>api_url</th>\n",
       "      <th>url</th>\n",
       "      <th>creator_name</th>\n",
       "      <th>creator_url</th>\n",
       "      <th>created_at</th>\n",
       "      <th>updated_at</th>\n",
       "      <th>closed_at</th>\n",
       "      <th>description</th>\n",
       "      <th>norm_description</th>\n",
       "      <th>security_model_flag</th>\n",
       "      <th>cve_model_flag</th>\n",
       "    </tr>\n",
       "  </thead>\n",
       "  <tbody>\n",
       "    <tr>\n",
       "      <th>1</th>\n",
       "      <td>Azure/azure-sdk-for-go</td>\n",
       "      <td>IssuesEvent</td>\n",
       "      <td>golang</td>\n",
       "      <td>opened</td>\n",
       "      <td>474328235</td>\n",
       "      <td>5379</td>\n",
       "      <td>https://api.github.com/repos/Azure/azure-sdk-f...</td>\n",
       "      <td>https://github.com/Azure/azure-sdk-for-go/issu...</td>\n",
       "      <td>mguglani</td>\n",
       "      <td>https://github.com/mguglani</td>\n",
       "      <td>2019-07-30 01:37:13+00:00</td>\n",
       "      <td>2019-07-30 01:37:13+00:00</td>\n",
       "      <td></td>\n",
       "      <td>MarshalJSON for EvenData return nil ### Bug Re...</td>\n",
       "      <td>marshaljson for evendata return nil bug report...</td>\n",
       "      <td>1</td>\n",
       "      <td>0</td>\n",
       "    </tr>\n",
       "    <tr>\n",
       "      <th>4</th>\n",
       "      <td>Azure/azure-sdk-for-go</td>\n",
       "      <td>IssuesEvent</td>\n",
       "      <td>golang</td>\n",
       "      <td>opened</td>\n",
       "      <td>475914536</td>\n",
       "      <td>5412</td>\n",
       "      <td>https://api.github.com/repos/Azure/azure-sdk-f...</td>\n",
       "      <td>https://github.com/Azure/azure-sdk-for-go/issu...</td>\n",
       "      <td>udbhav-sharma</td>\n",
       "      <td>https://github.com/udbhav-sharma</td>\n",
       "      <td>2019-08-01 22:23:26+00:00</td>\n",
       "      <td>2019-08-01 22:23:26+00:00</td>\n",
       "      <td></td>\n",
       "      <td>Authenticating with Azure using Certificate I ...</td>\n",
       "      <td>authenticating with azure using certificate i ...</td>\n",
       "      <td>1</td>\n",
       "      <td>0</td>\n",
       "    </tr>\n",
       "    <tr>\n",
       "      <th>6</th>\n",
       "      <td>Azure/azure-sdk-for-go</td>\n",
       "      <td>IssuesEvent</td>\n",
       "      <td>golang</td>\n",
       "      <td>opened</td>\n",
       "      <td>476478191</td>\n",
       "      <td>5425</td>\n",
       "      <td>https://api.github.com/repos/Azure/azure-sdk-f...</td>\n",
       "      <td>https://github.com/Azure/azure-sdk-for-go/issu...</td>\n",
       "      <td>djyou</td>\n",
       "      <td>https://github.com/djyou</td>\n",
       "      <td>2019-08-03 18:38:18+00:00</td>\n",
       "      <td>2019-08-03 18:38:18+00:00</td>\n",
       "      <td></td>\n",
       "      <td>Table query not extracting and following conti...</td>\n",
       "      <td>table query not extracting and following conti...</td>\n",
       "      <td>1</td>\n",
       "      <td>0</td>\n",
       "    </tr>\n",
       "    <tr>\n",
       "      <th>7</th>\n",
       "      <td>Azure/go-autorest</td>\n",
       "      <td>IssuesEvent</td>\n",
       "      <td>golang</td>\n",
       "      <td>closed</td>\n",
       "      <td>460244874</td>\n",
       "      <td>413</td>\n",
       "      <td>https://api.github.com/repos/Azure/go-autorest...</td>\n",
       "      <td>https://github.com/Azure/go-autorest/issues/413</td>\n",
       "      <td>justaugustus</td>\n",
       "      <td>https://github.com/justaugustus</td>\n",
       "      <td>2019-06-25 06:53:55+00:00</td>\n",
       "      <td>2019-08-01 15:24:36+00:00</td>\n",
       "      <td>2019-08-01 15:24:36+00:00</td>\n",
       "      <td>Cannot bump dependencies in Kubernetes project...</td>\n",
       "      <td>cannot bump dependencies in kubernetes project...</td>\n",
       "      <td>1</td>\n",
       "      <td>0</td>\n",
       "    </tr>\n",
       "    <tr>\n",
       "      <th>33</th>\n",
       "      <td>aws/aws-sdk-go</td>\n",
       "      <td>IssuesEvent</td>\n",
       "      <td>golang</td>\n",
       "      <td>closed</td>\n",
       "      <td>307159642</td>\n",
       "      <td>1853</td>\n",
       "      <td>https://api.github.com/repos/aws/aws-sdk-go/is...</td>\n",
       "      <td>https://github.com/aws/aws-sdk-go/issues/1853</td>\n",
       "      <td>svenwltr</td>\n",
       "      <td>https://github.com/svenwltr</td>\n",
       "      <td>2018-03-21 08:51:17+00:00</td>\n",
       "      <td>2019-08-02 19:17:06+00:00</td>\n",
       "      <td>2019-08-02 19:17:05+00:00</td>\n",
       "      <td>Unable to delete Object in empty dir with s3.D...</td>\n",
       "      <td>unable to delete object in empty dir with s3 d...</td>\n",
       "      <td>1</td>\n",
       "      <td>0</td>\n",
       "    </tr>\n",
       "  </tbody>\n",
       "</table>\n",
       "</div>"
      ],
      "text/plain": [
       "                 repo_name   event_type ecosystem  status         id  number  \\\n",
       "1   Azure/azure-sdk-for-go  IssuesEvent    golang  opened  474328235    5379   \n",
       "4   Azure/azure-sdk-for-go  IssuesEvent    golang  opened  475914536    5412   \n",
       "6   Azure/azure-sdk-for-go  IssuesEvent    golang  opened  476478191    5425   \n",
       "7        Azure/go-autorest  IssuesEvent    golang  closed  460244874     413   \n",
       "33          aws/aws-sdk-go  IssuesEvent    golang  closed  307159642    1853   \n",
       "\n",
       "                                              api_url  \\\n",
       "1   https://api.github.com/repos/Azure/azure-sdk-f...   \n",
       "4   https://api.github.com/repos/Azure/azure-sdk-f...   \n",
       "6   https://api.github.com/repos/Azure/azure-sdk-f...   \n",
       "7   https://api.github.com/repos/Azure/go-autorest...   \n",
       "33  https://api.github.com/repos/aws/aws-sdk-go/is...   \n",
       "\n",
       "                                                  url   creator_name  \\\n",
       "1   https://github.com/Azure/azure-sdk-for-go/issu...       mguglani   \n",
       "4   https://github.com/Azure/azure-sdk-for-go/issu...  udbhav-sharma   \n",
       "6   https://github.com/Azure/azure-sdk-for-go/issu...          djyou   \n",
       "7     https://github.com/Azure/go-autorest/issues/413   justaugustus   \n",
       "33      https://github.com/aws/aws-sdk-go/issues/1853       svenwltr   \n",
       "\n",
       "                         creator_url                 created_at  \\\n",
       "1        https://github.com/mguglani  2019-07-30 01:37:13+00:00   \n",
       "4   https://github.com/udbhav-sharma  2019-08-01 22:23:26+00:00   \n",
       "6           https://github.com/djyou  2019-08-03 18:38:18+00:00   \n",
       "7    https://github.com/justaugustus  2019-06-25 06:53:55+00:00   \n",
       "33       https://github.com/svenwltr  2018-03-21 08:51:17+00:00   \n",
       "\n",
       "                   updated_at                  closed_at  \\\n",
       "1   2019-07-30 01:37:13+00:00                              \n",
       "4   2019-08-01 22:23:26+00:00                              \n",
       "6   2019-08-03 18:38:18+00:00                              \n",
       "7   2019-08-01 15:24:36+00:00  2019-08-01 15:24:36+00:00   \n",
       "33  2019-08-02 19:17:06+00:00  2019-08-02 19:17:05+00:00   \n",
       "\n",
       "                                          description  \\\n",
       "1   MarshalJSON for EvenData return nil ### Bug Re...   \n",
       "4   Authenticating with Azure using Certificate I ...   \n",
       "6   Table query not extracting and following conti...   \n",
       "7   Cannot bump dependencies in Kubernetes project...   \n",
       "33  Unable to delete Object in empty dir with s3.D...   \n",
       "\n",
       "                                     norm_description  security_model_flag  \\\n",
       "1   marshaljson for evendata return nil bug report...                    1   \n",
       "4   authenticating with azure using certificate i ...                    1   \n",
       "6   table query not extracting and following conti...                    1   \n",
       "7   cannot bump dependencies in kubernetes project...                    1   \n",
       "33  unable to delete object in empty dir with s3 d...                    1   \n",
       "\n",
       "    cve_model_flag  \n",
       "1                0  \n",
       "4                0  \n",
       "6                0  \n",
       "7                0  \n",
       "33               0  "
      ]
     },
     "execution_count": 24,
     "metadata": {},
     "output_type": "execute_result"
    }
   ],
   "source": [
    "subset_df.head()"
   ]
  },
  {
   "cell_type": "code",
   "execution_count": 25,
   "metadata": {},
   "outputs": [],
   "source": [
    "subset_df.to_csv('sec_issues_aug01.csv')"
   ]
  },
  {
   "cell_type": "code",
   "execution_count": 26,
   "metadata": {},
   "outputs": [
    {
     "name": "stderr",
     "output_type": "stream",
     "text": [
      "2019-08-11 10:16:35,737 [7770] INFO     __main__: Loading CVE Model\n"
     ]
    },
    {
     "name": "stdout",
     "output_type": "stream",
     "text": [
      "Build BERT Classifier CVE Model Architecture\n",
      "Loading Base BERT Model\n",
      "Trainable layers: 199\n",
      "Non Trainable layers: 5\n",
      "Constructing Base BERT architecture\n"
     ]
    },
    {
     "name": "stderr",
     "output_type": "stream",
     "text": [
      "2019-08-11 10:16:38,740 [7770] INFO     tensorflow: Saver not created because there are no variables in the graph to restore\n",
      "2019-08-11 10:16:38,963 [7770] INFO     utils.text_normalizer: Text Pre-processing: starting\n",
      "2019-08-11 10:16:38,964 [7770] INFO     utils.text_normalizer: ThreadPoolExecutor-2_0: working on doc num: 0\n",
      "2019-08-11 10:16:39,882 [7770] INFO     utils.text_normalizer: ThreadPoolExecutor-2_3: working on doc num: 712\n",
      "2019-08-11 10:16:40,302 [7770] INFO     __main__: Total CVE Docs Encoded: 713\n",
      "2019-08-11 10:16:40,314 [7770] INFO     __main__: Removing bad docs with low tokens\n",
      "2019-08-11 10:16:40,315 [7770] INFO     __main__: Filtered CVE Docs Encoded: 692\n",
      "2019-08-11 10:16:40,316 [7770] INFO     __main__: BERT text processing and feature engineering\n"
     ]
    },
    {
     "name": "stdout",
     "output_type": "stream",
     "text": [
      "Loading Base BERT Model\n"
     ]
    },
    {
     "name": "stderr",
     "output_type": "stream",
     "text": [
      "2019-08-11 10:16:43,881 [7770] INFO     tensorflow: Saver not created because there are no variables in the graph to restore\n",
      "Converting text to examples: 692it [00:00, 262761.03it/s]\n",
      "Converting examples to features:   0%|          | 0/692 [00:00<?, ?it/s]"
     ]
    },
    {
     "name": "stdout",
     "output_type": "stream",
     "text": [
      "Loading BERT WordPiece Tokenizer\n",
      "Creating Input Examples from data\n",
      "Creating BERT Input Features from Input Examples\n"
     ]
    },
    {
     "name": "stderr",
     "output_type": "stream",
     "text": [
      "Converting examples to features: 100%|██████████| 692/692 [00:05<00:00, 131.34it/s]\n"
     ]
    }
   ],
   "source": [
    "sess = tf.Session()\n",
    "BERT_MAX_SEQ_LEN = 512\n",
    "\n",
    "_logger.info('Loading CVE Model')\n",
    "bc = bcvec.BERTClassifier(bert_model_path=cc.BASE_BERT_UNCASED_PATH, \n",
    "                  max_seq_length=BERT_MAX_SEQ_LEN)\n",
    "bc.build_model_architecture()   \n",
    "\n",
    "subset_df['norm_description'] = tn.pre_process_documents_parallel_bert(\n",
    "                                    documents=subset_df['description'].values) \n",
    "cve_encoded_docs = subset_df['norm_description'].values\n",
    "_logger.info('Total CVE Docs Encoded: {n}'.format(\n",
    "    n=len(cve_encoded_docs)))\n",
    "cve_doc_lengths = np.array([len(doc.split(' ')) for doc in cve_encoded_docs])\n",
    "_logger.info('Removing bad docs with low tokens')\n",
    "cve_doc_idx = np.argwhere(cve_doc_lengths >= 10).ravel()\n",
    "filtered_cve_encoded_docs = cve_encoded_docs[cve_doc_idx]\n",
    "_logger.info('Filtered CVE Docs Encoded: {n}'.format(\n",
    "    n=len(filtered_cve_encoded_docs)))\n",
    "\n",
    "_logger.info('BERT text processing and feature engineering')\n",
    "btp_obj = btp.BertTextProcessor(tf_session=sess, \n",
    "                          bert_model_path=cc.BASE_BERT_UNCASED_PATH, \n",
    "                          max_seq_length=BERT_MAX_SEQ_LEN)\n",
    "btp_obj.create_bert_tokenizer()\n",
    "btp_obj.convert_text_to_input_examples(filtered_cve_encoded_docs)\n",
    "btp_obj.convert_examples_to_features()"
   ]
  },
  {
   "cell_type": "code",
   "execution_count": 27,
   "metadata": {},
   "outputs": [],
   "source": [
    "prob_security_df_rowidx = np.array(subset_df.index)"
   ]
  },
  {
   "cell_type": "code",
   "execution_count": 67,
   "metadata": {},
   "outputs": [
    {
     "name": "stderr",
     "output_type": "stream",
     "text": [
      "2019-08-11 12:03:00,513 [7770] INFO     __main__: Making predictions for probable CVE issues\n"
     ]
    },
    {
     "name": "stdout",
     "output_type": "stream",
     "text": [
      "Loading BERT Classifier CVE Model Weights\n",
      "692/692 [==============================] - 32s 46ms/step\n",
      "Counter({0: 610, 1: 82})\n",
      "(array([  2,   9,  11,  36,  84,  91, 124, 125, 128, 130, 147, 150, 151,\n",
      "       154, 163, 172, 175, 178, 179, 180, 211, 213, 242, 252, 256, 257,\n",
      "       262, 284, 290, 293, 312, 324, 334, 343, 355, 389, 417, 421, 428,\n",
      "       455, 457, 462, 488, 491, 494, 496, 498, 500, 511, 527, 541, 552,\n",
      "       564, 565, 570, 578, 580, 593, 598, 622, 637, 639, 643, 650, 651,\n",
      "       654, 657, 658, 659, 660, 661, 662, 665, 666, 670, 671, 672, 676,\n",
      "       684, 685, 687, 688]),)\n"
     ]
    }
   ],
   "source": [
    "_logger.info('Making predictions for probable CVE issues')\n",
    "btp.initialize_vars(sess)\n",
    "MODEL_PATH = '../../../dsarkar/saved_models/bert_vuln_models/bert_cve75iter2_weights-ep:01-trn_loss:0.379-trn_acc:0.904-val_loss:0.229-val_acc:0.918.h5'\n",
    "bc.load_model_weights(model_weights_path=MODEL_PATH)\n",
    "\n",
    "cve_pred_probs = bc.model_estimator.predict(x=[btp_obj.input_ids, \n",
    "                                               btp_obj.input_masks, \n",
    "                                               btp_obj.segment_ids],\n",
    "                                            batch_size=200,\n",
    "                                            verbose=1)\n",
    "cve_pred_probsr = cve_pred_probs.ravel()\n",
    "cve_pred_labels = [1 if prob > 0.5 else 0 for prob in cve_pred_probsr]\n",
    "print(Counter(cve_pred_labels))\n",
    "print(np.nonzero(cve_pred_labels))"
   ]
  },
  {
   "cell_type": "code",
   "execution_count": 68,
   "metadata": {},
   "outputs": [
    {
     "name": "stdout",
     "output_type": "stream",
     "text": [
      "Loading BERT Classifier CVE Model Weights\n",
      "692/692 [==============================] - 32s 47ms/step\n",
      "Counter({0: 562, 1: 130})\n",
      "(array([  2,   9,  11,  64,  84,  92, 129, 130, 150, 153, 154, 159, 162,\n",
      "       165, 166, 168, 169, 170, 172, 173, 178, 180, 181, 193, 199, 213,\n",
      "       226, 227, 229, 245, 252, 262, 268, 269, 278, 284, 286, 290, 291,\n",
      "       299, 311, 312, 315, 328, 336, 338, 349, 351, 353, 361, 367, 370,\n",
      "       389, 417, 422, 424, 432, 433, 445, 450, 455, 457, 459, 462, 463,\n",
      "       465, 469, 477, 479, 482, 488, 496, 498, 511, 519, 521, 525, 527,\n",
      "       540, 541, 544, 547, 550, 570, 572, 577, 578, 580, 581, 582, 588,\n",
      "       589, 593, 594, 597, 598, 599, 601, 605, 621, 637, 639, 643, 645,\n",
      "       650, 651, 654, 657, 658, 659, 660, 661, 662, 664, 665, 666, 670,\n",
      "       671, 672, 673, 674, 676, 679, 682, 684, 685, 686, 687, 688, 691]),)\n"
     ]
    }
   ],
   "source": [
    "MODEL_PATH = '../../../dsarkar/saved_models/bert_vuln_models/bert_cve75iter2_weights-ep:02-trn_loss:0.176-trn_acc:0.959-val_loss:0.153-val_acc:0.941.h5'\n",
    "bc.load_model_weights(model_weights_path=MODEL_PATH)\n",
    "\n",
    "cve_pred_probs = bc.model_estimator.predict(x=[btp_obj.input_ids, \n",
    "                                               btp_obj.input_masks, \n",
    "                                               btp_obj.segment_ids],\n",
    "                                            batch_size=200,\n",
    "                                            verbose=1)\n",
    "cve_pred_probsr = cve_pred_probs.ravel()\n",
    "cve_pred_labels = [1 if prob > 0.5 else 0 for prob in cve_pred_probsr]\n",
    "print(Counter(cve_pred_labels))\n",
    "print(np.nonzero(cve_pred_labels))"
   ]
  },
  {
   "cell_type": "code",
   "execution_count": 69,
   "metadata": {},
   "outputs": [
    {
     "name": "stdout",
     "output_type": "stream",
     "text": [
      "Loading BERT Classifier CVE Model Weights\n",
      "692/692 [==============================] - 33s 48ms/step\n",
      "Counter({0: 662, 1: 30})\n",
      "(array([  9, 130, 147, 150, 178, 180, 199, 213, 226, 242, 262, 268, 315,\n",
      "       328, 349, 389, 417, 432, 433, 450, 455, 457, 491, 622, 639, 643,\n",
      "       650, 671, 673, 685]),)\n"
     ]
    }
   ],
   "source": [
    "MODEL_PATH = '../../../dsarkar/saved_models/bert_vuln_models/bert_cve75iter2_weights-ep:03-trn_loss:0.096-trn_acc:0.981-val_loss:0.284-val_acc:0.976.h5'\n",
    "bc.load_model_weights(model_weights_path=MODEL_PATH)\n",
    "\n",
    "cve_pred_probs = bc.model_estimator.predict(x=[btp_obj.input_ids, \n",
    "                                               btp_obj.input_masks, \n",
    "                                               btp_obj.segment_ids],\n",
    "                                            batch_size=200,\n",
    "                                            verbose=1)\n",
    "cve_pred_probsr = cve_pred_probs.ravel()\n",
    "cve_pred_labels = [1 if prob > 0.5 else 0 for prob in cve_pred_probsr]\n",
    "print(Counter(cve_pred_labels))\n",
    "print(np.nonzero(cve_pred_labels))"
   ]
  },
  {
   "cell_type": "code",
   "execution_count": 70,
   "metadata": {},
   "outputs": [
    {
     "name": "stdout",
     "output_type": "stream",
     "text": [
      "Loading BERT Classifier CVE Model Weights\n",
      "692/692 [==============================] - 34s 49ms/step\n",
      "Counter({0: 669, 1: 23})\n",
      "(array([ 92, 130, 150, 161, 178, 180, 213, 268, 432, 433, 450, 455, 457,\n",
      "       491, 496, 637, 643, 650, 661, 671, 676, 679, 691]),)\n"
     ]
    }
   ],
   "source": [
    "MODEL_PATH = '../../../dsarkar/saved_models/bert_vuln_models/bert_cve75iter2_weights-ep:04-trn_loss:0.053-trn_acc:0.987-val_loss:0.265-val_acc:0.976.h5'\n",
    "bc.load_model_weights(model_weights_path=MODEL_PATH)\n",
    "\n",
    "cve_pred_probs = bc.model_estimator.predict(x=[btp_obj.input_ids, \n",
    "                                               btp_obj.input_masks, \n",
    "                                               btp_obj.segment_ids],\n",
    "                                            batch_size=200,\n",
    "                                            verbose=1)\n",
    "cve_pred_probsr = cve_pred_probs.ravel()\n",
    "cve_pred_labels = [1 if prob > 0.5 else 0 for prob in cve_pred_probsr]\n",
    "print(Counter(cve_pred_labels))\n",
    "print(np.nonzero(cve_pred_labels))"
   ]
  },
  {
   "cell_type": "code",
   "execution_count": 71,
   "metadata": {},
   "outputs": [
    {
     "name": "stdout",
     "output_type": "stream",
     "text": [
      "Loading BERT Classifier CVE Model Weights\n",
      "692/692 [==============================] - 34s 49ms/step\n",
      "Counter({0: 644, 1: 48})\n",
      "(array([  2,   9,  92, 130, 150, 154, 161, 165, 172, 178, 199, 213, 257,\n",
      "       268, 290, 315, 328, 349, 415, 432, 433, 450, 455, 457, 469, 488,\n",
      "       491, 496, 498, 561, 580, 593, 601, 613, 621, 622, 637, 639, 643,\n",
      "       650, 657, 671, 673, 676, 684, 685, 687, 691]),)\n"
     ]
    }
   ],
   "source": [
    "MODEL_PATH = '../../../dsarkar/saved_models/bert_vuln_models/bert_cve75iter2_weights-ep:05-trn_loss:0.055-trn_acc:0.991-val_loss:0.233-val_acc:0.956.h5'\n",
    "bc.load_model_weights(model_weights_path=MODEL_PATH)\n",
    "\n",
    "cve_pred_probs = bc.model_estimator.predict(x=[btp_obj.input_ids, \n",
    "                                               btp_obj.input_masks, \n",
    "                                               btp_obj.segment_ids],\n",
    "                                            batch_size=200,\n",
    "                                            verbose=1)\n",
    "cve_pred_probsr = cve_pred_probs.ravel()\n",
    "cve_pred_labels = [1 if prob > 0.5 else 0 for prob in cve_pred_probsr]\n",
    "print(Counter(cve_pred_labels))\n",
    "print(np.nonzero(cve_pred_labels))"
   ]
  },
  {
   "cell_type": "code",
   "execution_count": 72,
   "metadata": {},
   "outputs": [
    {
     "name": "stdout",
     "output_type": "stream",
     "text": [
      "Loading BERT Classifier CVE Model Weights\n",
      "692/692 [==============================] - 34s 49ms/step\n",
      "Counter({0: 565, 1: 127})\n",
      "(array([  2,   9,  11,  12,  18,  19,  41,  84,  88,  91,  92,  93, 119,\n",
      "       128, 130, 137, 139, 141, 142, 147, 149, 150, 151, 154, 156, 157,\n",
      "       161, 165, 166, 169, 170, 172, 178, 180, 181, 191, 192, 198, 199,\n",
      "       203, 209, 211, 212, 213, 214, 227, 229, 230, 235, 242, 244, 245,\n",
      "       246, 248, 249, 257, 258, 260, 264, 268, 269, 274, 277, 279, 284,\n",
      "       286, 290, 293, 314, 315, 328, 334, 349, 350, 351, 361, 369, 371,\n",
      "       385, 389, 422, 432, 433, 436, 440, 450, 455, 457, 467, 469, 474,\n",
      "       488, 491, 496, 498, 499, 511, 522, 527, 561, 577, 580, 588, 594,\n",
      "       597, 598, 599, 601, 606, 611, 621, 622, 637, 639, 643, 650, 656,\n",
      "       657, 663, 671, 673, 676, 679, 684, 685, 687, 688]),)\n"
     ]
    }
   ],
   "source": [
    "MODEL_PATH = '../../../dsarkar/saved_models/bert_vuln_models/bert_cve75iter2_weights-ep:06-trn_loss:0.044-trn_acc:0.994-val_loss:0.239-val_acc:0.931.h5'\n",
    "bc.load_model_weights(model_weights_path=MODEL_PATH)\n",
    "\n",
    "cve_pred_probs = bc.model_estimator.predict(x=[btp_obj.input_ids, \n",
    "                                               btp_obj.input_masks, \n",
    "                                               btp_obj.segment_ids],\n",
    "                                            batch_size=200,\n",
    "                                            verbose=1)\n",
    "cve_pred_probsr = cve_pred_probs.ravel()\n",
    "cve_pred_labels = [1 if prob > 0.5 else 0 for prob in cve_pred_probsr]\n",
    "print(Counter(cve_pred_labels))\n",
    "print(np.nonzero(cve_pred_labels))"
   ]
  },
  {
   "cell_type": "code",
   "execution_count": 73,
   "metadata": {},
   "outputs": [
    {
     "name": "stdout",
     "output_type": "stream",
     "text": [
      "Loading BERT Classifier CVE Model Weights\n",
      "692/692 [==============================] - 34s 50ms/step\n",
      "Counter({0: 682, 1: 10})\n",
      "(array([226, 268, 432, 450, 455, 637, 643, 650, 671, 685]),)\n"
     ]
    }
   ],
   "source": [
    "MODEL_PATH = '../../../dsarkar/saved_models/bert_vuln_models/bert_cve75iter2_weights-ep:07-trn_loss:0.062-trn_acc:0.990-val_loss:0.303-val_acc:0.985.h5'\n",
    "bc.load_model_weights(model_weights_path=MODEL_PATH)\n",
    "\n",
    "cve_pred_probs = bc.model_estimator.predict(x=[btp_obj.input_ids, \n",
    "                                               btp_obj.input_masks, \n",
    "                                               btp_obj.segment_ids],\n",
    "                                            batch_size=200,\n",
    "                                            verbose=1)\n",
    "cve_pred_probsr = cve_pred_probs.ravel()\n",
    "cve_pred_labels = [1 if prob > 0.5 else 0 for prob in cve_pred_probsr]\n",
    "print(Counter(cve_pred_labels))\n",
    "print(np.nonzero(cve_pred_labels))"
   ]
  },
  {
   "cell_type": "code",
   "execution_count": 74,
   "metadata": {},
   "outputs": [
    {
     "name": "stdout",
     "output_type": "stream",
     "text": [
      "Loading BERT Classifier CVE Model Weights\n",
      "692/692 [==============================] - 35s 50ms/step\n",
      "Counter({0: 684, 1: 8})\n",
      "(array([268, 432, 450, 455, 639, 643, 671, 685]),)\n"
     ]
    }
   ],
   "source": [
    "MODEL_PATH = '../../../dsarkar/saved_models/bert_vuln_models/bert_cve75iter2_weights-ep:08-trn_loss:0.021-trn_acc:0.998-val_loss:0.377-val_acc:0.986.h5'\n",
    "bc.load_model_weights(model_weights_path=MODEL_PATH)\n",
    "\n",
    "cve_pred_probs = bc.model_estimator.predict(x=[btp_obj.input_ids, \n",
    "                                               btp_obj.input_masks, \n",
    "                                               btp_obj.segment_ids],\n",
    "                                            batch_size=200,\n",
    "                                            verbose=1)\n",
    "cve_pred_probsr = cve_pred_probs.ravel()\n",
    "cve_pred_labels = [1 if prob > 0.5 else 0 for prob in cve_pred_probsr]\n",
    "print(Counter(cve_pred_labels))\n",
    "print(np.nonzero(cve_pred_labels))"
   ]
  },
  {
   "cell_type": "code",
   "execution_count": 75,
   "metadata": {},
   "outputs": [
    {
     "name": "stdout",
     "output_type": "stream",
     "text": [
      "Loading BERT Classifier CVE Model Weights\n",
      "692/692 [==============================] - 35s 50ms/step\n",
      "Counter({0: 671, 1: 21})\n",
      "(array([  9,  12,  92, 130, 161, 213, 257, 268, 450, 455, 457, 494, 588,\n",
      "       622, 639, 643, 650, 671, 676, 684, 685]),)\n"
     ]
    }
   ],
   "source": [
    "MODEL_PATH = '../../../dsarkar/saved_models/bert_vuln_models/bert_cve75iter2_weights-ep:09-trn_loss:0.024-trn_acc:0.998-val_loss:0.330-val_acc:0.971.h5'\n",
    "bc.load_model_weights(model_weights_path=MODEL_PATH)\n",
    "\n",
    "cve_pred_probs = bc.model_estimator.predict(x=[btp_obj.input_ids, \n",
    "                                               btp_obj.input_masks, \n",
    "                                               btp_obj.segment_ids],\n",
    "                                            batch_size=200,\n",
    "                                            verbose=1)\n",
    "cve_pred_probsr = cve_pred_probs.ravel()\n",
    "cve_pred_labels = [1 if prob > 0.5 else 0 for prob in cve_pred_probsr]\n",
    "print(Counter(cve_pred_labels))\n",
    "print(np.nonzero(cve_pred_labels))"
   ]
  },
  {
   "cell_type": "code",
   "execution_count": 76,
   "metadata": {},
   "outputs": [
    {
     "name": "stdout",
     "output_type": "stream",
     "text": [
      "Loading BERT Classifier CVE Model Weights\n",
      "692/692 [==============================] - 35s 50ms/step\n",
      "Counter({0: 661, 1: 31})\n",
      "(array([  9,  64, 178, 181, 268, 275, 351, 424, 432, 450, 455, 457, 469,\n",
      "       488, 491, 496, 588, 594, 601, 622, 637, 639, 640, 643, 650, 657,\n",
      "       671, 676, 682, 685, 687]),)\n"
     ]
    }
   ],
   "source": [
    "MODEL_PATH = '../../../dsarkar/saved_models/bert_vuln_models/bert_cve75iter2_weights-ep:10-trn_loss:0.039-trn_acc:0.994-val_loss:0.239-val_acc:0.972.h5'\n",
    "bc.load_model_weights(model_weights_path=MODEL_PATH)\n",
    "\n",
    "cve_pred_probs = bc.model_estimator.predict(x=[btp_obj.input_ids, \n",
    "                                               btp_obj.input_masks, \n",
    "                                               btp_obj.segment_ids],\n",
    "                                            batch_size=200,\n",
    "                                            verbose=1)\n",
    "cve_pred_probsr = cve_pred_probs.ravel()\n",
    "cve_pred_labels = [1 if prob > 0.5 else 0 for prob in cve_pred_probsr]\n",
    "print(Counter(cve_pred_labels))\n",
    "print(np.nonzero(cve_pred_labels))"
   ]
  },
  {
   "cell_type": "code",
   "execution_count": 77,
   "metadata": {},
   "outputs": [
    {
     "name": "stdout",
     "output_type": "stream",
     "text": [
      "Loading BERT Classifier CVE Model Weights\n",
      "692/692 [==============================] - 35s 51ms/step\n",
      "Counter({0: 585, 1: 107})\n",
      "(array([  9,  11,  84,  92, 128, 130, 150, 153, 154, 157, 159, 161, 162,\n",
      "       165, 166, 167, 168, 169, 170, 172, 173, 178, 180, 181, 193, 216,\n",
      "       242, 252, 268, 284, 330, 351, 355, 372, 384, 417, 433, 455, 457,\n",
      "       458, 459, 460, 461, 462, 465, 466, 479, 482, 488, 496, 498, 511,\n",
      "       516, 518, 521, 522, 524, 530, 535, 536, 537, 540, 541, 544, 548,\n",
      "       550, 553, 554, 560, 561, 563, 564, 565, 567, 570, 572, 573, 576,\n",
      "       577, 578, 580, 581, 582, 586, 587, 588, 589, 591, 593, 596, 598,\n",
      "       637, 639, 643, 650, 657, 658, 661, 663, 671, 674, 681, 682, 685,\n",
      "       687, 688, 691]),)\n"
     ]
    }
   ],
   "source": [
    "MODEL_PATH = '../../../dsarkar/saved_models/bert_vuln_models/bert_cve75_weights-ep:01-trn_loss:0.395-trn_acc:0.888-val_loss:0.188-val_acc:0.938.h5'\n",
    "bc.load_model_weights(model_weights_path=MODEL_PATH)\n",
    "\n",
    "cve_pred_probs = bc.model_estimator.predict(x=[btp_obj.input_ids, \n",
    "                                               btp_obj.input_masks, \n",
    "                                               btp_obj.segment_ids],\n",
    "                                            batch_size=200,\n",
    "                                            verbose=1)\n",
    "cve_pred_probsr = cve_pred_probs.ravel()\n",
    "cve_pred_labels = [1 if prob > 0.5 else 0 for prob in cve_pred_probsr]\n",
    "print(Counter(cve_pred_labels))\n",
    "print(np.nonzero(cve_pred_labels))"
   ]
  },
  {
   "cell_type": "code",
   "execution_count": 78,
   "metadata": {},
   "outputs": [
    {
     "name": "stdout",
     "output_type": "stream",
     "text": [
      "Loading BERT Classifier CVE Model Weights\n",
      "692/692 [==============================] - 35s 51ms/step\n",
      "Counter({0: 673, 1: 19})\n",
      "(array([  9, 130, 132, 268, 312, 315, 328, 349, 351, 389, 417, 432, 433,\n",
      "       455, 611, 622, 639, 671, 685]),)\n"
     ]
    }
   ],
   "source": [
    "MODEL_PATH = '../../../dsarkar/saved_models/bert_vuln_models/bert_cve75_weights-ep:02-trn_loss:0.172-trn_acc:0.957-val_loss:0.164-val_acc:0.978.h5'\n",
    "bc.load_model_weights(model_weights_path=MODEL_PATH)\n",
    "\n",
    "cve_pred_probs = bc.model_estimator.predict(x=[btp_obj.input_ids, \n",
    "                                               btp_obj.input_masks, \n",
    "                                               btp_obj.segment_ids],\n",
    "                                            batch_size=200,\n",
    "                                            verbose=1)\n",
    "cve_pred_probsr = cve_pred_probs.ravel()\n",
    "cve_pred_labels = [1 if prob > 0.5 else 0 for prob in cve_pred_probsr]\n",
    "print(Counter(cve_pred_labels))\n",
    "print(np.nonzero(cve_pred_labels))"
   ]
  },
  {
   "cell_type": "code",
   "execution_count": 79,
   "metadata": {},
   "outputs": [
    {
     "name": "stdout",
     "output_type": "stream",
     "text": [
      "Loading BERT Classifier CVE Model Weights\n",
      "692/692 [==============================] - 35s 51ms/step\n",
      "Counter({0: 646, 1: 46})\n",
      "(array([  2,   9,  52,  84, 130, 161, 166, 214, 238, 262, 268, 284, 351,\n",
      "       355, 389, 417, 432, 433, 455, 457, 461, 462, 465, 467, 496, 519,\n",
      "       541, 570, 572, 588, 593, 597, 599, 601, 611, 637, 639, 643, 650,\n",
      "       661, 671, 676, 681, 682, 687, 688]),)\n"
     ]
    }
   ],
   "source": [
    "MODEL_PATH = '../../../dsarkar/saved_models/bert_vuln_models/bert_cve75_weights-ep:03-trn_loss:0.106-trn_acc:0.971-val_loss:0.173-val_acc:0.963.h5'\n",
    "bc.load_model_weights(model_weights_path=MODEL_PATH)\n",
    "\n",
    "cve_pred_probs = bc.model_estimator.predict(x=[btp_obj.input_ids, \n",
    "                                               btp_obj.input_masks, \n",
    "                                               btp_obj.segment_ids],\n",
    "                                            batch_size=200,\n",
    "                                            verbose=1)\n",
    "cve_pred_probsr = cve_pred_probs.ravel()\n",
    "cve_pred_labels = [1 if prob > 0.5 else 0 for prob in cve_pred_probsr]\n",
    "print(Counter(cve_pred_labels))\n",
    "print(np.nonzero(cve_pred_labels))"
   ]
  },
  {
   "cell_type": "code",
   "execution_count": 80,
   "metadata": {},
   "outputs": [
    {
     "name": "stdout",
     "output_type": "stream",
     "text": [
      "Loading BERT Classifier CVE Model Weights\n",
      "692/692 [==============================] - 35s 51ms/step\n",
      "Counter({0: 671, 1: 21})\n",
      "(array([  9, 128, 130, 144, 166, 268, 328, 351, 389, 432, 455, 465, 570,\n",
      "       588, 622, 639, 643, 650, 661, 671, 676]),)\n"
     ]
    }
   ],
   "source": [
    "MODEL_PATH = '../../../dsarkar/saved_models/bert_vuln_models/bert_cve75_weights-ep:04-trn_loss:0.053-trn_acc:0.988-val_loss:0.244-val_acc:0.982.h5'\n",
    "bc.load_model_weights(model_weights_path=MODEL_PATH)\n",
    "\n",
    "cve_pred_probs = bc.model_estimator.predict(x=[btp_obj.input_ids, \n",
    "                                               btp_obj.input_masks, \n",
    "                                               btp_obj.segment_ids],\n",
    "                                            batch_size=200,\n",
    "                                            verbose=1)\n",
    "cve_pred_probsr = cve_pred_probs.ravel()\n",
    "cve_pred_labels = [1 if prob > 0.5 else 0 for prob in cve_pred_probsr]\n",
    "print(Counter(cve_pred_labels))\n",
    "print(np.nonzero(cve_pred_labels))"
   ]
  },
  {
   "cell_type": "code",
   "execution_count": 81,
   "metadata": {},
   "outputs": [
    {
     "name": "stdout",
     "output_type": "stream",
     "text": [
      "Loading BERT Classifier CVE Model Weights\n",
      "692/692 [==============================] - 35s 51ms/step\n",
      "Counter({0: 685, 1: 7})\n",
      "(array([  9, 130, 433, 455, 639, 671, 685]),)\n"
     ]
    }
   ],
   "source": [
    "MODEL_PATH = '../../../dsarkar/saved_models/bert_vuln_models/bert_cve75_weights-ep:05-trn_loss:0.052-trn_acc:0.990-val_loss:0.288-val_acc:0.983.h5'\n",
    "bc.load_model_weights(model_weights_path=MODEL_PATH)\n",
    "\n",
    "cve_pred_probs = bc.model_estimator.predict(x=[btp_obj.input_ids, \n",
    "                                               btp_obj.input_masks, \n",
    "                                               btp_obj.segment_ids],\n",
    "                                            batch_size=200,\n",
    "                                            verbose=1)\n",
    "cve_pred_probsr = cve_pred_probs.ravel()\n",
    "cve_pred_labels = [1 if prob > 0.5 else 0 for prob in cve_pred_probsr]\n",
    "print(Counter(cve_pred_labels))\n",
    "print(np.nonzero(cve_pred_labels))"
   ]
  },
  {
   "cell_type": "code",
   "execution_count": 82,
   "metadata": {},
   "outputs": [
    {
     "name": "stdout",
     "output_type": "stream",
     "text": [
      "Loading BERT Classifier CVE Model Weights\n",
      "692/692 [==============================] - 35s 51ms/step\n",
      "Counter({0: 679, 1: 13})\n",
      "(array([  9, 144, 180, 268, 433, 622, 639, 643, 650, 661, 663, 671, 685]),)\n"
     ]
    }
   ],
   "source": [
    "MODEL_PATH = '../../../dsarkar/saved_models/bert_vuln_models/bert_cve99_weights-ep:01-trn_loss:0.375-trn_acc:0.906-val_loss:0.278-val_acc:0.984.h5'\n",
    "bc.load_model_weights(model_weights_path=MODEL_PATH)\n",
    "\n",
    "cve_pred_probs = bc.model_estimator.predict(x=[btp_obj.input_ids, \n",
    "                                               btp_obj.input_masks, \n",
    "                                               btp_obj.segment_ids],\n",
    "                                            batch_size=200,\n",
    "                                            verbose=1)\n",
    "cve_pred_probsr = cve_pred_probs.ravel()\n",
    "cve_pred_labels = [1 if prob > 0.5 else 0 for prob in cve_pred_probsr]\n",
    "print(Counter(cve_pred_labels))\n",
    "print(np.nonzero(cve_pred_labels))"
   ]
  },
  {
   "cell_type": "code",
   "execution_count": 83,
   "metadata": {},
   "outputs": [
    {
     "name": "stdout",
     "output_type": "stream",
     "text": [
      "Loading BERT Classifier CVE Model Weights\n",
      "692/692 [==============================] - 35s 51ms/step\n",
      "Counter({0: 621, 1: 71})\n",
      "(array([  2,   9,  11,  26,  92,  93, 130, 144, 154, 161, 169, 178, 180,\n",
      "       199, 202, 203, 210, 226, 228, 235, 241, 257, 264, 268, 269, 277,\n",
      "       279, 284, 289, 314, 334, 361, 422, 433, 440, 450, 455, 457, 469,\n",
      "       476, 488, 490, 491, 494, 495, 496, 497, 511, 519, 541, 561, 577,\n",
      "       578, 580, 588, 593, 597, 601, 606, 621, 622, 637, 639, 643, 650,\n",
      "       656, 657, 661, 663, 671, 676]),)\n"
     ]
    }
   ],
   "source": [
    "MODEL_PATH = '../../../dsarkar/saved_models/bert_vuln_models/bert_cve99_weights-ep:02-trn_loss:0.194-trn_acc:0.953-val_loss:0.217-val_acc:0.948.h5'\n",
    "bc.load_model_weights(model_weights_path=MODEL_PATH)\n",
    "\n",
    "cve_pred_probs = bc.model_estimator.predict(x=[btp_obj.input_ids, \n",
    "                                               btp_obj.input_masks, \n",
    "                                               btp_obj.segment_ids],\n",
    "                                            batch_size=200,\n",
    "                                            verbose=1)\n",
    "cve_pred_probsr = cve_pred_probs.ravel()\n",
    "cve_pred_labels = [1 if prob > 0.5 else 0 for prob in cve_pred_probsr]\n",
    "print(Counter(cve_pred_labels))\n",
    "print(np.nonzero(cve_pred_labels))"
   ]
  },
  {
   "cell_type": "code",
   "execution_count": 84,
   "metadata": {},
   "outputs": [
    {
     "name": "stdout",
     "output_type": "stream",
     "text": [
      "Loading BERT Classifier CVE Model Weights\n",
      "692/692 [==============================] - 35s 51ms/step\n",
      "Counter({0: 679, 1: 13})\n",
      "(array([144, 268, 433, 455, 519, 622, 639, 643, 650, 657, 663, 671, 685]),)\n"
     ]
    }
   ],
   "source": [
    "MODEL_PATH = '../../../dsarkar/saved_models/bert_vuln_models/bert_cve99_weights-ep:03-trn_loss:0.111-trn_acc:0.976-val_loss:0.308-val_acc:0.980.h5'\n",
    "bc.load_model_weights(model_weights_path=MODEL_PATH)\n",
    "\n",
    "cve_pred_probs = bc.model_estimator.predict(x=[btp_obj.input_ids, \n",
    "                                               btp_obj.input_masks, \n",
    "                                               btp_obj.segment_ids],\n",
    "                                            batch_size=200,\n",
    "                                            verbose=1)\n",
    "cve_pred_probsr = cve_pred_probs.ravel()\n",
    "cve_pred_labels = [1 if prob > 0.5 else 0 for prob in cve_pred_probsr]\n",
    "print(Counter(cve_pred_labels))\n",
    "print(np.nonzero(cve_pred_labels))"
   ]
  },
  {
   "cell_type": "code",
   "execution_count": 85,
   "metadata": {},
   "outputs": [
    {
     "name": "stdout",
     "output_type": "stream",
     "text": [
      "Loading BERT Classifier CVE Model Weights\n",
      "692/692 [==============================] - 35s 51ms/step\n",
      "Counter({0: 677, 1: 15})\n",
      "(array([  9, 154, 178, 433, 455, 511, 519, 622, 637, 639, 643, 650, 671,\n",
      "       676, 682]),)\n"
     ]
    }
   ],
   "source": [
    "MODEL_PATH = '../../../dsarkar/saved_models/bert_vuln_models/bert_cve99_weights-ep:04-trn_loss:0.075-trn_acc:0.984-val_loss:0.275-val_acc:0.983.h5'\n",
    "bc.load_model_weights(model_weights_path=MODEL_PATH)\n",
    "\n",
    "cve_pred_probs = bc.model_estimator.predict(x=[btp_obj.input_ids, \n",
    "                                               btp_obj.input_masks, \n",
    "                                               btp_obj.segment_ids],\n",
    "                                            batch_size=200,\n",
    "                                            verbose=1)\n",
    "cve_pred_probsr = cve_pred_probs.ravel()\n",
    "cve_pred_labels = [1 if prob > 0.5 else 0 for prob in cve_pred_probsr]\n",
    "print(Counter(cve_pred_labels))\n",
    "print(np.nonzero(cve_pred_labels))"
   ]
  },
  {
   "cell_type": "code",
   "execution_count": 86,
   "metadata": {},
   "outputs": [
    {
     "name": "stdout",
     "output_type": "stream",
     "text": [
      "Loading BERT Classifier CVE Model Weights\n",
      "692/692 [==============================] - 35s 51ms/step\n",
      "Counter({0: 682, 1: 10})\n",
      "(array([  9, 269, 433, 455, 457, 611, 639, 643, 671, 688]),)\n"
     ]
    }
   ],
   "source": [
    "MODEL_PATH = '../../../dsarkar/saved_models/bert_vuln_models/bert_cve99_weights-ep:05-trn_loss:0.076-trn_acc:0.983-val_loss:0.368-val_acc:0.981.h5'\n",
    "bc.load_model_weights(model_weights_path=MODEL_PATH)\n",
    "\n",
    "cve_pred_probs = bc.model_estimator.predict(x=[btp_obj.input_ids, \n",
    "                                               btp_obj.input_masks, \n",
    "                                               btp_obj.segment_ids],\n",
    "                                            batch_size=200,\n",
    "                                            verbose=1)\n",
    "cve_pred_probsr = cve_pred_probs.ravel()\n",
    "cve_pred_labels = [1 if prob > 0.5 else 0 for prob in cve_pred_probsr]\n",
    "print(Counter(cve_pred_labels))\n",
    "print(np.nonzero(cve_pred_labels))"
   ]
  },
  {
   "cell_type": "code",
   "execution_count": 87,
   "metadata": {},
   "outputs": [
    {
     "name": "stdout",
     "output_type": "stream",
     "text": [
      "Loading BERT Classifier CVE Model Weights\n",
      "692/692 [==============================] - 35s 51ms/step\n",
      "Counter({0: 582, 1: 110})\n",
      "(array([  2,   9,  11,  26,  36,  84,  92, 130, 150, 153, 154, 155, 159,\n",
      "       165, 172, 173, 178, 179, 180, 181, 213, 220, 227, 228, 268, 269,\n",
      "       284, 286, 289, 312, 319, 336, 351, 352, 355, 361, 383, 384, 389,\n",
      "       417, 424, 433, 440, 450, 455, 457, 461, 462, 465, 466, 468, 469,\n",
      "       477, 480, 484, 488, 496, 498, 511, 512, 519, 520, 523, 537, 541,\n",
      "       544, 547, 548, 561, 563, 564, 565, 567, 570, 572, 577, 578, 580,\n",
      "       581, 588, 593, 594, 597, 599, 601, 622, 637, 639, 643, 645, 650,\n",
      "       651, 654, 657, 658, 659, 660, 661, 662, 665, 666, 670, 671, 672,\n",
      "       676, 679, 681, 682, 688, 691]),)\n"
     ]
    }
   ],
   "source": [
    "MODEL_PATH = '../../../dsarkar/saved_models/bert_vuln_models/bert_cve99iter2_weights-ep:01-trn_loss:0.380-trn_acc:0.915-val_loss:0.229-val_acc:0.927.h5'\n",
    "bc.load_model_weights(model_weights_path=MODEL_PATH)\n",
    "\n",
    "cve_pred_probs = bc.model_estimator.predict(x=[btp_obj.input_ids, \n",
    "                                               btp_obj.input_masks, \n",
    "                                               btp_obj.segment_ids],\n",
    "                                            batch_size=200,\n",
    "                                            verbose=1)\n",
    "cve_pred_probsr = cve_pred_probs.ravel()\n",
    "cve_pred_labels = [1 if prob > 0.5 else 0 for prob in cve_pred_probsr]\n",
    "print(Counter(cve_pred_labels))\n",
    "print(np.nonzero(cve_pred_labels))"
   ]
  },
  {
   "cell_type": "code",
   "execution_count": 88,
   "metadata": {},
   "outputs": [
    {
     "name": "stdout",
     "output_type": "stream",
     "text": [
      "Loading BERT Classifier CVE Model Weights\n",
      "692/692 [==============================] - 35s 51ms/step\n",
      "Counter({0: 619, 1: 73})\n",
      "(array([  9,  11,  26,  92,  93, 130, 144, 147, 150, 154, 155, 178, 180,\n",
      "       199, 202, 211, 212, 213, 227, 228, 230, 235, 238, 241, 242, 244,\n",
      "       257, 262, 264, 268, 269, 277, 289, 319, 324, 334, 349, 352, 389,\n",
      "       417, 432, 433, 440, 450, 455, 457, 476, 488, 496, 506, 534, 580,\n",
      "       588, 594, 597, 599, 601, 621, 622, 637, 639, 643, 650, 661, 663,\n",
      "       671, 673, 676, 681, 684, 685, 687, 688]),)\n"
     ]
    }
   ],
   "source": [
    "MODEL_PATH = '../../../dsarkar/saved_models/bert_vuln_models/bert_cve99iter2_weights-ep:02-trn_loss:0.166-trn_acc:0.963-val_loss:0.200-val_acc:0.947.h5'\n",
    "bc.load_model_weights(model_weights_path=MODEL_PATH)\n",
    "\n",
    "cve_pred_probs = bc.model_estimator.predict(x=[btp_obj.input_ids, \n",
    "                                               btp_obj.input_masks, \n",
    "                                               btp_obj.segment_ids],\n",
    "                                            batch_size=200,\n",
    "                                            verbose=1)\n",
    "cve_pred_probsr = cve_pred_probs.ravel()\n",
    "cve_pred_labels = [1 if prob > 0.5 else 0 for prob in cve_pred_probsr]\n",
    "print(Counter(cve_pred_labels))\n",
    "print(np.nonzero(cve_pred_labels))"
   ]
  },
  {
   "cell_type": "code",
   "execution_count": 89,
   "metadata": {},
   "outputs": [
    {
     "name": "stdout",
     "output_type": "stream",
     "text": [
      "Loading BERT Classifier CVE Model Weights\n",
      "692/692 [==============================] - 35s 51ms/step\n",
      "Counter({0: 677, 1: 15})\n",
      "(array([150, 180, 228, 268, 277, 289, 334, 389, 433, 588, 639, 643, 650,\n",
      "       671, 676]),)\n"
     ]
    }
   ],
   "source": [
    "MODEL_PATH = '../../../dsarkar/saved_models/bert_vuln_models/bert_cve99iter2_weights-ep:03-trn_loss:0.098-trn_acc:0.978-val_loss:0.255-val_acc:0.981.h5'\n",
    "bc.load_model_weights(model_weights_path=MODEL_PATH)\n",
    "\n",
    "cve_pred_probs = bc.model_estimator.predict(x=[btp_obj.input_ids, \n",
    "                                               btp_obj.input_masks, \n",
    "                                               btp_obj.segment_ids],\n",
    "                                            batch_size=200,\n",
    "                                            verbose=1)\n",
    "cve_pred_probsr = cve_pred_probs.ravel()\n",
    "cve_pred_labels = [1 if prob > 0.5 else 0 for prob in cve_pred_probsr]\n",
    "print(Counter(cve_pred_labels))\n",
    "print(np.nonzero(cve_pred_labels))"
   ]
  },
  {
   "cell_type": "code",
   "execution_count": 90,
   "metadata": {},
   "outputs": [
    {
     "name": "stdout",
     "output_type": "stream",
     "text": [
      "Loading BERT Classifier CVE Model Weights\n",
      "692/692 [==============================] - 35s 51ms/step\n",
      "Counter({0: 678, 1: 14})\n",
      "(array([150, 269, 389, 433, 450, 457, 588, 601, 637, 639, 643, 650, 671,\n",
      "       676]),)\n"
     ]
    }
   ],
   "source": [
    "MODEL_PATH = '../../../dsarkar/saved_models/bert_vuln_models/bert_cve99iter2_weights-ep:04-trn_loss:0.058-trn_acc:0.990-val_loss:0.232-val_acc:0.983.h5'\n",
    "bc.load_model_weights(model_weights_path=MODEL_PATH)\n",
    "\n",
    "cve_pred_probs = bc.model_estimator.predict(x=[btp_obj.input_ids, \n",
    "                                               btp_obj.input_masks, \n",
    "                                               btp_obj.segment_ids],\n",
    "                                            batch_size=200,\n",
    "                                            verbose=1)\n",
    "cve_pred_probsr = cve_pred_probs.ravel()\n",
    "cve_pred_labels = [1 if prob > 0.5 else 0 for prob in cve_pred_probsr]\n",
    "print(Counter(cve_pred_labels))\n",
    "print(np.nonzero(cve_pred_labels))"
   ]
  },
  {
   "cell_type": "code",
   "execution_count": 91,
   "metadata": {},
   "outputs": [
    {
     "name": "stdout",
     "output_type": "stream",
     "text": [
      "Loading BERT Classifier CVE Model Weights\n",
      "692/692 [==============================] - 35s 50ms/step\n",
      "Counter({0: 683, 1: 9})\n",
      "(array([150, 269, 450, 588, 637, 639, 643, 671, 676]),)\n"
     ]
    }
   ],
   "source": [
    "MODEL_PATH = '../../../dsarkar/saved_models/bert_vuln_models/bert_cve99iter2_weights-ep:05-trn_loss:0.040-trn_acc:0.994-val_loss:0.306-val_acc:0.984.h5'\n",
    "bc.load_model_weights(model_weights_path=MODEL_PATH)\n",
    "\n",
    "cve_pred_probs = bc.model_estimator.predict(x=[btp_obj.input_ids, \n",
    "                                               btp_obj.input_masks, \n",
    "                                               btp_obj.segment_ids],\n",
    "                                            batch_size=200,\n",
    "                                            verbose=1)\n",
    "cve_pred_probsr = cve_pred_probs.ravel()\n",
    "cve_pred_labels = [1 if prob > 0.5 else 0 for prob in cve_pred_probsr]\n",
    "print(Counter(cve_pred_labels))\n",
    "print(np.nonzero(cve_pred_labels))"
   ]
  },
  {
   "cell_type": "code",
   "execution_count": 92,
   "metadata": {},
   "outputs": [
    {
     "name": "stdout",
     "output_type": "stream",
     "text": [
      "Loading BERT Classifier CVE Model Weights\n",
      "692/692 [==============================] - 35s 51ms/step\n",
      "Counter({0: 648, 1: 44})\n",
      "(array([  2,   9,  11,  92, 130, 150, 154, 161, 178, 199, 209, 212, 228,\n",
      "       264, 269, 271, 277, 279, 289, 334, 389, 433, 440, 450, 455, 457,\n",
      "       488, 496, 570, 588, 593, 597, 599, 601, 604, 622, 637, 639, 643,\n",
      "       650, 658, 671, 676, 679]),)\n"
     ]
    }
   ],
   "source": [
    "MODEL_PATH = '../../../dsarkar/saved_models/bert_vuln_models/bert_cve99iter2_weights-ep:06-trn_loss:0.026-trn_acc:0.994-val_loss:0.219-val_acc:0.964.h5'\n",
    "bc.load_model_weights(model_weights_path=MODEL_PATH)\n",
    "\n",
    "cve_pred_probs = bc.model_estimator.predict(x=[btp_obj.input_ids, \n",
    "                                               btp_obj.input_masks, \n",
    "                                               btp_obj.segment_ids],\n",
    "                                            batch_size=200,\n",
    "                                            verbose=1)\n",
    "cve_pred_probsr = cve_pred_probs.ravel()\n",
    "cve_pred_labels = [1 if prob > 0.5 else 0 for prob in cve_pred_probsr]\n",
    "print(Counter(cve_pred_labels))\n",
    "print(np.nonzero(cve_pred_labels))"
   ]
  },
  {
   "cell_type": "code",
   "execution_count": 93,
   "metadata": {},
   "outputs": [
    {
     "name": "stdout",
     "output_type": "stream",
     "text": [
      "Loading BERT Classifier CVE Model Weights\n",
      "692/692 [==============================] - 35s 51ms/step\n",
      "Counter({0: 652, 1: 40})\n",
      "(array([  9, 130, 144, 150, 154, 178, 262, 269, 319, 334, 352, 389, 450,\n",
      "       455, 457, 463, 506, 519, 541, 547, 561, 570, 588, 599, 601, 637,\n",
      "       639, 643, 650, 656, 663, 669, 670, 671, 676, 677, 680, 684, 685,\n",
      "       686]),)\n"
     ]
    }
   ],
   "source": [
    "MODEL_PATH = '../../../dsarkar/saved_models/bert_vuln_models/bert_cve99iter2_weights-ep:07-trn_loss:0.025-trn_acc:0.994-val_loss:0.286-val_acc:0.970.h5'\n",
    "bc.load_model_weights(model_weights_path=MODEL_PATH)\n",
    "\n",
    "cve_pred_probs = bc.model_estimator.predict(x=[btp_obj.input_ids, \n",
    "                                               btp_obj.input_masks, \n",
    "                                               btp_obj.segment_ids],\n",
    "                                            batch_size=200,\n",
    "                                            verbose=1)\n",
    "cve_pred_probsr = cve_pred_probs.ravel()\n",
    "cve_pred_labels = [1 if prob > 0.5 else 0 for prob in cve_pred_probsr]\n",
    "print(Counter(cve_pred_labels))\n",
    "print(np.nonzero(cve_pred_labels))"
   ]
  },
  {
   "cell_type": "code",
   "execution_count": 94,
   "metadata": {},
   "outputs": [
    {
     "name": "stdout",
     "output_type": "stream",
     "text": [
      "Loading BERT Classifier CVE Model Weights\n",
      "692/692 [==============================] - 35s 51ms/step\n",
      "Counter({0: 688, 1: 4})\n",
      "(array([389, 650, 671, 676]),)\n"
     ]
    }
   ],
   "source": [
    "MODEL_PATH = '../../../dsarkar/saved_models/bert_vuln_models/bert_cve99iter2_weights-ep:08-trn_loss:0.005-trn_acc:0.998-val_loss:1.037-val_acc:0.983.h5'\n",
    "bc.load_model_weights(model_weights_path=MODEL_PATH)\n",
    "\n",
    "cve_pred_probs = bc.model_estimator.predict(x=[btp_obj.input_ids, \n",
    "                                               btp_obj.input_masks, \n",
    "                                               btp_obj.segment_ids],\n",
    "                                            batch_size=200,\n",
    "                                            verbose=1)\n",
    "cve_pred_probsr = cve_pred_probs.ravel()\n",
    "cve_pred_labels = [1 if prob > 0.5 else 0 for prob in cve_pred_probsr]\n",
    "print(Counter(cve_pred_labels))\n",
    "print(np.nonzero(cve_pred_labels))"
   ]
  },
  {
   "cell_type": "code",
   "execution_count": 95,
   "metadata": {},
   "outputs": [
    {
     "name": "stdout",
     "output_type": "stream",
     "text": [
      "Loading BERT Classifier CVE Model Weights\n",
      "692/692 [==============================] - 35s 50ms/step\n",
      "Counter({0: 677, 1: 15})\n",
      "(array([130, 150, 295, 334, 455, 588, 603, 637, 639, 650, 663, 671, 676,\n",
      "       677, 685]),)\n"
     ]
    }
   ],
   "source": [
    "MODEL_PATH = '../../../dsarkar/saved_models/bert_vuln_models/bert_cve99iter2_weights-ep:09-trn_loss:0.029-trn_acc:0.995-val_loss:0.404-val_acc:0.982.h5'\n",
    "bc.load_model_weights(model_weights_path=MODEL_PATH)\n",
    "\n",
    "cve_pred_probs = bc.model_estimator.predict(x=[btp_obj.input_ids, \n",
    "                                               btp_obj.input_masks, \n",
    "                                               btp_obj.segment_ids],\n",
    "                                            batch_size=200,\n",
    "                                            verbose=1)\n",
    "cve_pred_probsr = cve_pred_probs.ravel()\n",
    "cve_pred_labels = [1 if prob > 0.5 else 0 for prob in cve_pred_probsr]\n",
    "print(Counter(cve_pred_labels))\n",
    "print(np.nonzero(cve_pred_labels))"
   ]
  },
  {
   "cell_type": "code",
   "execution_count": 96,
   "metadata": {},
   "outputs": [
    {
     "name": "stdout",
     "output_type": "stream",
     "text": [
      "Loading BERT Classifier CVE Model Weights\n",
      "692/692 [==============================] - 35s 51ms/step\n",
      "Counter({0: 681, 1: 11})\n",
      "(array([150, 269, 295, 455, 637, 643, 650, 663, 671, 685, 688]),)\n"
     ]
    }
   ],
   "source": [
    "MODEL_PATH = '../../../dsarkar/saved_models/bert_vuln_models/bert_cve99iter2_weights-ep:10-trn_loss:0.025-trn_acc:0.996-val_loss:0.454-val_acc:0.982.h5'\n",
    "bc.load_model_weights(model_weights_path=MODEL_PATH)\n",
    "\n",
    "cve_pred_probs = bc.model_estimator.predict(x=[btp_obj.input_ids, \n",
    "                                               btp_obj.input_masks, \n",
    "                                               btp_obj.segment_ids],\n",
    "                                            batch_size=200,\n",
    "                                            verbose=1)\n",
    "cve_pred_probsr = cve_pred_probs.ravel()\n",
    "cve_pred_labels = [1 if prob > 0.5 else 0 for prob in cve_pred_probsr]\n",
    "print(Counter(cve_pred_labels))\n",
    "print(np.nonzero(cve_pred_labels))"
   ]
  },
  {
   "cell_type": "code",
   "execution_count": 114,
   "metadata": {},
   "outputs": [
    {
     "name": "stdout",
     "output_type": "stream",
     "text": [
      "0 :-> https://github.com/influxdata/influxdb/issues/10542\n",
      "1 :-> https://github.com/influxdata/influxdb/issues/9468\n",
      "2 :-> https://github.com/kubernetes/kubernetes/issues/78467\n",
      "3 :-> https://github.com/openshift/openshift-ansible/issues/11781\n",
      "4 :-> https://github.com/operator-framework/operator-sdk/issues/1771\n",
      "5 :-> https://github.com/sirupsen/logrus/issues/999\n",
      "6 :-> https://github.com/istio/istio/pull/16047\n",
      "7 :-> https://github.com/knative/serving/pull/4958\n",
      "8 :-> https://github.com/kubernetes/kubernetes/pull/80730\n",
      "9 :-> https://github.com/kubernetes/kubernetes/pull/80764\n",
      "10 :-> https://github.com/kubernetes/kubernetes/pull/80905\n",
      "11 :-> https://github.com/kubernetes/test-infra/pull/13702\n",
      "12 :-> https://github.com/openshift/console/pull/2193\n",
      "13 :-> https://github.com/openshift/image-registry/pull/184\n"
     ]
    }
   ],
   "source": [
    "for i, v in enumerate(subset_df.iloc[ [150, 269, 389, 433, 450, 457, 588, 601, 637, 639, 643, 650, 671,\n",
    "       676]]['url'].values):\n",
    "    print(i, ':->', v)\n",
    "    \n",
    "    \n",
    "     "
   ]
  },
  {
   "cell_type": "code",
   "execution_count": 112,
   "metadata": {},
   "outputs": [
    {
     "data": {
      "text/plain": [
       "'https://github.com/kubernetes/kubernetes/issues/78467'"
      ]
     },
     "execution_count": 112,
     "metadata": {},
     "output_type": "execute_result"
    }
   ],
   "source": [
    "subset_df.iloc[389]['url']"
   ]
  },
  {
   "cell_type": "code",
   "execution_count": null,
   "metadata": {},
   "outputs": [],
   "source": []
  }
 ],
 "metadata": {
  "kernelspec": {
   "display_name": "Python 3",
   "language": "python",
   "name": "python3"
  },
  "language_info": {
   "codemirror_mode": {
    "name": "ipython",
    "version": 3
   },
   "file_extension": ".py",
   "mimetype": "text/x-python",
   "name": "python",
   "nbconvert_exporter": "python",
   "pygments_lexer": "ipython3",
   "version": "3.6.8"
  }
 },
 "nbformat": 4,
 "nbformat_minor": 2
}
