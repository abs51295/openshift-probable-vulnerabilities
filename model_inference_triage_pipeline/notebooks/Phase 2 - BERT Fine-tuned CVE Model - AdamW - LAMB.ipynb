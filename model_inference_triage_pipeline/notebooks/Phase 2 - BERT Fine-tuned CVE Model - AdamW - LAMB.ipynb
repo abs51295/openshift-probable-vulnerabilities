{
 "cells": [
  {
   "cell_type": "code",
   "execution_count": 1,
   "metadata": {},
   "outputs": [
    {
     "name": "stderr",
     "output_type": "stream",
     "text": [
      "/home/redanalyze/anaconda3/lib/python3.6/site-packages/tensorflow/python/framework/dtypes.py:523: FutureWarning: Passing (type, 1) or '1type' as a synonym of type is deprecated; in a future version of numpy, it will be understood as (type, (1,)) / '(1,)type'.\n",
      "  _np_qint8 = np.dtype([(\"qint8\", np.int8, 1)])\n",
      "/home/redanalyze/anaconda3/lib/python3.6/site-packages/tensorflow/python/framework/dtypes.py:524: FutureWarning: Passing (type, 1) or '1type' as a synonym of type is deprecated; in a future version of numpy, it will be understood as (type, (1,)) / '(1,)type'.\n",
      "  _np_quint8 = np.dtype([(\"quint8\", np.uint8, 1)])\n",
      "/home/redanalyze/anaconda3/lib/python3.6/site-packages/tensorflow/python/framework/dtypes.py:525: FutureWarning: Passing (type, 1) or '1type' as a synonym of type is deprecated; in a future version of numpy, it will be understood as (type, (1,)) / '(1,)type'.\n",
      "  _np_qint16 = np.dtype([(\"qint16\", np.int16, 1)])\n",
      "/home/redanalyze/anaconda3/lib/python3.6/site-packages/tensorflow/python/framework/dtypes.py:526: FutureWarning: Passing (type, 1) or '1type' as a synonym of type is deprecated; in a future version of numpy, it will be understood as (type, (1,)) / '(1,)type'.\n",
      "  _np_quint16 = np.dtype([(\"quint16\", np.uint16, 1)])\n",
      "/home/redanalyze/anaconda3/lib/python3.6/site-packages/tensorflow/python/framework/dtypes.py:527: FutureWarning: Passing (type, 1) or '1type' as a synonym of type is deprecated; in a future version of numpy, it will be understood as (type, (1,)) / '(1,)type'.\n",
      "  _np_qint32 = np.dtype([(\"qint32\", np.int32, 1)])\n",
      "/home/redanalyze/anaconda3/lib/python3.6/site-packages/tensorflow/python/framework/dtypes.py:532: FutureWarning: Passing (type, 1) or '1type' as a synonym of type is deprecated; in a future version of numpy, it will be understood as (type, (1,)) / '(1,)type'.\n",
      "  np_resource = np.dtype([(\"resource\", np.ubyte, 1)])\n"
     ]
    }
   ],
   "source": [
    "import pandas as pd\n",
    "import numpy as np\n",
    "import tensorflow as tf\n",
    "import matplotlib.pyplot as plt\n",
    "\n",
    "\n",
    "SEED = 42\n",
    "np.random.seed(SEED)\n",
    "tf.set_random_seed(SEED)"
   ]
  },
  {
   "cell_type": "code",
   "execution_count": 2,
   "metadata": {},
   "outputs": [
    {
     "name": "stdout",
     "output_type": "stream",
     "text": [
      "<class 'pandas.core.frame.DataFrame'>\n",
      "RangeIndex: 152151 entries, 0 to 152150\n",
      "Data columns (total 2 columns):\n",
      "description    152151 non-null object\n",
      "label          152151 non-null int64\n",
      "dtypes: int64(1), object(1)\n",
      "memory usage: 2.3+ MB\n"
     ]
    }
   ],
   "source": [
    "dataset = pd.read_csv('../../../data/GH_complete_labeled_issues_prs - preprocessed.csv', encoding='utf-8', \n",
    "                      na_filter=False)\n",
    "dataset.info()"
   ]
  },
  {
   "cell_type": "code",
   "execution_count": 3,
   "metadata": {},
   "outputs": [
    {
     "name": "stdout",
     "output_type": "stream",
     "text": [
      "Before: Counter({1: 22572, 2: 671})\n",
      "After: Counter({0: 22572, 1: 671})\n"
     ]
    }
   ],
   "source": [
    "from collections import Counter\n",
    "\n",
    "dataset = dataset[dataset.label != 0]\n",
    "texts = dataset['description'].tolist()\n",
    "labels = dataset['label'].tolist()\n",
    "\n",
    "print('Before:', Counter(labels))\n",
    "labels = [0 if item == 1 else 1 for item in labels]\n",
    "print('After:', Counter(labels))"
   ]
  },
  {
   "cell_type": "code",
   "execution_count": 4,
   "metadata": {},
   "outputs": [
    {
     "data": {
      "text/plain": [
       "(17432, 5811)"
      ]
     },
     "execution_count": 4,
     "metadata": {},
     "output_type": "execute_result"
    }
   ],
   "source": [
    "from sklearn.model_selection import train_test_split\n",
    "\n",
    "train_text, test_text, train_labels, test_labels = train_test_split(texts, labels, \n",
    "                                                                    test_size=0.25, random_state=SEED)\n",
    "len(train_text), len(test_text)"
   ]
  },
  {
   "cell_type": "code",
   "execution_count": 5,
   "metadata": {},
   "outputs": [
    {
     "data": {
      "text/plain": [
       "<matplotlib.lines.Line2D at 0x7fc2e4e68ef0>"
      ]
     },
     "execution_count": 5,
     "metadata": {},
     "output_type": "execute_result"
    },
    {
     "data": {
      "image/png": "[encoded data removed]",
      "text/plain": [
       "<Figure size 1440x360 with 3 Axes>"
      ]
     },
     "metadata": {
      "needs_background": "light"
     },
     "output_type": "display_data"
    }
   ],
   "source": [
    "train_doc_lens = [len(doc.split(' ')) for doc in train_text]\n",
    "f, ax = plt.subplots(1, 3, figsize=(20, 5))\n",
    "\n",
    "ax[0].hist(train_doc_lens, bins=100)\n",
    "ax[0].set_xlim([0, 1000])\n",
    "ax[0].axvline(512, linestyle='--', color='r')\n",
    "\n",
    "ax[1].hist(train_doc_lens, bins=100)\n",
    "ax[1].set_xlim([0, 2500])\n",
    "ax[1].axvline(512, linestyle='--', color='r')\n",
    "\n",
    "ax[2].hist(train_doc_lens, bins=100)\n",
    "ax[2].set_xlim([0, 5000])\n",
    "ax[2].axvline(512, linestyle='--', color='r')"
   ]
  },
  {
   "cell_type": "code",
   "execution_count": 6,
   "metadata": {},
   "outputs": [
    {
     "data": {
      "text/plain": [
       "Counter({0: 14826, 1: 2606})"
      ]
     },
     "execution_count": 6,
     "metadata": {},
     "output_type": "execute_result"
    }
   ],
   "source": [
    "Counter([1 if ln > 512 else 0 for ln in train_doc_lens])"
   ]
  },
  {
   "cell_type": "code",
   "execution_count": 7,
   "metadata": {},
   "outputs": [],
   "source": [
    "from utils import bert_text_processor as btp"
   ]
  },
  {
   "cell_type": "code",
   "execution_count": 8,
   "metadata": {},
   "outputs": [],
   "source": [
    "# Initialize session\n",
    "sess = tf.Session()\n",
    "\n",
    "# Params for bert model and tokenization\n",
    "BERT_PATH = \"models/model_assets/gokube-phase2/base_bert_tfhub_models/bert_uncased_L12_H768_A12\"\n",
    "MAX_SEQ_LENGTH = 512"
   ]
  },
  {
   "cell_type": "code",
   "execution_count": 9,
   "metadata": {},
   "outputs": [
    {
     "name": "stdout",
     "output_type": "stream",
     "text": [
      "Loading Base BERT Model\n",
      "INFO:tensorflow:Saver not created because there are no variables in the graph to restore\n"
     ]
    },
    {
     "name": "stderr",
     "output_type": "stream",
     "text": [
      "WARNING: Logging before flag parsing goes to stderr.\n",
      "I1126 19:55:18.530803 140477385926464 tf_logging.py:115] Saver not created because there are no variables in the graph to restore\n",
      "Converting text to examples: 17432it [00:00, 595802.60it/s]\n",
      "Converting examples to features:   0%|          | 0/17432 [00:00<?, ?it/s]"
     ]
    },
    {
     "name": "stdout",
     "output_type": "stream",
     "text": [
      "Loading BERT WordPiece Tokenizer\n",
      "Creating Input Examples from data\n",
      "Creating BERT Input Features from Input Examples\n"
     ]
    },
    {
     "name": "stderr",
     "output_type": "stream",
     "text": [
      "Converting examples to features: 100%|██████████| 17432/17432 [05:24<00:00, 53.72it/s] \n"
     ]
    },
    {
     "name": "stdout",
     "output_type": "stream",
     "text": [
      "Loading Base BERT Model\n",
      "INFO:tensorflow:Saver not created because there are no variables in the graph to restore\n"
     ]
    },
    {
     "name": "stderr",
     "output_type": "stream",
     "text": [
      "I1126 20:00:48.818341 140477385926464 tf_logging.py:115] Saver not created because there are no variables in the graph to restore\n",
      "Converting text to examples: 5811it [00:00, 522053.26it/s]\n",
      "Converting examples to features:   0%|          | 0/5811 [00:00<?, ?it/s]"
     ]
    },
    {
     "name": "stdout",
     "output_type": "stream",
     "text": [
      "Loading BERT WordPiece Tokenizer\n",
      "Creating Input Examples from data\n",
      "Creating BERT Input Features from Input Examples\n"
     ]
    },
    {
     "name": "stderr",
     "output_type": "stream",
     "text": [
      "Converting examples to features: 100%|██████████| 5811/5811 [01:41<00:00, 57.39it/s] \n"
     ]
    }
   ],
   "source": [
    "# process text data\n",
    "btp_train = btp.BertTextProcessor(tf_session=sess, \n",
    "                                  bert_model_path=BERT_PATH, \n",
    "                                  max_seq_length=MAX_SEQ_LENGTH)\n",
    "btp_train.create_bert_tokenizer()\n",
    "btp_train.convert_text_to_input_examples(train_text, train_labels)\n",
    "btp_train.convert_examples_to_features()\n",
    "\n",
    "\n",
    "btp_test = btp.BertTextProcessor(tf_session=sess, \n",
    "                                 bert_model_path=BERT_PATH, \n",
    "                                 max_seq_length=MAX_SEQ_LENGTH)\n",
    "btp_test.create_bert_tokenizer()\n",
    "btp_test.convert_text_to_input_examples(test_text)\n",
    "btp_test.convert_examples_to_features()"
   ]
  },
  {
   "cell_type": "code",
   "execution_count": 10,
   "metadata": {},
   "outputs": [],
   "source": [
    "from models import bert_cve_classifier as bcvec"
   ]
  },
  {
   "cell_type": "code",
   "execution_count": 11,
   "metadata": {},
   "outputs": [
    {
     "name": "stdout",
     "output_type": "stream",
     "text": [
      "Build BERT Classifier CVE Model Architecture\n",
      "Loading Base BERT Model\n",
      "Trainable layers: 199\n",
      "Non Trainable layers: 5\n",
      "Constructing Base BERT architecture\n",
      "INFO:tensorflow:Saver not created because there are no variables in the graph to restore\n"
     ]
    },
    {
     "name": "stderr",
     "output_type": "stream",
     "text": [
      "I1126 20:02:35.163871 140477385926464 tf_logging.py:115] Saver not created because there are no variables in the graph to restore\n"
     ]
    }
   ],
   "source": [
    "# load pre-trained base BERT model\n",
    "bc = bcvec.BERTClassifier(bert_model_path=BERT_PATH, \n",
    "                          max_seq_length=MAX_SEQ_LENGTH)\n",
    "bc.build_model_architecture()"
   ]
  },
  {
   "cell_type": "code",
   "execution_count": 12,
   "metadata": {},
   "outputs": [
    {
     "name": "stdout",
     "output_type": "stream",
     "text": [
      "__________________________________________________________________________________________________\n",
      "Layer (type)                    Output Shape         Param #     Connected to                     \n",
      "==================================================================================================\n",
      "input_ids (InputLayer)          (None, 512)          0                                            \n",
      "__________________________________________________________________________________________________\n",
      "input_masks (InputLayer)        (None, 512)          0                                            \n",
      "__________________________________________________________________________________________________\n",
      "segment_ids (InputLayer)        (None, 512)          0                                            \n",
      "__________________________________________________________________________________________________\n",
      "bert_layer (BertLayer)          (None, 768)          110104890   input_ids[0][0]                  \n",
      "                                                                 input_masks[0][0]                \n",
      "                                                                 segment_ids[0][0]                \n",
      "__________________________________________________________________________________________________\n",
      "dense (Dense)                   (None, 256)          196864      bert_layer[0][0]                 \n",
      "__________________________________________________________________________________________________\n",
      "dense_1 (Dense)                 (None, 1)            257         dense[0][0]                      \n",
      "==================================================================================================\n",
      "Total params: 110,302,011\n",
      "Trainable params: 109,679,361\n",
      "Non-trainable params: 622,650\n",
      "__________________________________________________________________________________________________\n"
     ]
    }
   ],
   "source": [
    "bc.model_estimator.summary()"
   ]
  },
  {
   "cell_type": "code",
   "execution_count": 13,
   "metadata": {},
   "outputs": [
    {
     "data": {
      "text/plain": [
       "{0: 0.5149474181732246, 1: 34.45059288537549}"
      ]
     },
     "execution_count": 13,
     "metadata": {},
     "output_type": "execute_result"
    }
   ],
   "source": [
    "from sklearn.utils import class_weight\n",
    "\n",
    "class_weights = class_weight.compute_class_weight('balanced',\n",
    "                                                  np.unique(btp_train.labels.ravel()),\n",
    "                                                  btp_train.labels.ravel())\n",
    "class_weights = dict(enumerate(class_weights))\n",
    "class_weights[1] *= 2\n",
    "class_weights"
   ]
  },
  {
   "cell_type": "code",
   "execution_count": 14,
   "metadata": {},
   "outputs": [],
   "source": [
    "modelckpt_cb = tf.keras.callbacks.ModelCheckpoint('bert_cve75_lamb_weights-ep:{epoch:02d}-trn_loss:{loss:.3f}-trn_acc:{acc:.3f}-val_loss:{val_loss:.3f}-val_acc:{val_acc:.3f}.h5', \n",
    "                                        save_weights_only=True, period=1, verbose=1)"
   ]
  },
  {
   "cell_type": "code",
   "execution_count": 15,
   "metadata": {},
   "outputs": [],
   "source": [
    "btp.initialize_vars(sess)"
   ]
  },
  {
   "cell_type": "code",
   "execution_count": 16,
   "metadata": {},
   "outputs": [
    {
     "name": "stderr",
     "output_type": "stream",
     "text": [
      "/home/redanalyze/anaconda3/lib/python3.6/site-packages/tensorflow/python/ops/gradients_impl.py:112: UserWarning: Converting sparse IndexedSlices to a dense Tensor of unknown shape. This may consume a large amount of memory.\n",
      "  \"Converting sparse IndexedSlices to a dense Tensor of unknown shape. \"\n"
     ]
    },
    {
     "name": "stdout",
     "output_type": "stream",
     "text": [
      "Train on 15688 samples, validate on 1744 samples\n",
      "Epoch 1/5\n",
      "15675/15688 [============================>.] - ETA: 1s - loss: 0.6992 - acc: 0.8585\n",
      "Epoch 00001: saving model to bert_cve75_lamb_weights-ep:01-trn_loss:0.700-trn_acc:0.859-val_loss:0.558-val_acc:0.977.h5\n",
      "15688/15688 [==============================] - 2089s 133ms/step - loss: 0.6997 - acc: 0.8586 - val_loss: 0.5582 - val_acc: 0.9771\n",
      "Epoch 2/5\n",
      "15675/15688 [============================>.] - ETA: 1s - loss: 0.6456 - acc: 0.9619\n",
      "Epoch 00002: saving model to bert_cve75_lamb_weights-ep:02-trn_loss:0.646-trn_acc:0.962-val_loss:0.558-val_acc:0.977.h5\n",
      "15688/15688 [==============================] - 2047s 130ms/step - loss: 0.6462 - acc: 0.9618 - val_loss: 0.5582 - val_acc: 0.9771\n",
      "Epoch 3/5\n",
      "15675/15688 [============================>.] - ETA: 1s - loss: 0.6319 - acc: 0.9549\n",
      "Epoch 00003: saving model to bert_cve75_lamb_weights-ep:03-trn_loss:0.632-trn_acc:0.955-val_loss:0.570-val_acc:0.977.h5\n",
      "15688/15688 [==============================] - 2036s 130ms/step - loss: 0.6317 - acc: 0.9549 - val_loss: 0.5702 - val_acc: 0.9771\n",
      "Epoch 4/5\n",
      "15675/15688 [============================>.] - ETA: 1s - loss: 0.6295 - acc: 0.9703\n",
      "Epoch 00004: saving model to bert_cve75_lamb_weights-ep:04-trn_loss:0.629-trn_acc:0.970-val_loss:0.574-val_acc:0.977.h5\n",
      "15688/15688 [==============================] - 2034s 130ms/step - loss: 0.6293 - acc: 0.9703 - val_loss: 0.5744 - val_acc: 0.9771\n",
      "Epoch 5/5\n",
      "15675/15688 [============================>.] - ETA: 1s - loss: 0.6257 - acc: 0.9703\n",
      "Epoch 00005: saving model to bert_cve75_lamb_weights-ep:05-trn_loss:0.625-trn_acc:0.970-val_loss:0.567-val_acc:0.977.h5\n",
      "15688/15688 [==============================] - 2027s 129ms/step - loss: 0.6255 - acc: 0.9703 - val_loss: 0.5666 - val_acc: 0.9771\n"
     ]
    }
   ],
   "source": [
    "history = bc.model_estimator.fit(x=[btp_train.input_ids, \n",
    "                                    btp_train.input_masks, \n",
    "                                    btp_train.segment_ids],\n",
    "                                 y=train_labels,\n",
    "                                 validation_split=0.1,\n",
    "                                 epochs=5,\n",
    "                                 batch_size=15,\n",
    "                                 class_weight=class_weights,\n",
    "                                 callbacks=[modelckpt_cb],\n",
    "                                 verbose=1\n",
    ")"
   ]
  },
  {
   "cell_type": "code",
   "execution_count": 28,
   "metadata": {},
   "outputs": [
    {
     "data": {
      "image/png": "[encoded data removed]",
      "text/plain": [
       "<Figure size 864x288 with 2 Axes>"
      ]
     },
     "metadata": {
      "needs_background": "light"
     },
     "output_type": "display_data"
    }
   ],
   "source": [
    "f, (ax1, ax2) = plt.subplots(1, 2, figsize=(12, 4))\n",
    "t = f.suptitle('BERT CVE Model Performance', fontsize=12)\n",
    "f.subplots_adjust(top=0.85, wspace=0.2)\n",
    "\n",
    "epochs = list(range(1,6))\n",
    "ax1.plot(epochs, history.history['acc'], label='Train Accuracy')\n",
    "ax1.plot(epochs, history.history['val_acc'], label='Validation Accuracy')\n",
    "ax1.set_ylabel('Accuracy Value')\n",
    "ax1.set_xlabel('Epoch')\n",
    "ax1.set_title('Accuracy')\n",
    "l1 = ax1.legend(loc=\"best\")\n",
    "\n",
    "ax2.plot(epochs, history.history['loss'], label='Train Loss')\n",
    "ax2.plot(epochs, history.history['val_loss'], label='Validation Loss')\n",
    "ax2.set_ylabel('Loss Value')\n",
    "ax2.set_xlabel('Epoch')\n",
    "ax2.set_title('Loss')\n",
    "l2 = ax2.legend(loc=\"best\")"
   ]
  },
  {
   "cell_type": "markdown",
   "metadata": {},
   "source": [
    "### Test every epoch on test data set"
   ]
  },
  {
   "cell_type": "code",
   "execution_count": 18,
   "metadata": {},
   "outputs": [
    {
     "data": {
      "text/plain": [
       "6225"
      ]
     },
     "execution_count": 18,
     "metadata": {},
     "output_type": "execute_result"
    }
   ],
   "source": [
    "import gc\n",
    "del bc\n",
    "gc.collect()"
   ]
  },
  {
   "cell_type": "code",
   "execution_count": 19,
   "metadata": {},
   "outputs": [],
   "source": [
    "from sklearn.metrics import confusion_matrix, classification_report"
   ]
  },
  {
   "cell_type": "code",
   "execution_count": 21,
   "metadata": {},
   "outputs": [
    {
     "name": "stdout",
     "output_type": "stream",
     "text": [
      "Build BERT Classifier CVE Model Architecture\n",
      "Loading Base BERT Model\n",
      "Trainable layers: 199\n",
      "Non Trainable layers: 5\n",
      "Constructing Base BERT architecture\n",
      "INFO:tensorflow:Saver not created because there are no variables in the graph to restore\n"
     ]
    },
    {
     "name": "stderr",
     "output_type": "stream",
     "text": [
      "I1127 01:43:47.537242 140477385926464 tf_logging.py:115] Saver not created because there are no variables in the graph to restore\n"
     ]
    },
    {
     "name": "stdout",
     "output_type": "stream",
     "text": [
      "Loading BERT Classifier CVE Model Weights\n",
      "5811/5811 [==============================] - 276s 47ms/step\n"
     ]
    }
   ],
   "source": [
    "bc = bcvec.BERTClassifier(bert_model_path=BERT_PATH, \n",
    "                          max_seq_length=MAX_SEQ_LENGTH)\n",
    "bc.build_model_architecture()\n",
    "bc.load_model_weights(model_weights_path='./bert_cve75_lamb_weights-ep:01-trn_loss:0.700-trn_acc:0.859-val_loss:0.558-val_acc:0.977.h5')\n",
    "test_predictions = bc.model_estimator.predict(x=[btp_test.input_ids, \n",
    "                                                 btp_test.input_masks, \n",
    "                                                 btp_test.segment_ids],\n",
    "                                                 batch_size=256,\n",
    "                                              verbose=1)"
   ]
  },
  {
   "cell_type": "code",
   "execution_count": 22,
   "metadata": {},
   "outputs": [
    {
     "name": "stdout",
     "output_type": "stream",
     "text": [
      "Performance Report:\n",
      "              precision    recall  f1-score   support\n",
      "\n",
      "           0       0.97      1.00      0.99      5646\n",
      "           1       0.00      0.00      0.00       165\n",
      "\n",
      "    accuracy                           0.97      5811\n",
      "   macro avg       0.49      0.50      0.49      5811\n",
      "weighted avg       0.94      0.97      0.96      5811\n",
      "\n",
      "[[5646    0]\n",
      " [ 165    0]]\n"
     ]
    },
    {
     "name": "stderr",
     "output_type": "stream",
     "text": [
      "/home/redanalyze/anaconda3/lib/python3.6/site-packages/sklearn/metrics/classification.py:1437: UndefinedMetricWarning: Precision and F-score are ill-defined and being set to 0.0 in labels with no predicted samples.\n",
      "  'precision', 'predicted', average, warn_for)\n"
     ]
    }
   ],
   "source": [
    "test_preds = test_predictions.ravel()\n",
    "test_preds = [1 if pred > 0.5 else 0 for pred in test_preds]\n",
    "print('Performance Report:')\n",
    "print(classification_report(y_true=test_labels, y_pred=test_preds))\n",
    "print(confusion_matrix(y_true=test_labels, y_pred=test_preds))"
   ]
  },
  {
   "cell_type": "code",
   "execution_count": 24,
   "metadata": {},
   "outputs": [
    {
     "name": "stdout",
     "output_type": "stream",
     "text": [
      "Build BERT Classifier CVE Model Architecture\n",
      "Loading Base BERT Model\n",
      "Trainable layers: 199\n",
      "Non Trainable layers: 5\n",
      "Constructing Base BERT architecture\n",
      "INFO:tensorflow:Saver not created because there are no variables in the graph to restore\n"
     ]
    },
    {
     "name": "stderr",
     "output_type": "stream",
     "text": [
      "I1127 01:52:53.391981 140477385926464 tf_logging.py:115] Saver not created because there are no variables in the graph to restore\n"
     ]
    },
    {
     "name": "stdout",
     "output_type": "stream",
     "text": [
      "Loading BERT Classifier CVE Model Weights\n",
      "5811/5811 [==============================] - 279s 48ms/step\n"
     ]
    }
   ],
   "source": [
    "del bc\n",
    "gc.collect()\n",
    "bc = bcvec.BERTClassifier(bert_model_path=BERT_PATH, \n",
    "                          max_seq_length=MAX_SEQ_LENGTH)\n",
    "bc.build_model_architecture()\n",
    "bc.load_model_weights(model_weights_path='./bert_cve75_lamb_weights-ep:02-trn_loss:0.646-trn_acc:0.962-val_loss:0.558-val_acc:0.977.h5')\n",
    "test_predictions = bc.model_estimator.predict(x=[btp_test.input_ids, \n",
    "                                                 btp_test.input_masks, \n",
    "                                                 btp_test.segment_ids],\n",
    "                                                 batch_size=256,\n",
    "                                              verbose=1)"
   ]
  },
  {
   "cell_type": "code",
   "execution_count": 25,
   "metadata": {},
   "outputs": [
    {
     "name": "stdout",
     "output_type": "stream",
     "text": [
      "Performance Report:\n",
      "              precision    recall  f1-score   support\n",
      "\n",
      "           0       0.97      1.00      0.99      5646\n",
      "           1       0.00      0.00      0.00       165\n",
      "\n",
      "    accuracy                           0.97      5811\n",
      "   macro avg       0.49      0.50      0.49      5811\n",
      "weighted avg       0.94      0.97      0.96      5811\n",
      "\n",
      "[[5646    0]\n",
      " [ 165    0]]\n"
     ]
    },
    {
     "name": "stderr",
     "output_type": "stream",
     "text": [
      "/home/redanalyze/anaconda3/lib/python3.6/site-packages/sklearn/metrics/classification.py:1437: UndefinedMetricWarning: Precision and F-score are ill-defined and being set to 0.0 in labels with no predicted samples.\n",
      "  'precision', 'predicted', average, warn_for)\n"
     ]
    }
   ],
   "source": [
    "test_preds = test_predictions.ravel()\n",
    "test_preds = [1 if pred > 0.5 else 0 for pred in test_preds]\n",
    "print('Performance Report:')\n",
    "print(classification_report(y_true=test_labels, y_pred=test_preds))\n",
    "print(confusion_matrix(y_true=test_labels, y_pred=test_preds))"
   ]
  },
  {
   "cell_type": "code",
   "execution_count": 26,
   "metadata": {},
   "outputs": [
    {
     "name": "stdout",
     "output_type": "stream",
     "text": [
      "Build BERT Classifier CVE Model Architecture\n",
      "Loading Base BERT Model\n",
      "Trainable layers: 199\n",
      "Non Trainable layers: 5\n",
      "Constructing Base BERT architecture\n",
      "INFO:tensorflow:Saver not created because there are no variables in the graph to restore\n"
     ]
    },
    {
     "name": "stderr",
     "output_type": "stream",
     "text": [
      "I1127 01:58:56.826063 140477385926464 tf_logging.py:115] Saver not created because there are no variables in the graph to restore\n"
     ]
    },
    {
     "name": "stdout",
     "output_type": "stream",
     "text": [
      "Loading BERT Classifier CVE Model Weights\n",
      "5811/5811 [==============================] - 280s 48ms/step\n"
     ]
    }
   ],
   "source": [
    "del bc\n",
    "gc.collect()\n",
    "bc = bcvec.BERTClassifier(bert_model_path=BERT_PATH, \n",
    "                          max_seq_length=MAX_SEQ_LENGTH)\n",
    "bc.build_model_architecture()\n",
    "bc.load_model_weights(model_weights_path='./bert_cve75_lamb_weights-ep:03-trn_loss:0.632-trn_acc:0.955-val_loss:0.570-val_acc:0.977.h5')\n",
    "test_predictions = bc.model_estimator.predict(x=[btp_test.input_ids, \n",
    "                                                 btp_test.input_masks, \n",
    "                                                 btp_test.segment_ids],\n",
    "                                                 batch_size=256,\n",
    "                                              verbose=1)"
   ]
  },
  {
   "cell_type": "code",
   "execution_count": 27,
   "metadata": {},
   "outputs": [
    {
     "name": "stdout",
     "output_type": "stream",
     "text": [
      "Performance Report:\n",
      "              precision    recall  f1-score   support\n",
      "\n",
      "           0       0.97      1.00      0.99      5646\n",
      "           1       0.00      0.00      0.00       165\n",
      "\n",
      "    accuracy                           0.97      5811\n",
      "   macro avg       0.49      0.50      0.49      5811\n",
      "weighted avg       0.94      0.97      0.96      5811\n",
      "\n",
      "[[5646    0]\n",
      " [ 165    0]]\n"
     ]
    },
    {
     "name": "stderr",
     "output_type": "stream",
     "text": [
      "/home/redanalyze/anaconda3/lib/python3.6/site-packages/sklearn/metrics/classification.py:1437: UndefinedMetricWarning: Precision and F-score are ill-defined and being set to 0.0 in labels with no predicted samples.\n",
      "  'precision', 'predicted', average, warn_for)\n"
     ]
    }
   ],
   "source": [
    "test_preds = test_predictions.ravel()\n",
    "test_preds = [1 if pred > 0.5 else 0 for pred in test_preds]\n",
    "print('Performance Report:')\n",
    "print(classification_report(y_true=test_labels, y_pred=test_preds))\n",
    "print(confusion_matrix(y_true=test_labels, y_pred=test_preds))"
   ]
  },
  {
   "cell_type": "code",
   "execution_count": 29,
   "metadata": {},
   "outputs": [
    {
     "name": "stdout",
     "output_type": "stream",
     "text": [
      "Build BERT Classifier CVE Model Architecture\n",
      "Loading Base BERT Model\n",
      "Trainable layers: 199\n",
      "Non Trainable layers: 5\n",
      "Constructing Base BERT architecture\n",
      "INFO:tensorflow:Saver not created because there are no variables in the graph to restore\n"
     ]
    },
    {
     "name": "stderr",
     "output_type": "stream",
     "text": [
      "I1127 10:41:10.530168 140477385926464 tf_logging.py:115] Saver not created because there are no variables in the graph to restore\n"
     ]
    },
    {
     "name": "stdout",
     "output_type": "stream",
     "text": [
      "Loading BERT Classifier CVE Model Weights\n",
      "5811/5811 [==============================] - 282s 49ms/step\n"
     ]
    }
   ],
   "source": [
    "del bc\n",
    "gc.collect()\n",
    "bc = bcvec.BERTClassifier(bert_model_path=BERT_PATH, \n",
    "                          max_seq_length=MAX_SEQ_LENGTH)\n",
    "bc.build_model_architecture()\n",
    "bc.load_model_weights(model_weights_path='./bert_cve75_lamb_weights-ep:04-trn_loss:0.629-trn_acc:0.970-val_loss:0.574-val_acc:0.977.h5')\n",
    "test_predictions = bc.model_estimator.predict(x=[btp_test.input_ids, \n",
    "                                                 btp_test.input_masks, \n",
    "                                                 btp_test.segment_ids],\n",
    "                                                 batch_size=256,\n",
    "                                              verbose=1)"
   ]
  },
  {
   "cell_type": "code",
   "execution_count": 30,
   "metadata": {},
   "outputs": [
    {
     "name": "stdout",
     "output_type": "stream",
     "text": [
      "Performance Report:\n",
      "              precision    recall  f1-score   support\n",
      "\n",
      "           0       0.97      1.00      0.99      5646\n",
      "           1       0.00      0.00      0.00       165\n",
      "\n",
      "    accuracy                           0.97      5811\n",
      "   macro avg       0.49      0.50      0.49      5811\n",
      "weighted avg       0.94      0.97      0.96      5811\n",
      "\n",
      "[[5646    0]\n",
      " [ 165    0]]\n"
     ]
    },
    {
     "name": "stderr",
     "output_type": "stream",
     "text": [
      "/home/redanalyze/anaconda3/lib/python3.6/site-packages/sklearn/metrics/classification.py:1437: UndefinedMetricWarning: Precision and F-score are ill-defined and being set to 0.0 in labels with no predicted samples.\n",
      "  'precision', 'predicted', average, warn_for)\n"
     ]
    }
   ],
   "source": [
    "test_preds = test_predictions.ravel()\n",
    "test_preds = [1 if pred > 0.5 else 0 for pred in test_preds]\n",
    "print('Performance Report:')\n",
    "print(classification_report(y_true=test_labels, y_pred=test_preds))\n",
    "print(confusion_matrix(y_true=test_labels, y_pred=test_preds))"
   ]
  },
  {
   "cell_type": "code",
   "execution_count": 32,
   "metadata": {},
   "outputs": [
    {
     "name": "stdout",
     "output_type": "stream",
     "text": [
      "Build BERT Classifier CVE Model Architecture\n",
      "Loading Base BERT Model\n",
      "Trainable layers: 199\n",
      "Non Trainable layers: 5\n",
      "Constructing Base BERT architecture\n",
      "INFO:tensorflow:Saver not created because there are no variables in the graph to restore\n"
     ]
    },
    {
     "name": "stderr",
     "output_type": "stream",
     "text": [
      "I1127 10:58:40.835271 140477385926464 tf_logging.py:115] Saver not created because there are no variables in the graph to restore\n"
     ]
    },
    {
     "name": "stdout",
     "output_type": "stream",
     "text": [
      "Loading BERT Classifier CVE Model Weights\n",
      "5811/5811 [==============================] - 286s 49ms/step\n"
     ]
    }
   ],
   "source": [
    "del bc\n",
    "gc.collect()\n",
    "bc = bcvec.BERTClassifier(bert_model_path=BERT_PATH, \n",
    "                          max_seq_length=MAX_SEQ_LENGTH)\n",
    "bc.build_model_architecture()\n",
    "bc.load_model_weights(model_weights_path='./bert_cve75_lamb_weights-ep:05-trn_loss:0.625-trn_acc:0.970-val_loss:0.567-val_acc:0.977.h5')\n",
    "test_predictions = bc.model_estimator.predict(x=[btp_test.input_ids, \n",
    "                                                 btp_test.input_masks, \n",
    "                                                 btp_test.segment_ids],\n",
    "                                                 batch_size=256,\n",
    "                                              verbose=1)"
   ]
  },
  {
   "cell_type": "code",
   "execution_count": 33,
   "metadata": {},
   "outputs": [
    {
     "name": "stdout",
     "output_type": "stream",
     "text": [
      "Performance Report:\n",
      "              precision    recall  f1-score   support\n",
      "\n",
      "           0       0.97      1.00      0.99      5646\n",
      "           1       0.00      0.00      0.00       165\n",
      "\n",
      "    accuracy                           0.97      5811\n",
      "   macro avg       0.49      0.50      0.49      5811\n",
      "weighted avg       0.94      0.97      0.96      5811\n",
      "\n",
      "[[5646    0]\n",
      " [ 165    0]]\n"
     ]
    },
    {
     "name": "stderr",
     "output_type": "stream",
     "text": [
      "/home/redanalyze/anaconda3/lib/python3.6/site-packages/sklearn/metrics/classification.py:1437: UndefinedMetricWarning: Precision and F-score are ill-defined and being set to 0.0 in labels with no predicted samples.\n",
      "  'precision', 'predicted', average, warn_for)\n"
     ]
    }
   ],
   "source": [
    "test_preds = test_predictions.ravel()\n",
    "test_preds = [1 if pred > 0.5 else 0 for pred in test_preds]\n",
    "print('Performance Report:')\n",
    "print(classification_report(y_true=test_labels, y_pred=test_preds))\n",
    "print(confusion_matrix(y_true=test_labels, y_pred=test_preds))"
   ]
  },
  {
   "cell_type": "markdown",
   "metadata": {},
   "source": [
    "### As we can see the model is not able to predict the CVE labels correctly"
   ]
  },
  {
   "cell_type": "code",
   "execution_count": 34,
   "metadata": {},
   "outputs": [
    {
     "data": {
      "text/plain": [
       "110"
      ]
     },
     "execution_count": 34,
     "metadata": {},
     "output_type": "execute_result"
    }
   ],
   "source": [
    "del bc\n",
    "gc.collect()"
   ]
  },
  {
   "cell_type": "markdown",
   "metadata": {},
   "source": [
    "### End of notebook as of 27th November, 2019. The below parts we will continue with the LAMB optimizer with the upcoming sprint. But, first we need to check, how to handle the flat accuracy part."
   ]
  },
  {
   "cell_type": "code",
   "execution_count": 1,
   "metadata": {},
   "outputs": [
    {
     "name": "stderr",
     "output_type": "stream",
     "text": [
      "WARNING: Logging before flag parsing goes to stderr.\n",
      "W0722 20:47:47.210887 140719148209984 __init__.py:56] Some hub symbols are not available because TensorFlow version is less than 1.14\n"
     ]
    }
   ],
   "source": [
    "import pandas as pd\n",
    "import numpy as np\n",
    "import tensorflow as tf\n",
    "import matplotlib.pyplot as plt\n",
    "from utils import bert_text_processor as btp\n",
    "from models import bert_cve_classifier as bcvec\n",
    "from sklearn.utils import class_weight\n",
    "from collections import Counter\n",
    "from sklearn.model_selection import train_test_split\n",
    "from sklearn.metrics import confusion_matrix, classification_report\n",
    "\n",
    "SEED = 42\n",
    "np.random.seed(SEED)\n",
    "tf.set_random_seed(SEED)"
   ]
  },
  {
   "cell_type": "code",
   "execution_count": 2,
   "metadata": {},
   "outputs": [
    {
     "name": "stdout",
     "output_type": "stream",
     "text": [
      "Before: Counter({1: 22572, 2: 671})\n",
      "After: Counter({0: 22572, 1: 671})\n"
     ]
    }
   ],
   "source": [
    "dataset = pd.read_csv('../../data/GH_complete_labeled_issues_prs - preprocessed.csv', encoding='utf-8', \n",
    "                      na_filter=False)\n",
    "dataset = dataset[dataset.label != 0]\n",
    "texts = dataset['description'].tolist()\n",
    "labels = dataset['label'].tolist()\n",
    "\n",
    "print('Before:', Counter(labels))\n",
    "labels = [0 if item == 1 else 1 for item in labels]\n",
    "print('After:', Counter(labels))"
   ]
  },
  {
   "cell_type": "code",
   "execution_count": 3,
   "metadata": {},
   "outputs": [
    {
     "data": {
      "text/plain": [
       "(23242, 1)"
      ]
     },
     "execution_count": 3,
     "metadata": {},
     "output_type": "execute_result"
    }
   ],
   "source": [
    "train_text, test_text, train_labels, test_labels = train_test_split(texts, labels, \n",
    "                                                                    test_size=1e-6, random_state=SEED)\n",
    "len(train_text), len(test_text)"
   ]
  },
  {
   "cell_type": "code",
   "execution_count": 4,
   "metadata": {},
   "outputs": [
    {
     "data": {
      "text/plain": [
       "<matplotlib.lines.Line2D at 0x7ffb2c579f28>"
      ]
     },
     "execution_count": 4,
     "metadata": {},
     "output_type": "execute_result"
    },
    {
     "data": {
      "image/png": "[encoded data removed]",
      "text/plain": [
       "<Figure size 1440x360 with 3 Axes>"
      ]
     },
     "metadata": {
      "needs_background": "light"
     },
     "output_type": "display_data"
    }
   ],
   "source": [
    "train_doc_lens = [len(doc.split(' ')) for doc in train_text]\n",
    "f, ax = plt.subplots(1, 3, figsize=(20, 5))\n",
    "\n",
    "ax[0].hist(train_doc_lens, bins=100)\n",
    "ax[0].set_xlim([0, 1000])\n",
    "ax[0].axvline(512, linestyle='--', color='r')\n",
    "\n",
    "ax[1].hist(train_doc_lens, bins=100)\n",
    "ax[1].set_xlim([0, 2500])\n",
    "ax[1].axvline(512, linestyle='--', color='r')\n",
    "\n",
    "ax[2].hist(train_doc_lens, bins=100)\n",
    "ax[2].set_xlim([0, 5000])\n",
    "ax[2].axvline(512, linestyle='--', color='r')"
   ]
  },
  {
   "cell_type": "code",
   "execution_count": 5,
   "metadata": {},
   "outputs": [
    {
     "data": {
      "text/plain": [
       "Counter({0: 19812, 1: 3430})"
      ]
     },
     "execution_count": 5,
     "metadata": {},
     "output_type": "execute_result"
    }
   ],
   "source": [
    "Counter([1 if ln > 512 else 0 for ln in train_doc_lens])"
   ]
  },
  {
   "cell_type": "code",
   "execution_count": 6,
   "metadata": {},
   "outputs": [],
   "source": [
    "# Initialize session\n",
    "sess = tf.Session()\n",
    "\n",
    "# Params for bert model and tokenization\n",
    "BERT_PATH = \"models/model_assets/gokube-phase2/base_bert_tfhub_models/bert_uncased_L12_H768_A12\"\n",
    "MAX_SEQ_LENGTH = 512"
   ]
  },
  {
   "cell_type": "code",
   "execution_count": 7,
   "metadata": {},
   "outputs": [
    {
     "name": "stdout",
     "output_type": "stream",
     "text": [
      "Loading Base BERT Model\n",
      "INFO:tensorflow:Saver not created because there are no variables in the graph to restore\n"
     ]
    },
    {
     "name": "stderr",
     "output_type": "stream",
     "text": [
      "I0722 20:48:03.283648 140719148209984 tf_logging.py:115] Saver not created because there are no variables in the graph to restore\n",
      "Converting text to examples: 23242it [00:00, 605558.47it/s]\n",
      "Converting examples to features:   0%|          | 0/23242 [00:00<?, ?it/s]"
     ]
    },
    {
     "name": "stdout",
     "output_type": "stream",
     "text": [
      "Loading BERT WordPiece Tokenizer\n",
      "Creating Input Examples from data\n",
      "Creating BERT Input Features from Input Examples\n"
     ]
    },
    {
     "name": "stderr",
     "output_type": "stream",
     "text": [
      "Converting examples to features: 100%|██████████| 23242/23242 [06:26<00:00, 60.11it/s] \n"
     ]
    }
   ],
   "source": [
    "# process text data\n",
    "btp_train = btp.BertTextProcessor(tf_session=sess, \n",
    "                                  bert_model_path=BERT_PATH, \n",
    "                                  max_seq_length=MAX_SEQ_LENGTH)\n",
    "btp_train.create_bert_tokenizer()\n",
    "btp_train.convert_text_to_input_examples(train_text, train_labels)\n",
    "btp_train.convert_examples_to_features()"
   ]
  },
  {
   "cell_type": "code",
   "execution_count": 8,
   "metadata": {},
   "outputs": [
    {
     "name": "stdout",
     "output_type": "stream",
     "text": [
      "Build BERT Classifier CVE Model Architecture\n",
      "Loading Base BERT Model\n",
      "Trainable layers: 199\n",
      "Non Trainable layers: 5\n",
      "Constructing Base BERT architecture\n",
      "INFO:tensorflow:Saver not created because there are no variables in the graph to restore\n"
     ]
    },
    {
     "name": "stderr",
     "output_type": "stream",
     "text": [
      "I0722 20:54:36.610916 140719148209984 tf_logging.py:115] Saver not created because there are no variables in the graph to restore\n"
     ]
    },
    {
     "name": "stdout",
     "output_type": "stream",
     "text": [
      "__________________________________________________________________________________________________\n",
      "Layer (type)                    Output Shape         Param #     Connected to                     \n",
      "==================================================================================================\n",
      "input_ids (InputLayer)          (None, 512)          0                                            \n",
      "__________________________________________________________________________________________________\n",
      "input_masks (InputLayer)        (None, 512)          0                                            \n",
      "__________________________________________________________________________________________________\n",
      "segment_ids (InputLayer)        (None, 512)          0                                            \n",
      "__________________________________________________________________________________________________\n",
      "bert_layer (BertLayer)          (None, 768)          110104890   input_ids[0][0]                  \n",
      "                                                                 input_masks[0][0]                \n",
      "                                                                 segment_ids[0][0]                \n",
      "__________________________________________________________________________________________________\n",
      "dense (Dense)                   (None, 256)          196864      bert_layer[0][0]                 \n",
      "__________________________________________________________________________________________________\n",
      "dense_1 (Dense)                 (None, 1)            257         dense[0][0]                      \n",
      "==================================================================================================\n",
      "Total params: 110,302,011\n",
      "Trainable params: 109,679,361\n",
      "Non-trainable params: 622,650\n",
      "__________________________________________________________________________________________________\n"
     ]
    }
   ],
   "source": [
    "# load pre-trained base BERT model\n",
    "bc = bcvec.BERTClassifier(bert_model_path=BERT_PATH, \n",
    "                          max_seq_length=MAX_SEQ_LENGTH)\n",
    "bc.build_model_architecture()\n",
    "bc.model_estimator.summary()"
   ]
  },
  {
   "cell_type": "code",
   "execution_count": 9,
   "metadata": {},
   "outputs": [
    {
     "data": {
      "text/plain": [
       "{0: 0.5148642062823978, 1: 34.63785394932936}"
      ]
     },
     "execution_count": 9,
     "metadata": {},
     "output_type": "execute_result"
    }
   ],
   "source": [
    "class_weights = class_weight.compute_class_weight('balanced',\n",
    "                                                  np.unique(btp_train.labels.ravel()),\n",
    "                                                  btp_train.labels.ravel())\n",
    "class_weights = dict(enumerate(class_weights))\n",
    "class_weights[1] *= 2\n",
    "class_weights"
   ]
  },
  {
   "cell_type": "code",
   "execution_count": 10,
   "metadata": {},
   "outputs": [],
   "source": [
    "modelckpt_cb = tf.keras.callbacks.ModelCheckpoint('bert_cve99iter2_weights-ep:{epoch:02d}-trn_loss:{loss:.3f}-trn_acc:{acc:.3f}-val_loss:{val_loss:.3f}-val_acc:{val_acc:.3f}.h5', \n",
    "                                        save_weights_only=True, period=1, verbose=1)"
   ]
  },
  {
   "cell_type": "code",
   "execution_count": 11,
   "metadata": {},
   "outputs": [],
   "source": [
    "btp.initialize_vars(sess)"
   ]
  },
  {
   "cell_type": "code",
   "execution_count": 12,
   "metadata": {},
   "outputs": [
    {
     "name": "stderr",
     "output_type": "stream",
     "text": [
      "/home/redanalyze/anaconda3/lib/python3.6/site-packages/tensorflow/python/ops/gradients_impl.py:112: UserWarning: Converting sparse IndexedSlices to a dense Tensor of unknown shape. This may consume a large amount of memory.\n",
      "  \"Converting sparse IndexedSlices to a dense Tensor of unknown shape. \"\n"
     ]
    },
    {
     "name": "stdout",
     "output_type": "stream",
     "text": [
      "Train on 20917 samples, validate on 2325 samples\n",
      "Epoch 1/5\n",
      "20910/20917 [============================>.] - ETA: 0s - loss: 0.3755 - acc: 0.9063\n",
      "Epoch 00001: saving model to bert_cve99_weights-ep:01-trn_loss:0.375-trn_acc:0.906-val_loss:0.278-val_acc:0.984.h5\n",
      "20917/20917 [==============================] - 2794s 134ms/step - loss: 0.3754 - acc: 0.9063 - val_loss: 0.2784 - val_acc: 0.9837\n",
      "Epoch 2/5\n",
      "20910/20917 [============================>.] - ETA: 0s - loss: 0.1938 - acc: 0.9527\n",
      "Epoch 00002: saving model to bert_cve99_weights-ep:02-trn_loss:0.194-trn_acc:0.953-val_loss:0.217-val_acc:0.948.h5\n",
      "20917/20917 [==============================] - 2783s 133ms/step - loss: 0.1939 - acc: 0.9527 - val_loss: 0.2167 - val_acc: 0.9475\n",
      "Epoch 3/5\n",
      "20910/20917 [============================>.] - ETA: 0s - loss: 0.1114 - acc: 0.9764\n",
      "Epoch 00003: saving model to bert_cve99_weights-ep:03-trn_loss:0.111-trn_acc:0.976-val_loss:0.308-val_acc:0.980.h5\n",
      "20917/20917 [==============================] - 2776s 133ms/step - loss: 0.1114 - acc: 0.9764 - val_loss: 0.3083 - val_acc: 0.9802\n",
      "Epoch 4/5\n",
      "20910/20917 [============================>.] - ETA: 0s - loss: 0.0751 - acc: 0.9836\n",
      "Epoch 00004: saving model to bert_cve99_weights-ep:04-trn_loss:0.075-trn_acc:0.984-val_loss:0.275-val_acc:0.983.h5\n",
      "20917/20917 [==============================] - 2771s 132ms/step - loss: 0.0751 - acc: 0.9836 - val_loss: 0.2748 - val_acc: 0.9832\n",
      "Epoch 5/5\n",
      "20910/20917 [============================>.] - ETA: 0s - loss: 0.0763 - acc: 0.9833\n",
      "Epoch 00005: saving model to bert_cve99_weights-ep:05-trn_loss:0.076-trn_acc:0.983-val_loss:0.368-val_acc:0.981.h5\n",
      "20917/20917 [==============================] - 2775s 133ms/step - loss: 0.0763 - acc: 0.9833 - val_loss: 0.3685 - val_acc: 0.9811\n"
     ]
    }
   ],
   "source": [
    "history = bc.model_estimator.fit(x=[btp_train.input_ids, \n",
    "                                    btp_train.input_masks, \n",
    "                                    btp_train.segment_ids],\n",
    "                                 y=train_labels,\n",
    "                                 validation_split=0.1,\n",
    "                                 epochs=5,\n",
    "                                 batch_size=15,\n",
    "                                 class_weight=class_weights,\n",
    "                                 callbacks=[modelckpt_cb],\n",
    "                                 verbose=1\n",
    ")"
   ]
  },
  {
   "cell_type": "code",
   "execution_count": 17,
   "metadata": {},
   "outputs": [
    {
     "data": {
      "image/png": "[encoded data removed]",
      "text/plain": [
       "<Figure size 864x288 with 2 Axes>"
      ]
     },
     "metadata": {
      "needs_background": "light"
     },
     "output_type": "display_data"
    }
   ],
   "source": [
    "f, (ax1, ax2) = plt.subplots(1, 2, figsize=(12, 4))\n",
    "t = f.suptitle('BERT CVE Model Performance', fontsize=12)\n",
    "f.subplots_adjust(top=0.85, wspace=0.2)\n",
    "\n",
    "epochs = list(range(1,6))\n",
    "ax1.plot(epochs, history.history['acc'], label='Train Accuracy')\n",
    "ax1.plot(epochs, history.history['val_acc'], label='Validation Accuracy')\n",
    "ax1.set_ylabel('Accuracy Value')\n",
    "ax1.set_xlabel('Epoch')\n",
    "ax1.set_title('Accuracy')\n",
    "l1 = ax1.legend(loc=\"best\")\n",
    "\n",
    "ax2.plot(epochs, history.history['loss'], label='Train Loss')\n",
    "ax2.plot(epochs, history.history['val_loss'], label='Validation Loss')\n",
    "ax2.set_ylabel('Loss Value')\n",
    "ax2.set_xlabel('Epoch')\n",
    "ax2.set_title('Loss')\n",
    "l2 = ax2.legend(loc=\"best\")"
   ]
  },
  {
   "cell_type": "code",
   "execution_count": 18,
   "metadata": {},
   "outputs": [
    {
     "data": {
      "text/plain": [
       "5497"
      ]
     },
     "execution_count": 18,
     "metadata": {},
     "output_type": "execute_result"
    }
   ],
   "source": [
    "import gc\n",
    "del bc\n",
    "gc.collect()"
   ]
  },
  {
   "cell_type": "code",
   "execution_count": 20,
   "metadata": {},
   "outputs": [
    {
     "name": "stdout",
     "output_type": "stream",
     "text": [
      "Build BERT Classifier CVE Model Architecture\n",
      "Loading Base BERT Model\n",
      "Trainable layers: 199\n",
      "Non Trainable layers: 5\n",
      "Constructing Base BERT architecture\n",
      "INFO:tensorflow:Saver not created because there are no variables in the graph to restore\n"
     ]
    },
    {
     "name": "stderr",
     "output_type": "stream",
     "text": [
      "I0723 06:14:37.935068 140719148209984 tf_logging.py:115] Saver not created because there are no variables in the graph to restore\n"
     ]
    },
    {
     "name": "stdout",
     "output_type": "stream",
     "text": [
      "Loading BERT Classifier CVE Model Weights\n",
      "23242/23242 [==============================] - 1136s 49ms/step\n"
     ]
    }
   ],
   "source": [
    "bc = bcvec.BERTClassifier(bert_model_path=BERT_PATH, \n",
    "                          max_seq_length=MAX_SEQ_LENGTH)\n",
    "bc.build_model_architecture()\n",
    "bc.load_model_weights(model_weights_path='./bert_cve99_weights-ep:04-trn_loss:0.075-trn_acc:0.984-val_loss:0.275-val_acc:0.983.h5')\n",
    "test_predictions = bc.model_estimator.predict(x=[btp_train.input_ids, \n",
    "                                                 btp_train.input_masks, \n",
    "                                                 btp_train.segment_ids],\n",
    "                                                 batch_size=256,\n",
    "                                              verbose=1)"
   ]
  },
  {
   "cell_type": "code",
   "execution_count": 24,
   "metadata": {},
   "outputs": [
    {
     "name": "stdout",
     "output_type": "stream",
     "text": [
      "Performance Report:\n",
      "              precision    recall  f1-score   support\n",
      "\n",
      "           0       1.00      0.99      1.00     22571\n",
      "           1       0.84      0.96      0.89       671\n",
      "\n",
      "    accuracy                           0.99     23242\n",
      "   macro avg       0.92      0.97      0.94     23242\n",
      "weighted avg       0.99      0.99      0.99     23242\n",
      "\n",
      "[[22445   126]\n",
      " [   30   641]]\n"
     ]
    }
   ],
   "source": [
    "test_preds = test_predictions.ravel()\n",
    "test_preds = [1 if pred > 0.5 else 0 for pred in test_preds]\n",
    "print('Performance Report:')\n",
    "print(classification_report(y_true=train_labels, y_pred=test_preds))\n",
    "print(confusion_matrix(y_true=train_labels, y_pred=test_preds))"
   ]
  }
 ],
 "metadata": {
  "kernelspec": {
   "display_name": "Python 3",
   "language": "python",
   "name": "python3"
  },
  "language_info": {
   "codemirror_mode": {
    "name": "ipython",
    "version": 3
   },
   "file_extension": ".py",
   "mimetype": "text/x-python",
   "name": "python",
   "nbconvert_exporter": "python",
   "pygments_lexer": "ipython3",
   "version": "3.6.8"
  }
 },
 "nbformat": 4,
 "nbformat_minor": 2
}
