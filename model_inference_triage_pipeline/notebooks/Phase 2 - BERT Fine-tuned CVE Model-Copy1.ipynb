{
 "cells": [
  {
   "cell_type": "code",
   "execution_count": 1,
   "metadata": {},
   "outputs": [],
   "source": [
    "import pandas as pd\n",
    "import numpy as np\n",
    "import tensorflow as tf\n",
    "import matplotlib.pyplot as plt\n",
    "\n",
    "\n",
    "SEED = 42\n",
    "np.random.seed(SEED)\n",
    "tf.set_random_seed(SEED)"
   ]
  },
  {
   "cell_type": "code",
   "execution_count": 2,
   "metadata": {},
   "outputs": [
    {
     "name": "stdout",
     "output_type": "stream",
     "text": [
      "<class 'pandas.core.frame.DataFrame'>\n",
      "RangeIndex: 152151 entries, 0 to 152150\n",
      "Data columns (total 2 columns):\n",
      "description    152151 non-null object\n",
      "label          152151 non-null int64\n",
      "dtypes: int64(1), object(1)\n",
      "memory usage: 2.3+ MB\n"
     ]
    }
   ],
   "source": [
    "dataset = pd.read_csv('../../data/GH_complete_labeled_issues_prs - preprocessed.csv', encoding='utf-8', \n",
    "                      na_filter=False)\n",
    "dataset.info()"
   ]
  },
  {
   "cell_type": "code",
   "execution_count": 3,
   "metadata": {},
   "outputs": [
    {
     "name": "stdout",
     "output_type": "stream",
     "text": [
      "Before: Counter({0: 128908, 1: 22572, 2: 671})\n",
      "After: Counter({0: 128908, 1: 23243})\n"
     ]
    }
   ],
   "source": [
    "from collections import Counter\n",
    "\n",
    "texts = dataset['description'].tolist()\n",
    "labels = dataset['label'].tolist()\n",
    "\n",
    "print('Before:', Counter(labels))\n",
    "labels = [1 if item != 0 else 0 for item in labels]\n",
    "print('After:', Counter(labels))"
   ]
  },
  {
   "cell_type": "code",
   "execution_count": 4,
   "metadata": {},
   "outputs": [
    {
     "data": {
      "text/plain": [
       "(114113, 38038)"
      ]
     },
     "execution_count": 4,
     "metadata": {},
     "output_type": "execute_result"
    }
   ],
   "source": [
    "from sklearn.model_selection import train_test_split\n",
    "\n",
    "train_text, test_text, train_labels, test_labels = train_test_split(texts, labels, \n",
    "                                                                    test_size=0.25, random_state=SEED)\n",
    "len(train_text), len(test_text)"
   ]
  },
  {
   "cell_type": "code",
   "execution_count": 5,
   "metadata": {},
   "outputs": [
    {
     "data": {
      "text/plain": [
       "<matplotlib.lines.Line2D at 0x7f9cc167f940>"
      ]
     },
     "execution_count": 5,
     "metadata": {},
     "output_type": "execute_result"
    },
    {
     "data": {
      "image/png": "[encoded data removed]",
      "text/plain": [
       "<Figure size 1440x360 with 3 Axes>"
      ]
     },
     "metadata": {
      "needs_background": "light"
     },
     "output_type": "display_data"
    }
   ],
   "source": [
    "train_doc_lens = [len(doc.split(' ')) for doc in train_text]\n",
    "f, ax = plt.subplots(1, 3, figsize=(20, 5))\n",
    "\n",
    "ax[0].hist(train_doc_lens, bins=100)\n",
    "ax[0].set_xlim([0, 1000])\n",
    "ax[0].axvline(512, linestyle='--', color='r')\n",
    "\n",
    "ax[1].hist(train_doc_lens, bins=100)\n",
    "ax[1].set_xlim([0, 2500])\n",
    "ax[1].axvline(512, linestyle='--', color='r')\n",
    "\n",
    "ax[2].hist(train_doc_lens, bins=100)\n",
    "ax[2].set_xlim([0, 5000])\n",
    "ax[2].axvline(512, linestyle='--', color='r')"
   ]
  },
  {
   "cell_type": "code",
   "execution_count": 6,
   "metadata": {},
   "outputs": [
    {
     "data": {
      "text/plain": [
       "Counter({0: 109373, 1: 4740})"
      ]
     },
     "execution_count": 6,
     "metadata": {},
     "output_type": "execute_result"
    }
   ],
   "source": [
    "Counter([1 if ln > 512 else 0 for ln in train_doc_lens])"
   ]
  },
  {
   "cell_type": "code",
   "execution_count": 7,
   "metadata": {},
   "outputs": [
    {
     "name": "stderr",
     "output_type": "stream",
     "text": [
      "WARNING: Logging before flag parsing goes to stderr.\n",
      "W0723 08:18:41.792854 140313604417344 __init__.py:56] Some hub symbols are not available because TensorFlow version is less than 1.14\n"
     ]
    }
   ],
   "source": [
    "from utils import bert_text_processor as btp"
   ]
  },
  {
   "cell_type": "code",
   "execution_count": 8,
   "metadata": {},
   "outputs": [],
   "source": [
    "# Initialize session\n",
    "sess = tf.Session()\n",
    "\n",
    "# Params for bert model and tokenization\n",
    "BERT_PATH = \"models/model_assets/gokube-phase2/base_bert_tfhub_models/bert_uncased_L12_H768_A12\"\n",
    "MAX_SEQ_LENGTH = 512"
   ]
  },
  {
   "cell_type": "code",
   "execution_count": 9,
   "metadata": {},
   "outputs": [
    {
     "name": "stdout",
     "output_type": "stream",
     "text": [
      "Loading Base BERT Model\n",
      "INFO:tensorflow:Saver not created because there are no variables in the graph to restore\n"
     ]
    },
    {
     "name": "stderr",
     "output_type": "stream",
     "text": [
      "I0723 08:18:50.122420 140313604417344 tf_logging.py:115] Saver not created because there are no variables in the graph to restore\n",
      "Converting text to examples: 0it [00:00, ?it/s]"
     ]
    },
    {
     "name": "stdout",
     "output_type": "stream",
     "text": [
      "Loading BERT WordPiece Tokenizer\n",
      "Creating Input Examples from data\n"
     ]
    },
    {
     "name": "stderr",
     "output_type": "stream",
     "text": [
      "Converting text to examples: 114113it [00:00, 362069.95it/s]\n",
      "Converting examples to features:   0%|          | 36/114113 [00:00<05:37, 337.59it/s]"
     ]
    },
    {
     "name": "stdout",
     "output_type": "stream",
     "text": [
      "Creating BERT Input Features from Input Examples\n"
     ]
    },
    {
     "name": "stderr",
     "output_type": "stream",
     "text": [
      "Converting examples to features: 100%|██████████| 114113/114113 [10:22<00:00, 183.18it/s]\n"
     ]
    },
    {
     "name": "stdout",
     "output_type": "stream",
     "text": [
      "Loading Base BERT Model\n",
      "INFO:tensorflow:Saver not created because there are no variables in the graph to restore\n"
     ]
    },
    {
     "name": "stderr",
     "output_type": "stream",
     "text": [
      "I0723 08:29:28.906261 140313604417344 tf_logging.py:115] Saver not created because there are no variables in the graph to restore\n",
      "Converting text to examples: 38038it [00:00, 616226.68it/s]\n",
      "Converting examples to features:   0%|          | 0/38038 [00:00<?, ?it/s]"
     ]
    },
    {
     "name": "stdout",
     "output_type": "stream",
     "text": [
      "Loading BERT WordPiece Tokenizer\n",
      "Creating Input Examples from data\n",
      "Creating BERT Input Features from Input Examples\n"
     ]
    },
    {
     "name": "stderr",
     "output_type": "stream",
     "text": [
      "Converting examples to features: 100%|██████████| 38038/38038 [03:25<00:00, 185.36it/s]\n"
     ]
    }
   ],
   "source": [
    "# process text data\n",
    "btp_train = btp.BertTextProcessor(tf_session=sess, \n",
    "                                  bert_model_path=BERT_PATH, \n",
    "                                  max_seq_length=MAX_SEQ_LENGTH)\n",
    "btp_train.create_bert_tokenizer()\n",
    "btp_train.convert_text_to_input_examples(train_text, train_labels)\n",
    "btp_train.convert_examples_to_features()\n",
    "\n",
    "\n",
    "btp_test = btp.BertTextProcessor(tf_session=sess, \n",
    "                                 bert_model_path=BERT_PATH, \n",
    "                                 max_seq_length=MAX_SEQ_LENGTH)\n",
    "btp_test.create_bert_tokenizer()\n",
    "btp_test.convert_text_to_input_examples(test_text)\n",
    "btp_test.convert_examples_to_features()"
   ]
  },
  {
   "cell_type": "code",
   "execution_count": 10,
   "metadata": {},
   "outputs": [],
   "source": [
    "from models import bert_cve_classifier as bcvec"
   ]
  },
  {
   "cell_type": "code",
   "execution_count": 11,
   "metadata": {},
   "outputs": [
    {
     "name": "stdout",
     "output_type": "stream",
     "text": [
      "Build BERT Classifier CVE Model Architecture\n",
      "Loading Base BERT Model\n",
      "Trainable layers: 199\n",
      "Non Trainable layers: 5\n",
      "Constructing Base BERT architecture\n",
      "INFO:tensorflow:Saver not created because there are no variables in the graph to restore\n"
     ]
    },
    {
     "name": "stderr",
     "output_type": "stream",
     "text": [
      "I0723 08:34:56.034191 140313604417344 tf_logging.py:115] Saver not created because there are no variables in the graph to restore\n"
     ]
    }
   ],
   "source": [
    "# load pre-trained base BERT model\n",
    "bc = bcvec.BERTClassifier(bert_model_path=BERT_PATH, \n",
    "                          max_seq_length=MAX_SEQ_LENGTH)\n",
    "bc.build_model_architecture()"
   ]
  },
  {
   "cell_type": "code",
   "execution_count": 12,
   "metadata": {},
   "outputs": [
    {
     "name": "stdout",
     "output_type": "stream",
     "text": [
      "__________________________________________________________________________________________________\n",
      "Layer (type)                    Output Shape         Param #     Connected to                     \n",
      "==================================================================================================\n",
      "input_ids (InputLayer)          (None, 512)          0                                            \n",
      "__________________________________________________________________________________________________\n",
      "input_masks (InputLayer)        (None, 512)          0                                            \n",
      "__________________________________________________________________________________________________\n",
      "segment_ids (InputLayer)        (None, 512)          0                                            \n",
      "__________________________________________________________________________________________________\n",
      "bert_layer (BertLayer)          (None, 768)          110104890   input_ids[0][0]                  \n",
      "                                                                 input_masks[0][0]                \n",
      "                                                                 segment_ids[0][0]                \n",
      "__________________________________________________________________________________________________\n",
      "dense (Dense)                   (None, 256)          196864      bert_layer[0][0]                 \n",
      "__________________________________________________________________________________________________\n",
      "dense_1 (Dense)                 (None, 1)            257         dense[0][0]                      \n",
      "==================================================================================================\n",
      "Total params: 110,302,011\n",
      "Trainable params: 109,679,361\n",
      "Non-trainable params: 622,650\n",
      "__________________________________________________________________________________________________\n"
     ]
    }
   ],
   "source": [
    "bc.model_estimator.summary()"
   ]
  },
  {
   "cell_type": "code",
   "execution_count": 13,
   "metadata": {},
   "outputs": [
    {
     "data": {
      "text/plain": [
       "{0: 0.5901704627733301, 1: 6.545053054201319}"
      ]
     },
     "execution_count": 13,
     "metadata": {},
     "output_type": "execute_result"
    }
   ],
   "source": [
    "from sklearn.utils import class_weight\n",
    "\n",
    "class_weights = class_weight.compute_class_weight('balanced',\n",
    "                                                  np.unique(btp_train.labels.ravel()),\n",
    "                                                  btp_train.labels.ravel())\n",
    "class_weights = dict(enumerate(class_weights))\n",
    "class_weights[1] *= 2\n",
    "class_weights"
   ]
  },
  {
   "cell_type": "code",
   "execution_count": 15,
   "metadata": {},
   "outputs": [],
   "source": [
    "modelckpt_cb = tf.keras.callbacks.ModelCheckpoint('bert_sec75_weights-ep:{epoch:02d}-trn_loss:{loss:.3f}-trn_acc:{acc:.3f}-val_loss:{val_loss:.3f}-val_acc:{val_acc:.3f}.h5', \n",
    "                                        save_weights_only=True, period=1, verbose=1)"
   ]
  },
  {
   "cell_type": "code",
   "execution_count": 16,
   "metadata": {},
   "outputs": [],
   "source": [
    "btp.initialize_vars(sess)"
   ]
  },
  {
   "cell_type": "code",
   "execution_count": 17,
   "metadata": {},
   "outputs": [
    {
     "name": "stderr",
     "output_type": "stream",
     "text": [
      "/home/redanalyze/anaconda3/lib/python3.6/site-packages/tensorflow/python/ops/gradients_impl.py:112: UserWarning: Converting sparse IndexedSlices to a dense Tensor of unknown shape. This may consume a large amount of memory.\n",
      "  \"Converting sparse IndexedSlices to a dense Tensor of unknown shape. \"\n"
     ]
    },
    {
     "name": "stdout",
     "output_type": "stream",
     "text": [
      "Train on 102701 samples, validate on 11412 samples\n",
      "Epoch 1/5\n",
      "102690/102701 [============================>.] - ETA: 1s - loss: 0.2258 - acc: 0.8803\n",
      "Epoch 00001: saving model to bert_sec75_weights-ep:01-trn_loss:0.226-trn_acc:0.880-val_loss:0.152-val_acc:0.911.h5\n",
      "102701/102701 [==============================] - 13441s 131ms/step - loss: 0.2258 - acc: 0.8803 - val_loss: 0.1517 - val_acc: 0.9115\n",
      "Epoch 2/5\n",
      "102690/102701 [============================>.] - ETA: 1s - loss: 0.1412 - acc: 0.9270\n",
      "Epoch 00002: saving model to bert_sec75_weights-ep:02-trn_loss:0.141-trn_acc:0.927-val_loss:0.145-val_acc:0.952.h5\n",
      "102701/102701 [==============================] - 13379s 130ms/step - loss: 0.1412 - acc: 0.9270 - val_loss: 0.1452 - val_acc: 0.9523\n",
      "Epoch 3/5\n",
      "102690/102701 [============================>.] - ETA: 1s - loss: 0.1077 - acc: 0.9404\n",
      "Epoch 00003: saving model to bert_sec75_weights-ep:03-trn_loss:0.108-trn_acc:0.940-val_loss:0.156-val_acc:0.948.h5\n",
      "102701/102701 [==============================] - 13345s 130ms/step - loss: 0.1077 - acc: 0.9404 - val_loss: 0.1563 - val_acc: 0.9485\n",
      "Epoch 4/5\n",
      "102690/102701 [============================>.] - ETA: 1s - loss: 0.0808 - acc: 0.9568\n",
      "Epoch 00004: saving model to bert_sec75_weights-ep:04-trn_loss:0.081-trn_acc:0.957-val_loss:0.165-val_acc:0.954.h5\n",
      "102701/102701 [==============================] - 13346s 130ms/step - loss: 0.0808 - acc: 0.9567 - val_loss: 0.1655 - val_acc: 0.9543\n",
      "Epoch 5/5\n",
      "102690/102701 [============================>.] - ETA: 1s - loss: 0.0625 - acc: 0.9676\n",
      "Epoch 00005: saving model to bert_sec75_weights-ep:05-trn_loss:0.063-trn_acc:0.968-val_loss:0.213-val_acc:0.962.h5\n",
      "102701/102701 [==============================] - 13372s 130ms/step - loss: 0.0625 - acc: 0.9676 - val_loss: 0.2131 - val_acc: 0.9620\n"
     ]
    }
   ],
   "source": [
    "history = bc.model_estimator.fit(x=[btp_train.input_ids, \n",
    "                                    btp_train.input_masks, \n",
    "                                    btp_train.segment_ids],\n",
    "                                 y=train_labels,\n",
    "                                 validation_split=0.1,\n",
    "                                 epochs=5,\n",
    "                                 batch_size=15,\n",
    "                                 class_weight=class_weights,\n",
    "                                 callbacks=[modelckpt_cb],\n",
    "                                 verbose=1\n",
    ")"
   ]
  },
  {
   "cell_type": "code",
   "execution_count": 1,
   "metadata": {},
   "outputs": [
    {
     "name": "stderr",
     "output_type": "stream",
     "text": [
      "WARNING: Logging before flag parsing goes to stderr.\n",
      "W0724 04:37:42.454065 140142265681728 __init__.py:56] Some hub symbols are not available because TensorFlow version is less than 1.14\n"
     ]
    }
   ],
   "source": [
    "import pandas as pd\n",
    "import numpy as np\n",
    "import tensorflow as tf\n",
    "import matplotlib.pyplot as plt\n",
    "from utils import bert_text_processor as btp\n",
    "from models import bert_cve_classifier as bcvec\n",
    "from sklearn.utils import class_weight\n",
    "from collections import Counter\n",
    "from sklearn.model_selection import train_test_split\n",
    "from sklearn.metrics import confusion_matrix, classification_report\n",
    "import gc\n",
    "\n",
    "SEED = 42\n",
    "np.random.seed(SEED)\n",
    "tf.set_random_seed(SEED)\n",
    "sess = tf.Session()\n",
    "\n",
    "# Params for bert model and tokenization\n",
    "BERT_PATH = \"models/model_assets/gokube-phase2/base_bert_tfhub_models/bert_uncased_L12_H768_A12\"\n",
    "MAX_SEQ_LENGTH = 512\n",
    "\n",
    "btp.initialize_vars(sess)"
   ]
  },
  {
   "cell_type": "code",
   "execution_count": 2,
   "metadata": {},
   "outputs": [
    {
     "name": "stdout",
     "output_type": "stream",
     "text": [
      "Before: Counter({0: 128908, 1: 22572, 2: 671})\n",
      "After: Counter({0: 128908, 1: 23243})\n",
      "Data dims: 114113 38038\n",
      "Loading Base BERT Model\n",
      "INFO:tensorflow:Saver not created because there are no variables in the graph to restore\n"
     ]
    },
    {
     "name": "stderr",
     "output_type": "stream",
     "text": [
      "I0724 04:37:49.166838 140142265681728 tf_logging.py:115] Saver not created because there are no variables in the graph to restore\n",
      "Converting text to examples: 38038it [00:00, 636412.70it/s]\n",
      "Converting examples to features:   0%|          | 0/38038 [00:00<?, ?it/s]"
     ]
    },
    {
     "name": "stdout",
     "output_type": "stream",
     "text": [
      "Loading BERT WordPiece Tokenizer\n",
      "Creating Input Examples from data\n",
      "Creating BERT Input Features from Input Examples\n"
     ]
    },
    {
     "name": "stderr",
     "output_type": "stream",
     "text": [
      "Converting examples to features: 100%|██████████| 38038/38038 [03:27<00:00, 183.02it/s]\n"
     ]
    }
   ],
   "source": [
    "dataset = pd.read_csv('../../data/GH_complete_labeled_issues_prs - preprocessed.csv', encoding='utf-8', \n",
    "                      na_filter=False)\n",
    "texts = dataset['description'].tolist()\n",
    "labels = dataset['label'].tolist()\n",
    "\n",
    "print('Before:', Counter(labels))\n",
    "labels = [1 if item != 0 else 0 for item in labels]\n",
    "print('After:', Counter(labels))\n",
    "\n",
    "train_text, test_text, train_labels, test_labels = train_test_split(texts, labels, \n",
    "                                                                    test_size=0.25, random_state=SEED)\n",
    "print('Data dims:', len(train_text), len(test_text))\n",
    "\n",
    "btp_test = btp.BertTextProcessor(tf_session=sess, \n",
    "                                 bert_model_path=BERT_PATH, \n",
    "                                 max_seq_length=MAX_SEQ_LENGTH)\n",
    "btp_test.create_bert_tokenizer()\n",
    "btp_test.convert_text_to_input_examples(test_text)\n",
    "btp_test.convert_examples_to_features()"
   ]
  },
  {
   "cell_type": "code",
   "execution_count": 3,
   "metadata": {},
   "outputs": [
    {
     "name": "stdout",
     "output_type": "stream",
     "text": [
      "Build BERT Classifier CVE Model Architecture\n",
      "Loading Base BERT Model\n",
      "Trainable layers: 199\n",
      "Non Trainable layers: 5\n",
      "Constructing Base BERT architecture\n",
      "INFO:tensorflow:Saver not created because there are no variables in the graph to restore\n"
     ]
    },
    {
     "name": "stderr",
     "output_type": "stream",
     "text": [
      "I0724 04:41:24.978517 140142265681728 tf_logging.py:115] Saver not created because there are no variables in the graph to restore\n"
     ]
    },
    {
     "name": "stdout",
     "output_type": "stream",
     "text": [
      "Loading BERT Classifier CVE Model Weights\n",
      "38038/38038 [==============================] - 1897s 50ms/step\n"
     ]
    }
   ],
   "source": [
    "bc = bcvec.BERTClassifier(bert_model_path=BERT_PATH, \n",
    "                          max_seq_length=MAX_SEQ_LENGTH)\n",
    "bc.build_model_architecture()\n",
    "bc.load_model_weights(model_weights_path='./bert_sec75_weights-ep:01-trn_loss:0.226-trn_acc:0.880-val_loss:0.152-val_acc:0.911.h5')\n",
    "test_predictions = bc.model_estimator.predict(x=[btp_test.input_ids, \n",
    "                                                 btp_test.input_masks, \n",
    "                                                 btp_test.segment_ids],\n",
    "                                                 batch_size=256,\n",
    "                                              verbose=1)"
   ]
  },
  {
   "cell_type": "code",
   "execution_count": 4,
   "metadata": {},
   "outputs": [
    {
     "name": "stdout",
     "output_type": "stream",
     "text": [
      "Performance Report:\n",
      "              precision    recall  f1-score   support\n",
      "\n",
      "           0       0.99      0.90      0.95     32230\n",
      "           1       0.64      0.96      0.77      5808\n",
      "\n",
      "    accuracy                           0.91     38038\n",
      "   macro avg       0.82      0.93      0.86     38038\n",
      "weighted avg       0.94      0.91      0.92     38038\n",
      "\n",
      "[[29111  3119]\n",
      " [  214  5594]]\n"
     ]
    }
   ],
   "source": [
    "test_preds = test_predictions.ravel()\n",
    "test_preds = [1 if pred > 0.5 else 0 for pred in test_preds]\n",
    "print('Performance Report:')\n",
    "print(classification_report(y_true=test_labels, y_pred=test_preds))\n",
    "print(confusion_matrix(y_true=test_labels, y_pred=test_preds))"
   ]
  },
  {
   "cell_type": "code",
   "execution_count": 5,
   "metadata": {},
   "outputs": [
    {
     "name": "stdout",
     "output_type": "stream",
     "text": [
      "Build BERT Classifier CVE Model Architecture\n",
      "Loading Base BERT Model\n",
      "Trainable layers: 199\n",
      "Non Trainable layers: 5\n",
      "Constructing Base BERT architecture\n",
      "INFO:tensorflow:Saver not created because there are no variables in the graph to restore\n"
     ]
    },
    {
     "name": "stderr",
     "output_type": "stream",
     "text": [
      "I0724 08:32:59.393441 140142265681728 tf_logging.py:115] Saver not created because there are no variables in the graph to restore\n"
     ]
    },
    {
     "name": "stdout",
     "output_type": "stream",
     "text": [
      "Loading BERT Classifier CVE Model Weights\n",
      "38038/38038 [==============================] - 1891s 50ms/step\n"
     ]
    }
   ],
   "source": [
    "del bc\n",
    "gc.collect()\n",
    "bc = bcvec.BERTClassifier(bert_model_path=BERT_PATH, \n",
    "                          max_seq_length=MAX_SEQ_LENGTH)\n",
    "bc.build_model_architecture()\n",
    "bc.load_model_weights(model_weights_path='./bert_sec75_weights-ep:02-trn_loss:0.141-trn_acc:0.927-val_loss:0.145-val_acc:0.952.h5')\n",
    "test_predictions = bc.model_estimator.predict(x=[btp_test.input_ids, \n",
    "                                                 btp_test.input_masks, \n",
    "                                                 btp_test.segment_ids],\n",
    "                                                 batch_size=256,\n",
    "                                              verbose=1)"
   ]
  },
  {
   "cell_type": "code",
   "execution_count": 6,
   "metadata": {},
   "outputs": [
    {
     "name": "stdout",
     "output_type": "stream",
     "text": [
      "Performance Report:\n",
      "              precision    recall  f1-score   support\n",
      "\n",
      "           0       0.99      0.95      0.97     32230\n",
      "           1       0.79      0.93      0.85      5808\n",
      "\n",
      "    accuracy                           0.95     38038\n",
      "   macro avg       0.89      0.94      0.91     38038\n",
      "weighted avg       0.96      0.95      0.95     38038\n",
      "\n",
      "[[30778  1452]\n",
      " [  395  5413]]\n"
     ]
    }
   ],
   "source": [
    "test_preds = test_predictions.ravel()\n",
    "test_preds = [1 if pred > 0.5 else 0 for pred in test_preds]\n",
    "print('Performance Report:')\n",
    "print(classification_report(y_true=test_labels, y_pred=test_preds))\n",
    "print(confusion_matrix(y_true=test_labels, y_pred=test_preds))"
   ]
  },
  {
   "cell_type": "code",
   "execution_count": 7,
   "metadata": {},
   "outputs": [
    {
     "name": "stdout",
     "output_type": "stream",
     "text": [
      "Build BERT Classifier CVE Model Architecture\n",
      "Loading Base BERT Model\n",
      "Trainable layers: 199\n",
      "Non Trainable layers: 5\n",
      "Constructing Base BERT architecture\n",
      "INFO:tensorflow:Saver not created because there are no variables in the graph to restore\n"
     ]
    },
    {
     "name": "stderr",
     "output_type": "stream",
     "text": [
      "I0724 09:06:37.679888 140142265681728 tf_logging.py:115] Saver not created because there are no variables in the graph to restore\n"
     ]
    },
    {
     "name": "stdout",
     "output_type": "stream",
     "text": [
      "Loading BERT Classifier CVE Model Weights\n",
      "38038/38038 [==============================] - 1900s 50ms/step\n"
     ]
    }
   ],
   "source": [
    "del bc\n",
    "gc.collect()\n",
    "bc = bcvec.BERTClassifier(bert_model_path=BERT_PATH, \n",
    "                          max_seq_length=MAX_SEQ_LENGTH)\n",
    "bc.build_model_architecture()\n",
    "bc.load_model_weights(model_weights_path='./bert_sec75_weights-ep:03-trn_loss:0.108-trn_acc:0.940-val_loss:0.156-val_acc:0.948.h5')\n",
    "test_predictions = bc.model_estimator.predict(x=[btp_test.input_ids, \n",
    "                                                 btp_test.input_masks, \n",
    "                                                 btp_test.segment_ids],\n",
    "                                                 batch_size=256,\n",
    "                                              verbose=1)"
   ]
  },
  {
   "cell_type": "code",
   "execution_count": 8,
   "metadata": {},
   "outputs": [
    {
     "name": "stdout",
     "output_type": "stream",
     "text": [
      "Performance Report:\n",
      "              precision    recall  f1-score   support\n",
      "\n",
      "           0       0.99      0.95      0.97     32230\n",
      "           1       0.77      0.94      0.85      5808\n",
      "\n",
      "    accuracy                           0.95     38038\n",
      "   macro avg       0.88      0.94      0.91     38038\n",
      "weighted avg       0.96      0.95      0.95     38038\n",
      "\n",
      "[[30632  1598]\n",
      " [  365  5443]]\n"
     ]
    }
   ],
   "source": [
    "test_preds = test_predictions.ravel()\n",
    "test_preds = [1 if pred > 0.5 else 0 for pred in test_preds]\n",
    "print('Performance Report:')\n",
    "print(classification_report(y_true=test_labels, y_pred=test_preds))\n",
    "print(confusion_matrix(y_true=test_labels, y_pred=test_preds))"
   ]
  },
  {
   "cell_type": "code",
   "execution_count": 9,
   "metadata": {},
   "outputs": [
    {
     "name": "stdout",
     "output_type": "stream",
     "text": [
      "Build BERT Classifier CVE Model Architecture\n",
      "Loading Base BERT Model\n",
      "Trainable layers: 199\n",
      "Non Trainable layers: 5\n",
      "Constructing Base BERT architecture\n",
      "INFO:tensorflow:Saver not created because there are no variables in the graph to restore\n"
     ]
    },
    {
     "name": "stderr",
     "output_type": "stream",
     "text": [
      "I0724 09:39:10.533791 140142265681728 tf_logging.py:115] Saver not created because there are no variables in the graph to restore\n"
     ]
    },
    {
     "name": "stdout",
     "output_type": "stream",
     "text": [
      "Loading BERT Classifier CVE Model Weights\n",
      "38038/38038 [==============================] - 1898s 50ms/step\n"
     ]
    }
   ],
   "source": [
    "del bc\n",
    "gc.collect()\n",
    "bc = bcvec.BERTClassifier(bert_model_path=BERT_PATH, \n",
    "                          max_seq_length=MAX_SEQ_LENGTH)\n",
    "bc.build_model_architecture()\n",
    "bc.load_model_weights(model_weights_path='./bert_sec75_weights-ep:04-trn_loss:0.081-trn_acc:0.957-val_loss:0.165-val_acc:0.954.h5')\n",
    "test_predictions = bc.model_estimator.predict(x=[btp_test.input_ids, \n",
    "                                                 btp_test.input_masks, \n",
    "                                                 btp_test.segment_ids],\n",
    "                                                 batch_size=256,\n",
    "                                              verbose=1)"
   ]
  },
  {
   "cell_type": "code",
   "execution_count": 10,
   "metadata": {},
   "outputs": [
    {
     "name": "stdout",
     "output_type": "stream",
     "text": [
      "Performance Report:\n",
      "              precision    recall  f1-score   support\n",
      "\n",
      "           0       0.98      0.96      0.97     32230\n",
      "           1       0.82      0.91      0.87      5808\n",
      "\n",
      "    accuracy                           0.96     38038\n",
      "   macro avg       0.90      0.94      0.92     38038\n",
      "weighted avg       0.96      0.96      0.96     38038\n",
      "\n",
      "[[31078  1152]\n",
      " [  501  5307]]\n"
     ]
    }
   ],
   "source": [
    "test_preds = test_predictions.ravel()\n",
    "test_preds = [1 if pred > 0.5 else 0 for pred in test_preds]\n",
    "print('Performance Report:')\n",
    "print(classification_report(y_true=test_labels, y_pred=test_preds))\n",
    "print(confusion_matrix(y_true=test_labels, y_pred=test_preds))"
   ]
  },
  {
   "cell_type": "code",
   "execution_count": 11,
   "metadata": {},
   "outputs": [
    {
     "name": "stdout",
     "output_type": "stream",
     "text": [
      "Build BERT Classifier CVE Model Architecture\n",
      "Loading Base BERT Model\n",
      "Trainable layers: 199\n",
      "Non Trainable layers: 5\n",
      "Constructing Base BERT architecture\n",
      "INFO:tensorflow:Saver not created because there are no variables in the graph to restore\n"
     ]
    },
    {
     "name": "stderr",
     "output_type": "stream",
     "text": [
      "I0724 10:12:29.378938 140142265681728 tf_logging.py:115] Saver not created because there are no variables in the graph to restore\n"
     ]
    },
    {
     "name": "stdout",
     "output_type": "stream",
     "text": [
      "Loading BERT Classifier CVE Model Weights\n",
      "38038/38038 [==============================] - 1900s 50ms/step\n"
     ]
    }
   ],
   "source": [
    "del bc\n",
    "gc.collect()\n",
    "bc = bcvec.BERTClassifier(bert_model_path=BERT_PATH, \n",
    "                          max_seq_length=MAX_SEQ_LENGTH)\n",
    "bc.build_model_architecture()\n",
    "bc.load_model_weights(model_weights_path='./bert_sec75_weights-ep:05-trn_loss:0.063-trn_acc:0.968-val_loss:0.213-val_acc:0.962.h5')\n",
    "test_predictions = bc.model_estimator.predict(x=[btp_test.input_ids, \n",
    "                                                 btp_test.input_masks, \n",
    "                                                 btp_test.segment_ids],\n",
    "                                                 batch_size=256,\n",
    "                                              verbose=1)"
   ]
  },
  {
   "cell_type": "code",
   "execution_count": 12,
   "metadata": {},
   "outputs": [
    {
     "name": "stdout",
     "output_type": "stream",
     "text": [
      "Performance Report:\n",
      "              precision    recall  f1-score   support\n",
      "\n",
      "           0       0.98      0.97      0.98     32230\n",
      "           1       0.85      0.91      0.88      5808\n",
      "\n",
      "    accuracy                           0.96     38038\n",
      "   macro avg       0.92      0.94      0.93     38038\n",
      "weighted avg       0.96      0.96      0.96     38038\n",
      "\n",
      "[[31292   938]\n",
      " [  511  5297]]\n"
     ]
    }
   ],
   "source": [
    "test_preds = test_predictions.ravel()\n",
    "test_preds = [1 if pred > 0.5 else 0 for pred in test_preds]\n",
    "print('Performance Report:')\n",
    "print(classification_report(y_true=test_labels, y_pred=test_preds))\n",
    "print(confusion_matrix(y_true=test_labels, y_pred=test_preds))"
   ]
  },
  {
   "cell_type": "code",
   "execution_count": null,
   "metadata": {},
   "outputs": [],
   "source": []
  },
  {
   "cell_type": "code",
   "execution_count": 13,
   "metadata": {},
   "outputs": [
    {
     "data": {
      "text/plain": [
       "109"
      ]
     },
     "execution_count": 13,
     "metadata": {},
     "output_type": "execute_result"
    }
   ],
   "source": [
    "del bc\n",
    "gc.collect()"
   ]
  },
  {
   "cell_type": "code",
   "execution_count": 1,
   "metadata": {},
   "outputs": [
    {
     "name": "stderr",
     "output_type": "stream",
     "text": [
      "WARNING: Logging before flag parsing goes to stderr.\n",
      "W0722 20:47:47.210887 140719148209984 __init__.py:56] Some hub symbols are not available because TensorFlow version is less than 1.14\n"
     ]
    }
   ],
   "source": [
    "import pandas as pd\n",
    "import numpy as np\n",
    "import tensorflow as tf\n",
    "import matplotlib.pyplot as plt\n",
    "from utils import bert_text_processor as btp\n",
    "from models import bert_cve_classifier as bcvec\n",
    "from sklearn.utils import class_weight\n",
    "from collections import Counter\n",
    "from sklearn.model_selection import train_test_split\n",
    "from sklearn.metrics import confusion_matrix, classification_report\n",
    "\n",
    "SEED = 42\n",
    "np.random.seed(SEED)\n",
    "tf.set_random_seed(SEED)"
   ]
  },
  {
   "cell_type": "code",
   "execution_count": 2,
   "metadata": {},
   "outputs": [
    {
     "name": "stdout",
     "output_type": "stream",
     "text": [
      "Before: Counter({1: 22572, 2: 671})\n",
      "After: Counter({0: 22572, 1: 671})\n"
     ]
    }
   ],
   "source": [
    "dataset = pd.read_csv('../../data/GH_complete_labeled_issues_prs - preprocessed.csv', encoding='utf-8', \n",
    "                      na_filter=False)\n",
    "dataset = dataset[dataset.label != 0]\n",
    "texts = dataset['description'].tolist()\n",
    "labels = dataset['label'].tolist()\n",
    "\n",
    "print('Before:', Counter(labels))\n",
    "labels = [0 if item == 1 else 1 for item in labels]\n",
    "print('After:', Counter(labels))"
   ]
  },
  {
   "cell_type": "code",
   "execution_count": 3,
   "metadata": {},
   "outputs": [
    {
     "data": {
      "text/plain": [
       "(23242, 1)"
      ]
     },
     "execution_count": 3,
     "metadata": {},
     "output_type": "execute_result"
    }
   ],
   "source": [
    "train_text, test_text, train_labels, test_labels = train_test_split(texts, labels, \n",
    "                                                                    test_size=1e-6, random_state=SEED)\n",
    "len(train_text), len(test_text)"
   ]
  },
  {
   "cell_type": "code",
   "execution_count": 4,
   "metadata": {},
   "outputs": [
    {
     "data": {
      "text/plain": [
       "<matplotlib.lines.Line2D at 0x7ffb2c579f28>"
      ]
     },
     "execution_count": 4,
     "metadata": {},
     "output_type": "execute_result"
    },
    {
     "data": {
      "image/png": "[encoded data removed]",
      "text/plain": [
       "<Figure size 1440x360 with 3 Axes>"
      ]
     },
     "metadata": {
      "needs_background": "light"
     },
     "output_type": "display_data"
    }
   ],
   "source": [
    "train_doc_lens = [len(doc.split(' ')) for doc in train_text]\n",
    "f, ax = plt.subplots(1, 3, figsize=(20, 5))\n",
    "\n",
    "ax[0].hist(train_doc_lens, bins=100)\n",
    "ax[0].set_xlim([0, 1000])\n",
    "ax[0].axvline(512, linestyle='--', color='r')\n",
    "\n",
    "ax[1].hist(train_doc_lens, bins=100)\n",
    "ax[1].set_xlim([0, 2500])\n",
    "ax[1].axvline(512, linestyle='--', color='r')\n",
    "\n",
    "ax[2].hist(train_doc_lens, bins=100)\n",
    "ax[2].set_xlim([0, 5000])\n",
    "ax[2].axvline(512, linestyle='--', color='r')"
   ]
  },
  {
   "cell_type": "code",
   "execution_count": 5,
   "metadata": {},
   "outputs": [
    {
     "data": {
      "text/plain": [
       "Counter({0: 19812, 1: 3430})"
      ]
     },
     "execution_count": 5,
     "metadata": {},
     "output_type": "execute_result"
    }
   ],
   "source": [
    "Counter([1 if ln > 512 else 0 for ln in train_doc_lens])"
   ]
  },
  {
   "cell_type": "code",
   "execution_count": 6,
   "metadata": {},
   "outputs": [],
   "source": [
    "# Initialize session\n",
    "sess = tf.Session()\n",
    "\n",
    "# Params for bert model and tokenization\n",
    "BERT_PATH = \"models/model_assets/gokube-phase2/base_bert_tfhub_models/bert_uncased_L12_H768_A12\"\n",
    "MAX_SEQ_LENGTH = 512"
   ]
  },
  {
   "cell_type": "code",
   "execution_count": 7,
   "metadata": {},
   "outputs": [
    {
     "name": "stdout",
     "output_type": "stream",
     "text": [
      "Loading Base BERT Model\n",
      "INFO:tensorflow:Saver not created because there are no variables in the graph to restore\n"
     ]
    },
    {
     "name": "stderr",
     "output_type": "stream",
     "text": [
      "I0722 20:48:03.283648 140719148209984 tf_logging.py:115] Saver not created because there are no variables in the graph to restore\n",
      "Converting text to examples: 23242it [00:00, 605558.47it/s]\n",
      "Converting examples to features:   0%|          | 0/23242 [00:00<?, ?it/s]"
     ]
    },
    {
     "name": "stdout",
     "output_type": "stream",
     "text": [
      "Loading BERT WordPiece Tokenizer\n",
      "Creating Input Examples from data\n",
      "Creating BERT Input Features from Input Examples\n"
     ]
    },
    {
     "name": "stderr",
     "output_type": "stream",
     "text": [
      "Converting examples to features: 100%|██████████| 23242/23242 [06:26<00:00, 60.11it/s] \n"
     ]
    }
   ],
   "source": [
    "# process text data\n",
    "btp_train = btp.BertTextProcessor(tf_session=sess, \n",
    "                                  bert_model_path=BERT_PATH, \n",
    "                                  max_seq_length=MAX_SEQ_LENGTH)\n",
    "btp_train.create_bert_tokenizer()\n",
    "btp_train.convert_text_to_input_examples(train_text, train_labels)\n",
    "btp_train.convert_examples_to_features()"
   ]
  },
  {
   "cell_type": "code",
   "execution_count": 8,
   "metadata": {},
   "outputs": [
    {
     "name": "stdout",
     "output_type": "stream",
     "text": [
      "Build BERT Classifier CVE Model Architecture\n",
      "Loading Base BERT Model\n",
      "Trainable layers: 199\n",
      "Non Trainable layers: 5\n",
      "Constructing Base BERT architecture\n",
      "INFO:tensorflow:Saver not created because there are no variables in the graph to restore\n"
     ]
    },
    {
     "name": "stderr",
     "output_type": "stream",
     "text": [
      "I0722 20:54:36.610916 140719148209984 tf_logging.py:115] Saver not created because there are no variables in the graph to restore\n"
     ]
    },
    {
     "name": "stdout",
     "output_type": "stream",
     "text": [
      "__________________________________________________________________________________________________\n",
      "Layer (type)                    Output Shape         Param #     Connected to                     \n",
      "==================================================================================================\n",
      "input_ids (InputLayer)          (None, 512)          0                                            \n",
      "__________________________________________________________________________________________________\n",
      "input_masks (InputLayer)        (None, 512)          0                                            \n",
      "__________________________________________________________________________________________________\n",
      "segment_ids (InputLayer)        (None, 512)          0                                            \n",
      "__________________________________________________________________________________________________\n",
      "bert_layer (BertLayer)          (None, 768)          110104890   input_ids[0][0]                  \n",
      "                                                                 input_masks[0][0]                \n",
      "                                                                 segment_ids[0][0]                \n",
      "__________________________________________________________________________________________________\n",
      "dense (Dense)                   (None, 256)          196864      bert_layer[0][0]                 \n",
      "__________________________________________________________________________________________________\n",
      "dense_1 (Dense)                 (None, 1)            257         dense[0][0]                      \n",
      "==================================================================================================\n",
      "Total params: 110,302,011\n",
      "Trainable params: 109,679,361\n",
      "Non-trainable params: 622,650\n",
      "__________________________________________________________________________________________________\n"
     ]
    }
   ],
   "source": [
    "# load pre-trained base BERT model\n",
    "bc = bcvec.BERTClassifier(bert_model_path=BERT_PATH, \n",
    "                          max_seq_length=MAX_SEQ_LENGTH)\n",
    "bc.build_model_architecture()\n",
    "bc.model_estimator.summary()"
   ]
  },
  {
   "cell_type": "code",
   "execution_count": 9,
   "metadata": {},
   "outputs": [
    {
     "data": {
      "text/plain": [
       "{0: 0.5148642062823978, 1: 34.63785394932936}"
      ]
     },
     "execution_count": 9,
     "metadata": {},
     "output_type": "execute_result"
    }
   ],
   "source": [
    "class_weights = class_weight.compute_class_weight('balanced',\n",
    "                                                  np.unique(btp_train.labels.ravel()),\n",
    "                                                  btp_train.labels.ravel())\n",
    "class_weights = dict(enumerate(class_weights))\n",
    "class_weights[1] *= 2\n",
    "class_weights"
   ]
  },
  {
   "cell_type": "code",
   "execution_count": 10,
   "metadata": {},
   "outputs": [],
   "source": [
    "modelckpt_cb = tf.keras.callbacks.ModelCheckpoint('bert_cve99_weights-ep:{epoch:02d}-trn_loss:{loss:.3f}-trn_acc:{acc:.3f}-val_loss:{val_loss:.3f}-val_acc:{val_acc:.3f}.h5', \n",
    "                                        save_weights_only=True, period=1, verbose=1)"
   ]
  },
  {
   "cell_type": "code",
   "execution_count": 11,
   "metadata": {},
   "outputs": [],
   "source": [
    "btp.initialize_vars(sess)"
   ]
  },
  {
   "cell_type": "code",
   "execution_count": 12,
   "metadata": {},
   "outputs": [
    {
     "name": "stderr",
     "output_type": "stream",
     "text": [
      "/home/redanalyze/anaconda3/lib/python3.6/site-packages/tensorflow/python/ops/gradients_impl.py:112: UserWarning: Converting sparse IndexedSlices to a dense Tensor of unknown shape. This may consume a large amount of memory.\n",
      "  \"Converting sparse IndexedSlices to a dense Tensor of unknown shape. \"\n"
     ]
    },
    {
     "name": "stdout",
     "output_type": "stream",
     "text": [
      "Train on 20917 samples, validate on 2325 samples\n",
      "Epoch 1/5\n",
      "20910/20917 [============================>.] - ETA: 0s - loss: 0.3755 - acc: 0.9063\n",
      "Epoch 00001: saving model to bert_cve99_weights-ep:01-trn_loss:0.375-trn_acc:0.906-val_loss:0.278-val_acc:0.984.h5\n",
      "20917/20917 [==============================] - 2794s 134ms/step - loss: 0.3754 - acc: 0.9063 - val_loss: 0.2784 - val_acc: 0.9837\n",
      "Epoch 2/5\n",
      "20910/20917 [============================>.] - ETA: 0s - loss: 0.1938 - acc: 0.9527\n",
      "Epoch 00002: saving model to bert_cve99_weights-ep:02-trn_loss:0.194-trn_acc:0.953-val_loss:0.217-val_acc:0.948.h5\n",
      "20917/20917 [==============================] - 2783s 133ms/step - loss: 0.1939 - acc: 0.9527 - val_loss: 0.2167 - val_acc: 0.9475\n",
      "Epoch 3/5\n",
      "20910/20917 [============================>.] - ETA: 0s - loss: 0.1114 - acc: 0.9764\n",
      "Epoch 00003: saving model to bert_cve99_weights-ep:03-trn_loss:0.111-trn_acc:0.976-val_loss:0.308-val_acc:0.980.h5\n",
      "20917/20917 [==============================] - 2776s 133ms/step - loss: 0.1114 - acc: 0.9764 - val_loss: 0.3083 - val_acc: 0.9802\n",
      "Epoch 4/5\n",
      "20910/20917 [============================>.] - ETA: 0s - loss: 0.0751 - acc: 0.9836\n",
      "Epoch 00004: saving model to bert_cve99_weights-ep:04-trn_loss:0.075-trn_acc:0.984-val_loss:0.275-val_acc:0.983.h5\n",
      "20917/20917 [==============================] - 2771s 132ms/step - loss: 0.0751 - acc: 0.9836 - val_loss: 0.2748 - val_acc: 0.9832\n",
      "Epoch 5/5\n",
      "20910/20917 [============================>.] - ETA: 0s - loss: 0.0763 - acc: 0.9833\n",
      "Epoch 00005: saving model to bert_cve99_weights-ep:05-trn_loss:0.076-trn_acc:0.983-val_loss:0.368-val_acc:0.981.h5\n",
      "20917/20917 [==============================] - 2775s 133ms/step - loss: 0.0763 - acc: 0.9833 - val_loss: 0.3685 - val_acc: 0.9811\n"
     ]
    }
   ],
   "source": [
    "history = bc.model_estimator.fit(x=[btp_train.input_ids, \n",
    "                                    btp_train.input_masks, \n",
    "                                    btp_train.segment_ids],\n",
    "                                 y=train_labels,\n",
    "                                 validation_split=0.1,\n",
    "                                 epochs=5,\n",
    "                                 batch_size=15,\n",
    "                                 class_weight=class_weights,\n",
    "                                 callbacks=[modelckpt_cb],\n",
    "                                 verbose=1\n",
    ")"
   ]
  },
  {
   "cell_type": "code",
   "execution_count": 17,
   "metadata": {},
   "outputs": [
    {
     "data": {
      "image/png": "[encoded data removed]",
      "text/plain": [
       "<Figure size 864x288 with 2 Axes>"
      ]
     },
     "metadata": {
      "needs_background": "light"
     },
     "output_type": "display_data"
    }
   ],
   "source": [
    "f, (ax1, ax2) = plt.subplots(1, 2, figsize=(12, 4))\n",
    "t = f.suptitle('BERT CVE Model Performance', fontsize=12)\n",
    "f.subplots_adjust(top=0.85, wspace=0.2)\n",
    "\n",
    "epochs = list(range(1,6))\n",
    "ax1.plot(epochs, history.history['acc'], label='Train Accuracy')\n",
    "ax1.plot(epochs, history.history['val_acc'], label='Validation Accuracy')\n",
    "ax1.set_ylabel('Accuracy Value')\n",
    "ax1.set_xlabel('Epoch')\n",
    "ax1.set_title('Accuracy')\n",
    "l1 = ax1.legend(loc=\"best\")\n",
    "\n",
    "ax2.plot(epochs, history.history['loss'], label='Train Loss')\n",
    "ax2.plot(epochs, history.history['val_loss'], label='Validation Loss')\n",
    "ax2.set_ylabel('Loss Value')\n",
    "ax2.set_xlabel('Epoch')\n",
    "ax2.set_title('Loss')\n",
    "l2 = ax2.legend(loc=\"best\")"
   ]
  },
  {
   "cell_type": "code",
   "execution_count": 18,
   "metadata": {},
   "outputs": [
    {
     "data": {
      "text/plain": [
       "5497"
      ]
     },
     "execution_count": 18,
     "metadata": {},
     "output_type": "execute_result"
    }
   ],
   "source": [
    "import gc\n",
    "del bc\n",
    "gc.collect()"
   ]
  },
  {
   "cell_type": "code",
   "execution_count": 20,
   "metadata": {},
   "outputs": [
    {
     "name": "stdout",
     "output_type": "stream",
     "text": [
      "Build BERT Classifier CVE Model Architecture\n",
      "Loading Base BERT Model\n",
      "Trainable layers: 199\n",
      "Non Trainable layers: 5\n",
      "Constructing Base BERT architecture\n",
      "INFO:tensorflow:Saver not created because there are no variables in the graph to restore\n"
     ]
    },
    {
     "name": "stderr",
     "output_type": "stream",
     "text": [
      "I0723 06:14:37.935068 140719148209984 tf_logging.py:115] Saver not created because there are no variables in the graph to restore\n"
     ]
    },
    {
     "name": "stdout",
     "output_type": "stream",
     "text": [
      "Loading BERT Classifier CVE Model Weights\n",
      "23242/23242 [==============================] - 1136s 49ms/step\n"
     ]
    }
   ],
   "source": [
    "bc = bcvec.BERTClassifier(bert_model_path=BERT_PATH, \n",
    "                          max_seq_length=MAX_SEQ_LENGTH)\n",
    "bc.build_model_architecture()\n",
    "bc.load_model_weights(model_weights_path='./bert_cve99_weights-ep:04-trn_loss:0.075-trn_acc:0.984-val_loss:0.275-val_acc:0.983.h5')\n",
    "test_predictions = bc.model_estimator.predict(x=[btp_train.input_ids, \n",
    "                                                 btp_train.input_masks, \n",
    "                                                 btp_train.segment_ids],\n",
    "                                                 batch_size=256,\n",
    "                                              verbose=1)"
   ]
  },
  {
   "cell_type": "code",
   "execution_count": 24,
   "metadata": {},
   "outputs": [
    {
     "name": "stdout",
     "output_type": "stream",
     "text": [
      "Performance Report:\n",
      "              precision    recall  f1-score   support\n",
      "\n",
      "           0       1.00      0.99      1.00     22571\n",
      "           1       0.84      0.96      0.89       671\n",
      "\n",
      "    accuracy                           0.99     23242\n",
      "   macro avg       0.92      0.97      0.94     23242\n",
      "weighted avg       0.99      0.99      0.99     23242\n",
      "\n",
      "[[22445   126]\n",
      " [   30   641]]\n"
     ]
    }
   ],
   "source": [
    "test_preds = test_predictions.ravel()\n",
    "test_preds = [1 if pred > 0.5 else 0 for pred in test_preds]\n",
    "print('Performance Report:')\n",
    "print(classification_report(y_true=train_labels, y_pred=test_preds))\n",
    "print(confusion_matrix(y_true=train_labels, y_pred=test_preds))"
   ]
  },
  {
   "cell_type": "code",
   "execution_count": null,
   "metadata": {},
   "outputs": [],
   "source": []
  }
 ],
 "metadata": {
  "kernelspec": {
   "display_name": "Python 3",
   "language": "python",
   "name": "python3"
  },
  "language_info": {
   "codemirror_mode": {
    "name": "ipython",
    "version": 3
   },
   "file_extension": ".py",
   "mimetype": "text/x-python",
   "name": "python",
   "nbconvert_exporter": "python",
   "pygments_lexer": "ipython3",
   "version": "3.6.8"
  }
 },
 "nbformat": 4,
 "nbformat_minor": 2
}
