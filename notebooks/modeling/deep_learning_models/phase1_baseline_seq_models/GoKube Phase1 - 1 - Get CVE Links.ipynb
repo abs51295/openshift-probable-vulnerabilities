{
 "cells": [
  {
   "cell_type": "code",
   "execution_count": 8,
   "metadata": {},
   "outputs": [],
   "source": [
    "import pandas as pd\n",
    "import numpy as np\n",
    "import re\n",
    "from tqdm import tqdm\n",
    "import requests\n",
    "import gc"
   ]
  },
  {
   "cell_type": "markdown",
   "metadata": {},
   "source": [
    "# Get CVE GitHub Links"
   ]
  },
  {
   "cell_type": "code",
   "execution_count": 9,
   "metadata": {},
   "outputs": [
    {
     "name": "stdout",
     "output_type": "stream",
     "text": [
      "<class 'pandas.core.frame.DataFrame'>\n",
      "RangeIndex: 1881 entries, 0 to 1880\n",
      "Data columns (total 12 columns):\n",
      "CVE ID               1328 non-null object\n",
      "Package name         1804 non-null object\n",
      "Ecosystem            1874 non-null object\n",
      "GH issue             715 non-null object\n",
      "GH PR                373 non-null object\n",
      "GH Commit            948 non-null object\n",
      "Bugzilla             259 non-null object\n",
      "ML                   482 non-null object\n",
      "Other sources        65 non-null object\n",
      "Issue Reported on    51 non-null object\n",
      "CVE reported on      58 non-null object\n",
      "Fixed on             76 non-null object\n",
      "dtypes: object(12)\n",
      "memory usage: 176.4+ KB\n"
     ]
    }
   ],
   "source": [
    "cve_df = pd.read_csv('./data/positive_github_links/go_cves_positive_links-may2019.csv')\n",
    "cve_df.info()"
   ]
  },
  {
   "cell_type": "code",
   "execution_count": 10,
   "metadata": {},
   "outputs": [
    {
     "data": {
      "text/plain": [
       "maven     1272\n",
       "python     259\n",
       "ruby       182\n",
       "go         153\n",
       "nuget        6\n",
       "php          1\n",
       "npm          1\n",
       "Name: Ecosystem, dtype: int64"
      ]
     },
     "execution_count": 10,
     "metadata": {},
     "output_type": "execute_result"
    }
   ],
   "source": [
    "cve_df.Ecosystem.value_counts()"
   ]
  },
  {
   "cell_type": "code",
   "execution_count": 11,
   "metadata": {},
   "outputs": [
    {
     "name": "stdout",
     "output_type": "stream",
     "text": [
      "Issues Before: (715,)\n",
      "Issues After: (759,)\n",
      "PRs Before: (373,)\n",
      "PRs After: (415,)\n",
      "Commits Before: (948,)\n",
      "Commits After: (1153,)\n"
     ]
    }
   ],
   "source": [
    "gh_issues = cve_df['GH issue'].dropna().values\n",
    "print('Issues Before:', gh_issues.shape)\n",
    "gh_issues = [item.strip().split('\\n') for item in gh_issues]\n",
    "gh_issues = np.array([str(item.strip()) for sublist in gh_issues for item in sublist])\n",
    "print('Issues After:', gh_issues.shape)\n",
    "\n",
    "gh_prs = cve_df['GH PR'].dropna().values\n",
    "print('PRs Before:', gh_prs.shape)\n",
    "gh_prs = [item.strip().split('\\n') for item in gh_prs]\n",
    "gh_prs = np.array([str(item.strip()) for sublist in gh_prs for item in sublist])\n",
    "print('PRs After:', gh_prs.shape)\n",
    "\n",
    "gh_commits = cve_df['GH Commit'].dropna().values\n",
    "print('Commits Before:', gh_commits.shape)\n",
    "gh_commits = [item.strip().split('\\n') for item in gh_commits]\n",
    "gh_commits = np.array([str(item.strip()) for sublist in gh_commits for item in sublist])\n",
    "print('Commits After:', gh_commits.shape)"
   ]
  },
  {
   "cell_type": "code",
   "execution_count": 12,
   "metadata": {},
   "outputs": [
    {
     "data": {
      "text/plain": [
       "(2327,)"
      ]
     },
     "execution_count": 12,
     "metadata": {},
     "output_type": "execute_result"
    }
   ],
   "source": [
    "gh_links = np.concatenate((gh_issues, gh_commits, gh_prs))\n",
    "gh_links.shape"
   ]
  },
  {
   "cell_type": "code",
   "execution_count": 13,
   "metadata": {},
   "outputs": [
    {
     "data": {
      "text/plain": [
       "(2218,)"
      ]
     },
     "execution_count": 13,
     "metadata": {},
     "output_type": "execute_result"
    }
   ],
   "source": [
    "gh_links = np.unique(gh_links)\n",
    "gh_links.shape"
   ]
  },
  {
   "cell_type": "code",
   "execution_count": 14,
   "metadata": {},
   "outputs": [],
   "source": [
    "def get_github_cve_links(links):\n",
    "    \n",
    "    issues = []\n",
    "    prs = []\n",
    "    commits = []\n",
    "    \n",
    "    gh_pr_commit_pattern = r'(.*github.com/.*?)/pull/(.*?)/commits/(.*)'\n",
    "    gh_issue_pattern = r'(.*github.com/.*?)/issues/(.*)'    \n",
    "    gh_pr_pattern = r'(.*github.com/.*?)/pull/([0-9]*)'\n",
    "    gh_commit_pattern = r'(.*github.com/.*?)/commit/(.*)'\n",
    "    gh_compare_pattern = r'(.*github.com/.*?)/compare/.*'\n",
    "    \n",
    "    for link in tqdm(links):\n",
    "        \n",
    "        if re.search(gh_pr_commit_pattern, link, re.I):\n",
    "            matches = re.search(gh_pr_commit_pattern, link, re.I).groups()\n",
    "            pr = matches[0]+'/pull/'+matches[1].rstrip('/')\n",
    "            prs.append(pr)\n",
    "            \n",
    "            cm = matches[0]+'/commit/'+matches[2].rstrip('/')\n",
    "            commits.append(cm)\n",
    "            \n",
    "        elif re.search(gh_issue_pattern, link, re.I):\n",
    "            issues.append(link.rstrip('/'))   \n",
    "            \n",
    "        elif re.search(gh_pr_pattern, link, re.I):\n",
    "            matches = re.search(gh_pr_pattern, link, re.I).groups()\n",
    "            repo_name = matches[0]\n",
    "            pr = repo_name+'/pull/'+matches[1].rstrip('/')\n",
    "            prs.append(pr)\n",
    "            \n",
    "            patch_link = pr+'.patch'\n",
    "            response = requests.get(patch_link)\n",
    "            if response.status_code != 200:\n",
    "                print('Failed for link:'+patch_link)\n",
    "                # log failure here not print\n",
    "            else:\n",
    "                data = response.text\n",
    "                commit_hashes = re.findall(r'(?:\\n|^)from (.*?)\\s', data, re.I)\n",
    "                commit_hashes = [item for item in commit_hashes if item.isalnum()]\n",
    "                commit_links = [repo_name+'/commit/'+item.rstrip('/') for item in commit_hashes]\n",
    "                commits.extend(commit_links)                  \n",
    "            \n",
    "        elif re.search(gh_commit_pattern, link, re.I):\n",
    "            link = link.split('#')[0].strip().rstrip('/')\n",
    "            commits.append(link)\n",
    "            \n",
    "        elif re.search(gh_compare_pattern, link, re.I):\n",
    "            match = re.search(gh_compare_pattern, link, re.I).groups()\n",
    "            repo_name = match[0]\n",
    "            patch_link = link.rstrip('/')+'.patch'\n",
    "            response = requests.get(patch_link)\n",
    "            if response.status_code != 200:\n",
    "                print('Failed for link:'+patch_link)\n",
    "                # log failure here not print\n",
    "            else:\n",
    "                data = response.text\n",
    "                commit_hashes = re.findall(r'(?:\\n|^)from (.*?)\\s', data, re.I)\n",
    "                commit_hashes = [item for item in commit_hashes if item.isalnum()]\n",
    "                commit_links = [repo_name+'/commit/'+item.rstrip('/') for item in commit_hashes]\n",
    "                commits.extend(commit_links)\n",
    "                \n",
    "    \n",
    "    issues = np.array(list(set(issues)))\n",
    "    prs = np.array(list(set(prs)))\n",
    "    commits = np.array(list(set(commits)))\n",
    "            \n",
    "    return issues, prs, commits"
   ]
  },
  {
   "cell_type": "code",
   "execution_count": 15,
   "metadata": {},
   "outputs": [
    {
     "name": "stderr",
     "output_type": "stream",
     "text": [
      " 24%|██▎       | 523/2218 [00:55<03:46,  7.48it/s]"
     ]
    },
    {
     "name": "stdout",
     "output_type": "stream",
     "text": [
      "Failed for link:https://github.com/apache/tomcat70/compare/6b41fb05c0f6af5e6cc103ac8e5ae9da5f128606...e519f4e86bf3447934f1c399ecaff8a222e38241.patch\n"
     ]
    },
    {
     "name": "stderr",
     "output_type": "stream",
     "text": [
      "\r",
      " 24%|██▍       | 529/2218 [00:55<02:58,  9.46it/s]"
     ]
    },
    {
     "name": "stdout",
     "output_type": "stream",
     "text": [
      "Failed for link:https://github.com/apache/tomcat70/compare/72a8692370b4323f4d05b166f48a0913801fbe4f...a27df4fd31b1cd85f100b8b94e3b33dde92a3c0a.patch\n"
     ]
    },
    {
     "name": "stderr",
     "output_type": "stream",
     "text": [
      "100%|██████████| 2218/2218 [03:24<00:00, 10.87it/s]\n"
     ]
    }
   ],
   "source": [
    "issues, prs, commits = get_github_cve_links(gh_links)"
   ]
  },
  {
   "cell_type": "code",
   "execution_count": 16,
   "metadata": {},
   "outputs": [
    {
     "data": {
      "text/plain": [
       "((286,), (382,), (3190,))"
      ]
     },
     "execution_count": 16,
     "metadata": {},
     "output_type": "execute_result"
    }
   ],
   "source": [
    "issues.shape, prs.shape, commits.shape"
   ]
  },
  {
   "cell_type": "code",
   "execution_count": 17,
   "metadata": {},
   "outputs": [],
   "source": [
    "issue_df = pd.DataFrame(issues, columns=['issue'])\n",
    "pr_df = pd.DataFrame(prs, columns=['pull_request'])\n",
    "commits_df = pd.DataFrame(commits, columns=['commit'])"
   ]
  },
  {
   "cell_type": "code",
   "execution_count": 19,
   "metadata": {},
   "outputs": [],
   "source": [
    "issue_df.to_csv('./data/gokube_phase1_jun19/gh_cve_issue_links.csv', index=False)\n",
    "pr_df.to_csv('./data/gokube_phase1_jun19/gh_cve_pr_links.csv', index=False)"
   ]
  }
 ],
 "metadata": {
  "kernelspec": {
   "display_name": "Python 3",
   "language": "python",
   "name": "python3"
  },
  "language_info": {
   "codemirror_mode": {
    "name": "ipython",
    "version": 3
   },
   "file_extension": ".py",
   "mimetype": "text/x-python",
   "name": "python",
   "nbconvert_exporter": "python",
   "pygments_lexer": "ipython3",
   "version": "3.6.8"
  }
 },
 "nbformat": 4,
 "nbformat_minor": 2
}
