{
 "cells": [
  {
   "cell_type": "code",
   "execution_count": 27,
   "metadata": {},
   "outputs": [],
   "source": [
    "import pandas as pd\n",
    "import numpy as np\n",
    "import os\n",
    "import requests\n",
    "from tqdm import tqdm\n",
    "import re"
   ]
  },
  {
   "cell_type": "markdown",
   "metadata": {},
   "source": [
    "# Label GitHub Issues"
   ]
  },
  {
   "cell_type": "code",
   "execution_count": 2,
   "metadata": {},
   "outputs": [
    {
     "name": "stdout",
     "output_type": "stream",
     "text": [
      "<class 'pandas.core.frame.DataFrame'>\n",
      "RangeIndex: 195866 entries, 0 to 195865\n",
      "Data columns (total 18 columns):\n",
      "repo_name                195866 non-null object\n",
      "event_type               195866 non-null object\n",
      "actor_id                 195866 non-null int64\n",
      "actor_name               195866 non-null object\n",
      "issue_status             195866 non-null object\n",
      "issue_api_url            195866 non-null object\n",
      "issue_url                195866 non-null object\n",
      "issue_creator_name       195866 non-null object\n",
      "issue_creator_api_url    195866 non-null object\n",
      "issue_creator_url        195866 non-null object\n",
      "comment_count            195866 non-null int64\n",
      "issue_id                 195866 non-null int64\n",
      "issue_number             195866 non-null int64\n",
      "issue_created_at         195866 non-null object\n",
      "issue_updated_at         195866 non-null object\n",
      "issue_closed_at          89574 non-null object\n",
      "issue_title              195863 non-null object\n",
      "issue_body               194279 non-null object\n",
      "dtypes: int64(4), object(14)\n",
      "memory usage: 26.9+ MB\n"
     ]
    }
   ],
   "source": [
    "gh_bq_issues = pd.read_csv('./data/gokube_phase1_jun19/GH_unlabeled_issues.csv')\n",
    "gh_bq_issues.info()"
   ]
  },
  {
   "cell_type": "code",
   "execution_count": 14,
   "metadata": {},
   "outputs": [
    {
     "data": {
      "text/plain": [
       "(86356, 18)"
      ]
     },
     "execution_count": 14,
     "metadata": {},
     "output_type": "execute_result"
    }
   ],
   "source": [
    "gh_bq_issues = gh_bq_issues[~pd.isnull(gh_bq_issues.issue_id)]\n",
    "gh_bq_issues.issue_created_at = pd.to_datetime(gh_bq_issues.issue_created_at)\n",
    "gh_bq_issues.issue_updated_at = pd.to_datetime(gh_bq_issues.issue_updated_at)\n",
    "gh_bq_issues.issue_closed_at = pd.to_datetime(gh_bq_issues.issue_closed_at)\n",
    "\n",
    "gh_bq_issues = gh_bq_issues[gh_bq_issues.issue_created_at.dt.year <= 2019]\n",
    "gh_bq_issues = gh_bq_issues[gh_bq_issues.issue_updated_at.dt.year <= 2019]\n",
    "gh_bq_issues = gh_bq_issues[gh_bq_issues.issue_closed_at.dt.year <= 2019]\n",
    "\n",
    "gh_bq_issues = gh_bq_issues.loc[gh_bq_issues.groupby('issue_id').issue_updated_at.idxmax(skipna=False)]\n",
    "\n",
    "gh_bq_issues.shape"
   ]
  },
  {
   "cell_type": "code",
   "execution_count": 24,
   "metadata": {},
   "outputs": [
    {
     "name": "stdout",
     "output_type": "stream",
     "text": [
      "Total CVE issues: 289\n"
     ]
    }
   ],
   "source": [
    "gh_cve_issue_links = pd.read_csv('./data/gokube_phase1_jun19/gh_cve_issue_links.csv')\n",
    "cve_issue_links = gh_cve_issue_links.issue.tolist()\n",
    "cve_issue_links.extend(['https://github.com/golang/go/issues/30642', \n",
    "                        'https://github.com/golang/go/issues/30794', \n",
    "                        'https://github.com/hashicorp/consul/issues/5423'])\n",
    "print('Total CVE issues:', len(cve_issue_links))"
   ]
  },
  {
   "cell_type": "code",
   "execution_count": 25,
   "metadata": {},
   "outputs": [
    {
     "data": {
      "text/plain": [
       "(22, 18)"
      ]
     },
     "execution_count": 25,
     "metadata": {},
     "output_type": "execute_result"
    }
   ],
   "source": [
    "cve_issues = gh_bq_issues[gh_bq_issues.issue_url.isin(cve_issue_links)]\n",
    "cve_issues.shape"
   ]
  },
  {
   "cell_type": "code",
   "execution_count": 26,
   "metadata": {},
   "outputs": [
    {
     "name": "stdout",
     "output_type": "stream",
     "text": [
      "Issues not found in unlabeled data:  267\n"
     ]
    }
   ],
   "source": [
    "found_issue_urls = cve_issues.issue_url.tolist()\n",
    "not_found_issue_urls = list(set(cve_issue_links) - set(found_issue_urls))\n",
    "print('Issues not found in unlabeled data: ', len(not_found_issue_urls))"
   ]
  },
  {
   "cell_type": "code",
   "execution_count": 28,
   "metadata": {},
   "outputs": [
    {
     "name": "stderr",
     "output_type": "stream",
     "text": [
      "100%|██████████| 267/267 [01:09<00:00,  4.41it/s]"
     ]
    },
    {
     "name": "stdout",
     "output_type": "stream",
     "text": [
      "Found missing issues: 267\n"
     ]
    },
    {
     "name": "stderr",
     "output_type": "stream",
     "text": [
      "\n"
     ]
    }
   ],
   "source": [
    "not_found_api_urls = ['https://api.github.com/repos/'+re.search(r'.*github.com/(.*)', link, re.I).groups()[0]\n",
    "                          for link in not_found_issue_urls]\n",
    "\n",
    "data = []\n",
    "for link in tqdm(not_found_api_urls):\n",
    "    response = requests.get(link,\n",
    "                            auth=('dipanjanS', ''))\n",
    "    if not response.status_code == 200:\n",
    "        print('Failed for link: '+link)\n",
    "        # log this later\n",
    "    else:\n",
    "        content = response.json()\n",
    "        issue_dict = {\n",
    "            'repo_name': re.search(r'.*github.com/repos/(.*?)/issues', \n",
    "                                   link, re.I).groups()[0],\n",
    "            'event_type': 'IssuesEvent',\n",
    "            'actor_id': content.get('user').get('id'),\n",
    "            'actor_name': content.get('user').get('login'),\n",
    "            'issue_status': content.get('state'),\n",
    "            'issue_api_url': content.get('url'),\n",
    "            'issue_url': content.get('html_url'),\n",
    "            'issue_creator_name': content.get('user').get('login'),\n",
    "            'issue_creator_api_url': content.get('user').get('url'),\n",
    "            'issue_creator_url': content.get('user').get('html_url'),\n",
    "            'comment_count': content.get('comments'),\n",
    "            'issue_id': content.get('id'),\n",
    "            'issue_number': content.get('number'),\n",
    "            'issue_created_at': content.get('created_at'),\n",
    "            'issue_updated_at': content.get('updated_at'),\n",
    "            'issue_closed_at': content.get('closed_at'),\n",
    "            'issue_title': content.get('title'),\n",
    "            'issue_body': content.get('body')\n",
    "        }\n",
    "        if issue_dict:\n",
    "            data.append(issue_dict)\n",
    "\n",
    "print('Found missing issues:', len(data))"
   ]
  },
  {
   "cell_type": "code",
   "execution_count": 30,
   "metadata": {},
   "outputs": [
    {
     "data": {
      "text/plain": [
       "((289, 18), (86334, 18))"
      ]
     },
     "execution_count": 30,
     "metadata": {},
     "output_type": "execute_result"
    }
   ],
   "source": [
    "cve_issues_nf = pd.DataFrame(data)\n",
    "cve_issues_nf = cve_issues_nf[cve_issues.columns.tolist()]\n",
    "\n",
    "gh_bq_issues_cve = pd.concat([cve_issues, cve_issues_nf], axis=0).reset_index(drop=True)\n",
    "gh_bq_issues_negative = gh_bq_issues.drop(cve_issues.index.tolist()).reset_index(drop=True)\n",
    "gh_bq_issues_cve.shape, gh_bq_issues_negative.shape"
   ]
  },
  {
   "cell_type": "code",
   "execution_count": 34,
   "metadata": {},
   "outputs": [
    {
     "data": {
      "text/plain": [
       "(86623, 19)"
      ]
     },
     "execution_count": 34,
     "metadata": {},
     "output_type": "execute_result"
    }
   ],
   "source": [
    "gh_bq_issues_cve['class_label'] = 2\n",
    "gh_bq_issues_negative['class_label'] = 0\n",
    "\n",
    "gh_bq_issues_processed = pd.concat([gh_bq_issues_negative, gh_bq_issues_cve], axis=0).reset_index(drop=True)\n",
    "gh_bq_issues_processed.shape"
   ]
  },
  {
   "cell_type": "code",
   "execution_count": 38,
   "metadata": {},
   "outputs": [],
   "source": [
    "gh_bq_issues_processed.to_csv('./data/gokube_phase1_jun19/GH_cve_labeled_issues.csv', index=False)"
   ]
  },
  {
   "cell_type": "markdown",
   "metadata": {},
   "source": [
    "# Label GitHub Pull Requests"
   ]
  },
  {
   "cell_type": "code",
   "execution_count": 39,
   "metadata": {},
   "outputs": [
    {
     "name": "stdout",
     "output_type": "stream",
     "text": [
      "<class 'pandas.core.frame.DataFrame'>\n",
      "RangeIndex: 168759 entries, 0 to 168758\n",
      "Data columns (total 27 columns):\n",
      "repo_name                   168759 non-null object\n",
      "event_type                  168759 non-null object\n",
      "actor_id                    168759 non-null int64\n",
      "actor_name                  168759 non-null object\n",
      "pr_status                   168759 non-null object\n",
      "pr_id                       168759 non-null int64\n",
      "pr_number                   168759 non-null int64\n",
      "pr_api_url                  168759 non-null object\n",
      "pr_url                      168759 non-null object\n",
      "pr_diff_url                 168759 non-null object\n",
      "pr_patch_url                168759 non-null object\n",
      "pr_creator_name             168759 non-null object\n",
      "pr_creator_api_url          168759 non-null object\n",
      "pr_creator_url              168759 non-null object\n",
      "pr_created_at               168759 non-null object\n",
      "pr_updated_at               168759 non-null object\n",
      "pr_closed_at                83684 non-null object\n",
      "pr_merged_at                65214 non-null object\n",
      "pr_merged_status            168759 non-null bool\n",
      "pr_comments_count           168759 non-null int64\n",
      "pr_review_comments_count    168759 non-null int64\n",
      "pr_commits_count            168759 non-null int64\n",
      "pr_additions_count          168759 non-null int64\n",
      "pr_deletions_count          168759 non-null int64\n",
      "pr_changed_files_count      168759 non-null int64\n",
      "pr_title                    168759 non-null object\n",
      "pr_body                     153862 non-null object\n",
      "dtypes: bool(1), int64(9), object(17)\n",
      "memory usage: 33.6+ MB\n"
     ]
    }
   ],
   "source": [
    "gh_bq_prs = pd.read_csv('./data/gokube_phase1_jun19/GH_unlabeled_prs.csv')\n",
    "gh_bq_prs.info()"
   ]
  },
  {
   "cell_type": "code",
   "execution_count": 40,
   "metadata": {},
   "outputs": [],
   "source": [
    "gh_bq_prs = gh_bq_prs[~pd.isnull(gh_bq_prs.pr_title)]\n",
    "\n",
    "def fill_missing_links(record):\n",
    "    repo_name = record['repo_name']\n",
    "    pr_number = str(record['pr_number'])\n",
    "    if pd.isnull(record['pr_api_url']):\n",
    "        record['pr_api_url'] = 'https://api.github.com/repos/'+repo_name+'/pulls/'+pr_number\n",
    "    if pd.isnull(record['pr_url']):\n",
    "        record['pr_url'] = 'https://github.com/'+repo_name+'/pull/'+pr_number \n",
    "    if pd.isnull(record['pr_diff_url']):\n",
    "        record['pr_diff_url'] = 'https://github.com/'+repo_name+'/pull/'+pr_number+'.diff' \n",
    "    if pd.isnull(record['pr_patch_url']):\n",
    "        record['pr_patch_url'] = 'https://github.com/'+repo_name+'/pull/'+pr_number+'.patch'\n",
    "    return record\n",
    "\n",
    "gh_bq_prs = gh_bq_prs.apply(lambda row: fill_missing_links(row), axis=1)"
   ]
  },
  {
   "cell_type": "code",
   "execution_count": 41,
   "metadata": {},
   "outputs": [
    {
     "data": {
      "text/plain": [
       "((0, 27), (168759, 27))"
      ]
     },
     "execution_count": 41,
     "metadata": {},
     "output_type": "execute_result"
    }
   ],
   "source": [
    "gh_bq_prs_missing_info = gh_bq_prs[pd.isnull(gh_bq_prs.pr_updated_at)]\n",
    "gh_bq_prs_full_info = gh_bq_prs[~pd.isnull(gh_bq_prs.pr_updated_at)]\n",
    "gh_bq_prs_missing_info.shape, gh_bq_prs_full_info.shape"
   ]
  },
  {
   "cell_type": "code",
   "execution_count": 42,
   "metadata": {},
   "outputs": [
    {
     "data": {
      "text/plain": [
       "(0, 27)"
      ]
     },
     "execution_count": 42,
     "metadata": {},
     "output_type": "execute_result"
    }
   ],
   "source": [
    "gh_bq_prs_missing_info = gh_bq_prs_missing_info.drop_duplicates(subset=['pr_url'], keep=\"last\")\n",
    "gh_bq_prs_missing_info.shape"
   ]
  },
  {
   "cell_type": "code",
   "execution_count": 43,
   "metadata": {},
   "outputs": [
    {
     "data": {
      "text/plain": [
       "(65176, 27)"
      ]
     },
     "execution_count": 43,
     "metadata": {},
     "output_type": "execute_result"
    }
   ],
   "source": [
    "gh_bq_prs_full_info.pr_created_at = pd.to_datetime(gh_bq_prs_full_info.pr_created_at)\n",
    "gh_bq_prs_full_info.pr_updated_at = pd.to_datetime(gh_bq_prs_full_info.pr_updated_at)\n",
    "gh_bq_prs_full_info.pr_closed_at = pd.to_datetime(gh_bq_prs_full_info.pr_closed_at)\n",
    "gh_bq_prs_full_info.pr_merged_at = pd.to_datetime(gh_bq_prs_full_info.pr_merged_at)\n",
    "\n",
    "gh_bq_prs_full_info = gh_bq_prs_full_info[gh_bq_prs_full_info.pr_created_at.dt.year <= 2019]\n",
    "gh_bq_prs_full_info = gh_bq_prs_full_info[gh_bq_prs_full_info.pr_updated_at.dt.year <= 2019]\n",
    "gh_bq_prs_full_info = gh_bq_prs_full_info[gh_bq_prs_full_info.pr_closed_at.dt.year <= 2019]\n",
    "gh_bq_prs_full_info = gh_bq_prs_full_info[gh_bq_prs_full_info.pr_merged_at.dt.year <= 2019]\n",
    "\n",
    "gh_bq_prs_full_info = gh_bq_prs_full_info.loc[gh_bq_prs_full_info.groupby('pr_url').pr_updated_at.idxmax(skipna=False)]\n",
    "gh_bq_prs_full_info.shape"
   ]
  },
  {
   "cell_type": "code",
   "execution_count": 44,
   "metadata": {},
   "outputs": [
    {
     "data": {
      "text/plain": [
       "(65176, 27)"
      ]
     },
     "execution_count": 44,
     "metadata": {},
     "output_type": "execute_result"
    }
   ],
   "source": [
    "gh_bq_prs = pd.concat([gh_bq_prs_full_info, gh_bq_prs_missing_info], axis=0).reset_index(drop=True)\n",
    "gh_bq_prs.shape"
   ]
  },
  {
   "cell_type": "code",
   "execution_count": 48,
   "metadata": {},
   "outputs": [
    {
     "name": "stdout",
     "output_type": "stream",
     "text": [
      "Total CVE PRs: 382\n"
     ]
    }
   ],
   "source": [
    "gh_cve_pr_links = pd.read_csv('./data/gokube_phase1_jun19/gh_cve_pr_links.csv')\n",
    "cve_pr_links = gh_cve_pr_links.pull_request.tolist()\n",
    "print('Total CVE PRs:', len(cve_pr_links))"
   ]
  },
  {
   "cell_type": "code",
   "execution_count": 49,
   "metadata": {},
   "outputs": [
    {
     "data": {
      "text/plain": [
       "(30, 27)"
      ]
     },
     "execution_count": 49,
     "metadata": {},
     "output_type": "execute_result"
    }
   ],
   "source": [
    "cve_prs = gh_bq_prs[gh_bq_prs.pr_url.isin(cve_pr_links)]\n",
    "cve_prs.shape"
   ]
  },
  {
   "cell_type": "code",
   "execution_count": 51,
   "metadata": {},
   "outputs": [
    {
     "name": "stdout",
     "output_type": "stream",
     "text": [
      "PRs not found in unlabeled data: 352\n"
     ]
    }
   ],
   "source": [
    "found_pr_urls = cve_prs.pr_url.tolist()\n",
    "not_found_pr_urls = list(set(cve_pr_links) - set(found_pr_urls))\n",
    "print('PRs not found in unlabeled data:', len(not_found_pr_urls))"
   ]
  },
  {
   "cell_type": "code",
   "execution_count": 52,
   "metadata": {},
   "outputs": [
    {
     "name": "stderr",
     "output_type": "stream",
     "text": [
      "100%|██████████| 352/352 [02:50<00:00,  2.55it/s]"
     ]
    },
    {
     "name": "stdout",
     "output_type": "stream",
     "text": [
      "352\n"
     ]
    },
    {
     "name": "stderr",
     "output_type": "stream",
     "text": [
      "\n"
     ]
    }
   ],
   "source": [
    "not_found_api_urls = [re.sub('/pull/', '/pulls/', \n",
    "                             ('https://api.github.com/repos/'+re.search(r'.*github.com/(.*)', link, re.I)\n",
    "                              .groups()[0]), re.I)\n",
    "                          for link in not_found_pr_urls]\n",
    "\n",
    "data = []\n",
    "for link in tqdm(not_found_api_urls):\n",
    "    response = requests.get(link,\n",
    "                            auth=('dipanjanS', ''))\n",
    "    if not response.status_code == 200:\n",
    "        print('Failed for link: '+link)\n",
    "        # log this later\n",
    "    else:\n",
    "        content = response.json()\n",
    "        pr_dict = {\n",
    "            'repo_name': re.search(r'.*github.com/repos/(.*?)/pulls', \n",
    "                                   link, re.I).groups()[0],\n",
    "            'event_type': 'PullRequestEvent',\n",
    "            'actor_id': content.get('user').get('id'),\n",
    "            'actor_name': content.get('user').get('login'),\n",
    "            'pr_status': content.get('state'),\n",
    "            'pr_id': content.get('id'),\n",
    "            'pr_number': content.get('number'),\n",
    "            'pr_api_url': content.get('url'),\n",
    "            'pr_url': content.get('html_url'),\n",
    "            'pr_diff_url': content.get('diff_url'),\n",
    "            'pr_patch_url': content.get('patch_url'),\n",
    "            'pr_creator_name': content.get('user').get('login'),\n",
    "            'pr_creator_api_url': content.get('user').get('url'),\n",
    "            'pr_creator_url': content.get('user').get('html_url'),         \n",
    "            'pr_created_at': content.get('created_at'),\n",
    "            'pr_updated_at': content.get('updated_at'),\n",
    "            'pr_closed_at': content.get('closed_at'),\n",
    "            'pr_merged_at': content.get('merged_at'),\n",
    "            'pr_merged_status': content.get('merged'),\n",
    "            'pr_comments_count': content.get('comments'),\n",
    "            'pr_review_comments_count': content.get('review_comments'),\n",
    "            'pr_commits_count': content.get('commits'),\n",
    "            'pr_additions_count': content.get('additions'),\n",
    "            'pr_deletions_count': content.get('deletions'),\n",
    "            'pr_changed_files_count': content.get('changed_files'),\n",
    "            'pr_title': content.get('title'),\n",
    "            'pr_body': content.get('body')\n",
    "        }\n",
    "        if pr_dict:\n",
    "            data.append(pr_dict)\n",
    "\n",
    "print(len(data))"
   ]
  },
  {
   "cell_type": "code",
   "execution_count": 53,
   "metadata": {},
   "outputs": [
    {
     "data": {
      "text/plain": [
       "((382, 27), (65146, 27))"
      ]
     },
     "execution_count": 53,
     "metadata": {},
     "output_type": "execute_result"
    }
   ],
   "source": [
    "cve_prs_nf = pd.DataFrame(data)\n",
    "cve_prs_nf = cve_prs_nf[cve_prs.columns.tolist()]\n",
    "\n",
    "gh_bq_prs_cve = pd.concat([cve_prs, cve_prs_nf], axis=0).reset_index(drop=True)\n",
    "gh_bq_prs_negative = gh_bq_prs.drop(cve_prs.index.tolist()).reset_index(drop=True)\n",
    "gh_bq_prs_cve.shape, gh_bq_prs_negative.shape"
   ]
  },
  {
   "cell_type": "code",
   "execution_count": 54,
   "metadata": {},
   "outputs": [
    {
     "data": {
      "text/plain": [
       "(65528, 28)"
      ]
     },
     "execution_count": 54,
     "metadata": {},
     "output_type": "execute_result"
    }
   ],
   "source": [
    "gh_bq_prs_cve['class_label'] = 2\n",
    "gh_bq_prs_negative['class_label'] = 0\n",
    "\n",
    "gh_bq_prs_processed = pd.concat([gh_bq_prs_negative, gh_bq_prs_cve], axis=0).reset_index(drop=True)\n",
    "gh_bq_prs_processed.shape"
   ]
  },
  {
   "cell_type": "code",
   "execution_count": 55,
   "metadata": {},
   "outputs": [],
   "source": [
    "gh_bq_prs_processed.to_csv('./data/gokube_phase1_jun19/GH_cve_labeled_prs.csv', index=False)"
   ]
  }
 ],
 "metadata": {
  "kernelspec": {
   "display_name": "Python 3",
   "language": "python",
   "name": "python3"
  },
  "language_info": {
   "codemirror_mode": {
    "name": "ipython",
    "version": 3
   },
   "file_extension": ".py",
   "mimetype": "text/x-python",
   "name": "python",
   "nbconvert_exporter": "python",
   "pygments_lexer": "ipython3",
   "version": "3.6.8"
  }
 },
 "nbformat": 4,
 "nbformat_minor": 2
}
