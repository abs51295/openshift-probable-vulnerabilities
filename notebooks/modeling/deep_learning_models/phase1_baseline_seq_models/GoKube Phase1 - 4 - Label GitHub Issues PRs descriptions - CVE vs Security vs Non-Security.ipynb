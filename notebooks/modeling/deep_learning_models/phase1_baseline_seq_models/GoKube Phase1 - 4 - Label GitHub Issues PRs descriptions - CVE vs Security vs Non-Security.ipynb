{
 "cells": [
  {
   "cell_type": "code",
   "execution_count": 1,
   "metadata": {},
   "outputs": [],
   "source": [
    "import re\n",
    "import pandas as pd\n",
    "import numpy as np"
   ]
  },
  {
   "cell_type": "code",
   "execution_count": 3,
   "metadata": {},
   "outputs": [
    {
     "name": "stdout",
     "output_type": "stream",
     "text": [
      "<class 'pandas.core.frame.DataFrame'>\n",
      "RangeIndex: 152151 entries, 0 to 152150\n",
      "Data columns (total 2 columns):\n",
      "description    152151 non-null object\n",
      "class_label    152151 non-null int64\n",
      "dtypes: int64(1), object(1)\n",
      "memory usage: 2.3+ MB\n"
     ]
    }
   ],
   "source": [
    "issues_df = pd.read_csv('./data/gokube_phase1_jun19/GH_cve_labeled_issues.csv')\n",
    "prs_df = pd.read_csv('./data/gokube_phase1_jun19/GH_cve_labeled_prs.csv')\n",
    "\n",
    "issues_df['issue_title'] = issues_df.issue_title.fillna('')\n",
    "issues_df['issue_body'] = issues_df.issue_body.fillna('')\n",
    "issues_df['description'] = issues_df['issue_title'].map(str) + ' ' + issues_df['issue_body']\n",
    "\n",
    "prs_df['pr_title'] = prs_df.pr_title.fillna('')\n",
    "prs_df['pr_body'] = prs_df.pr_body.fillna('')\n",
    "prs_df['description'] = prs_df['pr_title'].map(str) + ' ' + prs_df['pr_body']\n",
    "\n",
    "df = pd.concat([issues_df[['description', 'class_label']], \n",
    "                prs_df[['description', 'class_label']]], axis=0).reset_index(drop=True)\n",
    "df.info()"
   ]
  },
  {
   "cell_type": "code",
   "execution_count": 4,
   "metadata": {},
   "outputs": [
    {
     "data": {
      "text/plain": [
       "0    151480\n",
       "2       671\n",
       "Name: class_label, dtype: int64"
      ]
     },
     "execution_count": 4,
     "metadata": {},
     "output_type": "execute_result"
    }
   ],
   "source": [
    "df.class_label.value_counts()"
   ]
  },
  {
   "cell_type": "code",
   "execution_count": 5,
   "metadata": {},
   "outputs": [],
   "source": [
    "def security_vulnerability_labeler(issue_description):\n",
    "    strong_vuln_pattern = ('(?i)(advisory|attack|(un)?authoriz(e|ation)|'\n",
    "                           'clickjack|cross.site|csrf|\\\\bCVE.*?\\\\b|deadlock|'\n",
    "                           'denial.of.service|\\\\bEOP\\\\b|exploit|hijack|'\n",
    "                           'infinite.loop|malicious|\\\\bNVD\\\\b|OSVDB|'\n",
    "                           '\\\\bRCE\\\\b|\\\\bReDoS\\\\b|\\\\bDDoS\\\\b|remote.code.execution|'\n",
    "                           'security|victim|\\\\bvuln|\\\\bXEE\\\\b|\\\\bXSRF\\\\b|'\n",
    "                           '\\\\bXSS\\\\b|\\\\bXXE\\\\b)')\n",
    "\n",
    "    medium_vuln_pattern = ('(?i)(authenticat(e|ion)|brute force|bypass|'\n",
    "                           'constant.time|crack|credential|\\\\bDoS\\\\b|'\n",
    "                           'expos(e|ing)|hack|harden|injection|lockout|'\n",
    "                           'overflow|password|\\\\bPoC\\\\b|proof.of.concept|'\n",
    "                           'poison|priv(ilege|elege|elage|lage)|\\\\b(in)?secur(e|ity)|'\n",
    "                           '(de)?serializ|spoof|timing|traversal)')\n",
    "\n",
    "    low_vuln_pattern = ('(?i)(abuse|compliant|constant.time|credential|\\\\bcrypto|'\n",
    "                        'escalate|exhaustion|forced|infinite|RFC\\\\d{4,5})')\n",
    "    \n",
    "    if (re.findall(low_vuln_pattern, issue_description, re.I) or\n",
    "        re.findall(medium_vuln_pattern, issue_description, re.I) or\n",
    "        re.findall(strong_vuln_pattern, issue_description, re.I)):\n",
    "        return 1\n",
    "    else:\n",
    "        return 0"
   ]
  },
  {
   "cell_type": "code",
   "execution_count": 6,
   "metadata": {},
   "outputs": [],
   "source": [
    "negative_df = df[df.class_label == 0]\n",
    "positive_df = df[df.class_label == 2]"
   ]
  },
  {
   "cell_type": "code",
   "execution_count": 13,
   "metadata": {},
   "outputs": [
    {
     "name": "stderr",
     "output_type": "stream",
     "text": [
      "/home/redanalyze/anaconda3/lib/python3.6/site-packages/ipykernel_launcher.py:1: SettingWithCopyWarning: \n",
      "A value is trying to be set on a copy of a slice from a DataFrame.\n",
      "Try using .loc[row_indexer,col_indexer] = value instead\n",
      "\n",
      "See the caveats in the documentation: http://pandas.pydata.org/pandas-docs/stable/indexing.html#indexing-view-versus-copy\n",
      "  \"\"\"Entry point for launching an IPython kernel.\n"
     ]
    }
   ],
   "source": [
    "negative_df['label'] = negative_df.apply(lambda row: security_vulnerability_labeler(row.description), axis=1)"
   ]
  },
  {
   "cell_type": "code",
   "execution_count": 14,
   "metadata": {},
   "outputs": [
    {
     "name": "stderr",
     "output_type": "stream",
     "text": [
      "/home/redanalyze/anaconda3/lib/python3.6/site-packages/ipykernel_launcher.py:1: SettingWithCopyWarning: \n",
      "A value is trying to be set on a copy of a slice from a DataFrame.\n",
      "Try using .loc[row_indexer,col_indexer] = value instead\n",
      "\n",
      "See the caveats in the documentation: http://pandas.pydata.org/pandas-docs/stable/indexing.html#indexing-view-versus-copy\n",
      "  \"\"\"Entry point for launching an IPython kernel.\n"
     ]
    }
   ],
   "source": [
    "positive_df['label'] = positive_df['class_label']"
   ]
  },
  {
   "cell_type": "code",
   "execution_count": 15,
   "metadata": {},
   "outputs": [
    {
     "name": "stdout",
     "output_type": "stream",
     "text": [
      "<class 'pandas.core.frame.DataFrame'>\n",
      "RangeIndex: 152151 entries, 0 to 152150\n",
      "Data columns (total 2 columns):\n",
      "description    152151 non-null object\n",
      "label          152151 non-null int64\n",
      "dtypes: int64(1), object(1)\n",
      "memory usage: 2.3+ MB\n"
     ]
    }
   ],
   "source": [
    "df = pd.concat([positive_df[['description', 'label']],\n",
    "                negative_df[['description', 'label']]], axis=0).reset_index(drop=True)\n",
    "df.info()"
   ]
  },
  {
   "cell_type": "code",
   "execution_count": 16,
   "metadata": {},
   "outputs": [
    {
     "data": {
      "text/plain": [
       "0    128908\n",
       "1     22572\n",
       "2       671\n",
       "Name: label, dtype: int64"
      ]
     },
     "execution_count": 16,
     "metadata": {},
     "output_type": "execute_result"
    }
   ],
   "source": [
    "df['label'].value_counts()"
   ]
  },
  {
   "cell_type": "code",
   "execution_count": 17,
   "metadata": {},
   "outputs": [],
   "source": [
    "df.to_csv('./data/gokube_phase1_jun19/GH_complete_labeled_issues_prs.csv', index=False)"
   ]
  }
 ],
 "metadata": {
  "kernelspec": {
   "display_name": "Python 3",
   "language": "python",
   "name": "python3"
  },
  "language_info": {
   "codemirror_mode": {
    "name": "ipython",
    "version": 3
   },
   "file_extension": ".py",
   "mimetype": "text/x-python",
   "name": "python",
   "nbconvert_exporter": "python",
   "pygments_lexer": "ipython3",
   "version": "3.6.8"
  }
 },
 "nbformat": 4,
 "nbformat_minor": 2
}
