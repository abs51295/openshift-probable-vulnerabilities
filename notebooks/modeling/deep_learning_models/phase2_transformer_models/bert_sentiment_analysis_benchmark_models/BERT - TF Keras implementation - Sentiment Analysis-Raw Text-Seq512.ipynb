{
 "cells": [
  {
   "cell_type": "code",
   "execution_count": 6,
   "metadata": {},
   "outputs": [
    {
     "name": "stdout",
     "output_type": "stream",
     "text": [
      "total 2596MB\r\n",
      "-rw-rw-r-- 1 redanalyze redanalyze    1MB Jul  1 02:01 'BERT - TF Keras implementation - Sentiment Analysis-Copy1.ipynb'\r\n",
      "-rw-rw-r-- 1 redanalyze redanalyze    1MB Jul  1 02:00 'BERT - TF Keras implementation - Sentiment Analysis.ipynb'\r\n",
      "-rw-rw-r-- 1 redanalyze redanalyze    1MB Jun 21 13:11 'BERT Inference - TF Implementation - Sentiment Analysis.ipynb'\r\n",
      "-rw-rw-r-- 1 redanalyze redanalyze    1MB Jun 21 13:11 'BERT Training - TF Implementation - Sentiment Analysis.ipynb'\r\n",
      "-rw-rw-r-- 1 redanalyze redanalyze 1320MB Jun 25 08:12  bert_sentiment_model.h5\r\n",
      "-rw-rw-r-- 1 redanalyze redanalyze  442MB Jun 25 08:12  bert_sentiment_model_weights.h5\r\n",
      "-rw-rw-r-- 1 redanalyze redanalyze    1MB Jun 21 11:18  checkpoint\r\n",
      "drwxr-xr-x 2 redanalyze redanalyze    1MB Jun 21 10:02  eval\r\n",
      "-rw-rw-r-- 1 redanalyze redanalyze  623MB Jun 21 11:18  events.out.tfevents.1561110216.better-eve-instance\r\n",
      "-rw-rw-r-- 1 redanalyze redanalyze  193MB Jun 21 11:01  graph.pbtxt\r\n",
      "-rw-rw-r-- 1 redanalyze redanalyze   20MB Jun 21 03:12  imdb_movie_reviews.csv.bz2\r\n",
      "drwxrwxr-x 3 redanalyze redanalyze    1MB Jun 21 12:55  tf_models\r\n"
     ]
    }
   ],
   "source": [
    "! ls -l --block-size=MB"
   ]
  },
  {
   "cell_type": "code",
   "execution_count": 7,
   "metadata": {},
   "outputs": [],
   "source": [
    "from sklearn.model_selection import train_test_split\n",
    "import pandas as pd\n",
    "import tensorflow as tf\n",
    "import tensorflow_hub as tf_hub\n",
    "import time\n",
    "import numpy as np\n",
    "import os\n",
    "from bert.tokenization import FullTokenizer\n",
    "from tqdm import tqdm_notebook\n",
    "from tensorflow.keras import backend as K\n",
    "import matplotlib.pyplot as plt\n",
    "\n",
    "#os.environ[\"CUDA_VISIBLE_DEVICES\"] = \"0\"\n",
    "tf.logging.set_verbosity(tf.logging.INFO)\n",
    "SEED = 42\n",
    "np.random.seed(SEED)\n",
    "tf.set_random_seed(SEED)\n",
    "\n",
    "%matplotlib inline"
   ]
  },
  {
   "cell_type": "code",
   "execution_count": 8,
   "metadata": {},
   "outputs": [
    {
     "name": "stdout",
     "output_type": "stream",
     "text": [
      "1.12.0\n",
      "0.4.0\n"
     ]
    }
   ],
   "source": [
    "print(tf.__version__)\n",
    "print(tf_hub.__version__)"
   ]
  },
  {
   "cell_type": "code",
   "execution_count": 9,
   "metadata": {},
   "outputs": [
    {
     "name": "stdout",
     "output_type": "stream",
     "text": [
      "True\n",
      "/device:GPU:0\n"
     ]
    }
   ],
   "source": [
    "print(tf.test.is_gpu_available())\n",
    "print(tf.test.gpu_device_name())"
   ]
  },
  {
   "cell_type": "code",
   "execution_count": 10,
   "metadata": {},
   "outputs": [
    {
     "name": "stdout",
     "output_type": "stream",
     "text": [
      "Mon Jul  1 02:02:31 2019       \r\n",
      "+-----------------------------------------------------------------------------+\r\n",
      "| NVIDIA-SMI 410.104      Driver Version: 410.104      CUDA Version: 10.0     |\r\n",
      "|-------------------------------+----------------------+----------------------+\r\n",
      "| GPU  Name        Persistence-M| Bus-Id        Disp.A | Volatile Uncorr. ECC |\r\n",
      "| Fan  Temp  Perf  Pwr:Usage/Cap|         Memory-Usage | GPU-Util  Compute M. |\r\n",
      "|===============================+======================+======================|\r\n",
      "|   0  Tesla T4            Off  | 00000000:00:04.0 Off |                    0 |\r\n",
      "| N/A   63C    P0    30W /  70W |    213MiB / 15079MiB |      0%      Default |\r\n",
      "+-------------------------------+----------------------+----------------------+\r\n",
      "                                                                               \r\n",
      "+-----------------------------------------------------------------------------+\r\n",
      "| Processes:                                                       GPU Memory |\r\n",
      "|  GPU       PID   Type   Process name                             Usage      |\r\n",
      "|=============================================================================|\r\n",
      "|    0     14494      C   /home/redanalyze/anaconda3/bin/python        203MiB |\r\n",
      "+-----------------------------------------------------------------------------+\r\n"
     ]
    }
   ],
   "source": [
    "! nvidia-smi"
   ]
  },
  {
   "cell_type": "code",
   "execution_count": 11,
   "metadata": {},
   "outputs": [
    {
     "name": "stdout",
     "output_type": "stream",
     "text": [
      "<class 'pandas.core.frame.DataFrame'>\n",
      "RangeIndex: 50000 entries, 0 to 49999\n",
      "Data columns (total 2 columns):\n",
      "review       50000 non-null object\n",
      "sentiment    50000 non-null object\n",
      "dtypes: object(2)\n",
      "memory usage: 781.3+ KB\n"
     ]
    }
   ],
   "source": [
    "dataset = pd.read_csv('./imdb_movie_reviews.csv.bz2', compression='bz2')\n",
    "dataset.info()"
   ]
  },
  {
   "cell_type": "code",
   "execution_count": 12,
   "metadata": {},
   "outputs": [
    {
     "data": {
      "text/html": [
       "<div>\n",
       "<style scoped>\n",
       "    .dataframe tbody tr th:only-of-type {\n",
       "        vertical-align: middle;\n",
       "    }\n",
       "\n",
       "    .dataframe tbody tr th {\n",
       "        vertical-align: top;\n",
       "    }\n",
       "\n",
       "    .dataframe thead th {\n",
       "        text-align: right;\n",
       "    }\n",
       "</style>\n",
       "<table border=\"1\" class=\"dataframe\">\n",
       "  <thead>\n",
       "    <tr style=\"text-align: right;\">\n",
       "      <th></th>\n",
       "      <th>review</th>\n",
       "      <th>sentiment</th>\n",
       "    </tr>\n",
       "  </thead>\n",
       "  <tbody>\n",
       "    <tr>\n",
       "      <th>0</th>\n",
       "      <td>One of the other reviewers has mentioned that ...</td>\n",
       "      <td>1</td>\n",
       "    </tr>\n",
       "    <tr>\n",
       "      <th>1</th>\n",
       "      <td>A wonderful little production. &lt;br /&gt;&lt;br /&gt;The...</td>\n",
       "      <td>1</td>\n",
       "    </tr>\n",
       "    <tr>\n",
       "      <th>2</th>\n",
       "      <td>I thought this was a wonderful way to spend ti...</td>\n",
       "      <td>1</td>\n",
       "    </tr>\n",
       "    <tr>\n",
       "      <th>3</th>\n",
       "      <td>Basically there's a family where a little boy ...</td>\n",
       "      <td>0</td>\n",
       "    </tr>\n",
       "    <tr>\n",
       "      <th>4</th>\n",
       "      <td>Petter Mattei's \"Love in the Time of Money\" is...</td>\n",
       "      <td>1</td>\n",
       "    </tr>\n",
       "  </tbody>\n",
       "</table>\n",
       "</div>"
      ],
      "text/plain": [
       "                                              review  sentiment\n",
       "0  One of the other reviewers has mentioned that ...          1\n",
       "1  A wonderful little production. <br /><br />The...          1\n",
       "2  I thought this was a wonderful way to spend ti...          1\n",
       "3  Basically there's a family where a little boy ...          0\n",
       "4  Petter Mattei's \"Love in the Time of Money\" is...          1"
      ]
     },
     "execution_count": 12,
     "metadata": {},
     "output_type": "execute_result"
    }
   ],
   "source": [
    "dataset['sentiment'] = [1 if sentiment == 'positive' else 0 \n",
    "                            for sentiment in dataset['sentiment'].values]\n",
    "dataset.head()"
   ]
  },
  {
   "cell_type": "code",
   "execution_count": 13,
   "metadata": {},
   "outputs": [
    {
     "data": {
      "text/plain": [
       "((30000, 2), (5000, 2), (15000, 2))"
      ]
     },
     "execution_count": 13,
     "metadata": {},
     "output_type": "execute_result"
    }
   ],
   "source": [
    "train_df = dataset.iloc[:30000]\n",
    "val_df = dataset.iloc[30000:35000]\n",
    "test_df = dataset.iloc[35000:]\n",
    "\n",
    "train_df.shape, val_df.shape, test_df.shape"
   ]
  },
  {
   "cell_type": "code",
   "execution_count": 14,
   "metadata": {},
   "outputs": [],
   "source": [
    "train_text = train_df['review'].tolist()\n",
    "train_labels = train_df['sentiment'].tolist()\n",
    "\n",
    "val_text = val_df['review'].tolist()\n",
    "val_labels = val_df['sentiment'].tolist()\n",
    "\n",
    "test_text = test_df['review'].tolist()\n",
    "test_labels = test_df['sentiment'].tolist()"
   ]
  },
  {
   "cell_type": "code",
   "execution_count": 62,
   "metadata": {},
   "outputs": [
    {
     "data": {
      "image/png": "[encoded data removed]",
      "text/plain": [
       "<Figure size 432x288 with 1 Axes>"
      ]
     },
     "metadata": {
      "needs_background": "light"
     },
     "output_type": "display_data"
    }
   ],
   "source": [
    "train_doc_lens = [len(doc.split(' ')) for doc in train_text]\n",
    "o = plt.hist(train_doc_lens)"
   ]
  },
  {
   "cell_type": "code",
   "execution_count": 15,
   "metadata": {},
   "outputs": [],
   "source": [
    "class PaddingInputExample(object):\n",
    "    \"\"\"Fake example so the num input examples is a multiple of the batch size.\n",
    "       When running eval/predict on the TPU, we need to pad the number of examples\n",
    "       to be a multiple of the batch size, because the TPU requires a fixed batch\n",
    "       size. The alternative is to drop the last batch, which is bad because it means\n",
    "       the entire output data won't be generated.\n",
    "       We use this class instead of `None` because treating `None` as padding\n",
    "       batches could cause silent errors.\n",
    "  \"\"\"\n",
    "    \n",
    "    \n",
    "class InputExample(object):\n",
    "    \"\"\"A single training/test example for simple sequence classification.\"\"\"\n",
    "\n",
    "    def __init__(self, guid, text_a, text_b=None, label=None):\n",
    "        \n",
    "        \"\"\"Constructs a InputExample.\n",
    "    Args:\n",
    "      guid: Unique id for the example.\n",
    "      text_a: string. The untokenized text of the first sequence. For single\n",
    "        sequence tasks, only this sequence must be specified.\n",
    "      text_b: (Optional) string. The untokenized text of the second sequence.\n",
    "        Only must be specified for sequence pair tasks.\n",
    "      label: (Optional) string. The label of the example. This should be\n",
    "        specified for train and dev examples, but not for test examples.\n",
    "    \"\"\"\n",
    "        self.guid = guid\n",
    "        self.text_a = text_a\n",
    "        self.text_b = text_b\n",
    "        self.label = label"
   ]
  },
  {
   "cell_type": "code",
   "execution_count": 16,
   "metadata": {},
   "outputs": [],
   "source": [
    "def create_tokenizer_from_hub_module(bert_path):\n",
    "    \"\"\"Get the vocab file and casing info from the Hub module.\"\"\"\n",
    "    bert_module =  tf_hub.Module(bert_path)\n",
    "    tokenization_info = bert_module(signature=\"tokenization_info\", as_dict=True)\n",
    "    vocab_file, do_lower_case = sess.run(\n",
    "        [\n",
    "            tokenization_info[\"vocab_file\"],\n",
    "            tokenization_info[\"do_lower_case\"],\n",
    "        ]\n",
    "    )\n",
    "\n",
    "    return FullTokenizer(vocab_file=vocab_file, do_lower_case=do_lower_case)"
   ]
  },
  {
   "cell_type": "code",
   "execution_count": 17,
   "metadata": {},
   "outputs": [],
   "source": [
    "def convert_text_to_examples(texts, labels):\n",
    "    \"\"\"Create InputExamples\"\"\"\n",
    "    InputExamples = []\n",
    "    for text, label in zip(texts, labels):\n",
    "        InputExamples.append(\n",
    "            InputExample(guid=None, text_a=text, text_b=None, label=label)\n",
    "        )\n",
    "    return InputExamples"
   ]
  },
  {
   "cell_type": "code",
   "execution_count": 18,
   "metadata": {},
   "outputs": [],
   "source": [
    "def convert_single_example(tokenizer, example, max_seq_length=256):\n",
    "    \"\"\"Converts a single `InputExample` into a single `InputFeatures`.\"\"\"\n",
    "\n",
    "    if isinstance(example, PaddingInputExample):\n",
    "        input_ids = [0] * max_seq_length\n",
    "        input_mask = [0] * max_seq_length\n",
    "        segment_ids = [0] * max_seq_length\n",
    "        label = 0\n",
    "        return input_ids, input_mask, segment_ids, label\n",
    "\n",
    "    tokens_a = tokenizer.tokenize(example.text_a)\n",
    "    if len(tokens_a) > max_seq_length - 2:\n",
    "        tokens_a = tokens_a[0 : (max_seq_length - 2)]\n",
    "\n",
    "    tokens = []\n",
    "    segment_ids = []\n",
    "    tokens.append(\"[CLS]\")\n",
    "    segment_ids.append(0)\n",
    "    for token in tokens_a:\n",
    "        tokens.append(token)\n",
    "        segment_ids.append(0)\n",
    "    tokens.append(\"[SEP]\")\n",
    "    segment_ids.append(0)\n",
    "\n",
    "    input_ids = tokenizer.convert_tokens_to_ids(tokens)\n",
    "\n",
    "    # The mask has 1 for real tokens and 0 for padding tokens. Only real\n",
    "    # tokens are attended to.\n",
    "    input_mask = [1] * len(input_ids)\n",
    "\n",
    "    # Zero-pad up to the sequence length.\n",
    "    while len(input_ids) < max_seq_length:\n",
    "        input_ids.append(0)\n",
    "        input_mask.append(0)\n",
    "        segment_ids.append(0)\n",
    "\n",
    "    assert len(input_ids) == max_seq_length\n",
    "    assert len(input_mask) == max_seq_length\n",
    "    assert len(segment_ids) == max_seq_length\n",
    "\n",
    "    return input_ids, input_mask, segment_ids, example.label\n",
    "\n",
    "def convert_examples_to_features(tokenizer, examples, max_seq_length=256):\n",
    "    \"\"\"Convert a set of `InputExample`s to a list of `InputFeatures`.\"\"\"\n",
    "\n",
    "    input_ids, input_masks, segment_ids, labels = [], [], [], []\n",
    "    for example in tqdm_notebook(examples, desc=\"Converting examples to features\"):\n",
    "        input_id, input_mask, segment_id, label = convert_single_example(\n",
    "            tokenizer, example, max_seq_length\n",
    "        )\n",
    "        input_ids.append(input_id)\n",
    "        input_masks.append(input_mask)\n",
    "        segment_ids.append(segment_id)\n",
    "        labels.append(label)\n",
    "    return (\n",
    "        np.array(input_ids),\n",
    "        np.array(input_masks),\n",
    "        np.array(segment_ids),\n",
    "        np.array(labels).reshape(-1, 1),\n",
    "    )"
   ]
  },
  {
   "cell_type": "code",
   "execution_count": 19,
   "metadata": {},
   "outputs": [],
   "source": [
    "# Initialize session\n",
    "sess = tf.Session()\n",
    "\n",
    "# Params for bert model and tokenization\n",
    "BERT_PATH = \"https://tfhub.dev/google/bert_uncased_L-12_H-768_A-12/1\"\n",
    "MAX_SEQ_LENGTH = 512"
   ]
  },
  {
   "cell_type": "code",
   "execution_count": 20,
   "metadata": {},
   "outputs": [
    {
     "name": "stdout",
     "output_type": "stream",
     "text": [
      "INFO:tensorflow:Saver not created because there are no variables in the graph to restore\n"
     ]
    },
    {
     "name": "stderr",
     "output_type": "stream",
     "text": [
      "I0701 02:02:46.433641 140267069904704 tf_logging.py:115] Saver not created because there are no variables in the graph to restore\n"
     ]
    }
   ],
   "source": [
    "# Instantiate tokenizer\n",
    "tokenizer = create_tokenizer_from_hub_module(bert_path=BERT_PATH)"
   ]
  },
  {
   "cell_type": "code",
   "execution_count": 21,
   "metadata": {},
   "outputs": [],
   "source": [
    "# Convert data to InputExample format\n",
    "train_examples = convert_text_to_examples(train_text, train_labels)\n",
    "val_examples = convert_text_to_examples(val_text, val_labels)\n",
    "test_examples = convert_text_to_examples(test_text, test_labels)"
   ]
  },
  {
   "cell_type": "code",
   "execution_count": 22,
   "metadata": {},
   "outputs": [
    {
     "data": {
      "application/vnd.jupyter.widget-view+json": {
       "model_id": "b52ee17e942d4604a5f86e62d3d0dd9b",
       "version_major": 2,
       "version_minor": 0
      },
      "text/plain": [
       "HBox(children=(IntProgress(value=0, description='Converting examples to features', max=30000, style=ProgressSt…"
      ]
     },
     "metadata": {},
     "output_type": "display_data"
    },
    {
     "name": "stdout",
     "output_type": "stream",
     "text": [
      "\n"
     ]
    },
    {
     "data": {
      "application/vnd.jupyter.widget-view+json": {
       "model_id": "14996b04ad6e4b4097caa27c28e5b0c6",
       "version_major": 2,
       "version_minor": 0
      },
      "text/plain": [
       "HBox(children=(IntProgress(value=0, description='Converting examples to features', max=5000, style=ProgressSty…"
      ]
     },
     "metadata": {},
     "output_type": "display_data"
    },
    {
     "name": "stdout",
     "output_type": "stream",
     "text": [
      "\n"
     ]
    },
    {
     "data": {
      "application/vnd.jupyter.widget-view+json": {
       "model_id": "5ea419fd57e14cf7869027583310511f",
       "version_major": 2,
       "version_minor": 0
      },
      "text/plain": [
       "HBox(children=(IntProgress(value=0, description='Converting examples to features', max=15000, style=ProgressSt…"
      ]
     },
     "metadata": {},
     "output_type": "display_data"
    },
    {
     "name": "stdout",
     "output_type": "stream",
     "text": [
      "\n"
     ]
    }
   ],
   "source": [
    "(train_input_ids, train_input_masks, \n",
    " train_segment_ids, train_labels) =  convert_examples_to_features(tokenizer=tokenizer, \n",
    "                                                                  examples=train_examples, \n",
    "                                                                  max_seq_length=MAX_SEQ_LENGTH)\n",
    "\n",
    "(val_input_ids, val_input_masks, \n",
    " val_segment_ids, val_labels) =  convert_examples_to_features(tokenizer=tokenizer, \n",
    "                                                              examples=val_examples, \n",
    "                                                              max_seq_length=MAX_SEQ_LENGTH)\n",
    "\n",
    "(test_input_ids, test_input_masks, \n",
    " test_segment_ids, test_labels) =  convert_examples_to_features(tokenizer=tokenizer, \n",
    "                                                                examples=test_examples, \n",
    "                                                                max_seq_length=MAX_SEQ_LENGTH)"
   ]
  },
  {
   "cell_type": "code",
   "execution_count": 23,
   "metadata": {},
   "outputs": [
    {
     "data": {
      "text/plain": [
       "((30000, 512), (5000, 512), (15000, 512))"
      ]
     },
     "execution_count": 23,
     "metadata": {},
     "output_type": "execute_result"
    }
   ],
   "source": [
    "train_input_ids.shape, val_input_ids.shape, test_input_ids.shape"
   ]
  },
  {
   "cell_type": "code",
   "execution_count": 24,
   "metadata": {},
   "outputs": [
    {
     "data": {
      "text/plain": [
       "<tensorflow_hub.module.Module at 0x7f924980c550>"
      ]
     },
     "execution_count": 24,
     "metadata": {},
     "output_type": "execute_result"
    }
   ],
   "source": [
    "bm = tf_hub.Module(BERT_PATH, trainable=True, name=f\"bert_module\")\n",
    "bm"
   ]
  },
  {
   "cell_type": "code",
   "execution_count": 25,
   "metadata": {
    "scrolled": true
   },
   "outputs": [
    {
     "name": "stdout",
     "output_type": "stream",
     "text": [
      "<tf.Variable 'bert_module/bert/embeddings/LayerNorm/beta:0' shape=(768,) dtype=float32>\n",
      "bert_module/bert/embeddings/LayerNorm/beta:0\n",
      "\t\t|\n",
      "\t\tV\n",
      "<tf.Variable 'bert_module/bert/embeddings/LayerNorm/gamma:0' shape=(768,) dtype=float32>\n",
      "bert_module/bert/embeddings/LayerNorm/gamma:0\n",
      "\t\t|\n",
      "\t\tV\n",
      "<tf.Variable 'bert_module/bert/embeddings/position_embeddings:0' shape=(512, 768) dtype=float32>\n",
      "bert_module/bert/embeddings/position_embeddings:0\n",
      "\t\t|\n",
      "\t\tV\n",
      "<tf.Variable 'bert_module/bert/embeddings/token_type_embeddings:0' shape=(2, 768) dtype=float32>\n",
      "bert_module/bert/embeddings/token_type_embeddings:0\n",
      "\t\t|\n",
      "\t\tV\n",
      "<tf.Variable 'bert_module/bert/embeddings/word_embeddings:0' shape=(30522, 768) dtype=float32>\n",
      "bert_module/bert/embeddings/word_embeddings:0\n",
      "\t\t|\n",
      "\t\tV\n",
      "<tf.Variable 'bert_module/bert/encoder/layer_0/attention/output/LayerNorm/beta:0' shape=(768,) dtype=float32>\n",
      "bert_module/bert/encoder/layer_0/attention/output/LayerNorm/beta:0\n",
      "\t\t|\n",
      "\t\tV\n",
      "<tf.Variable 'bert_module/bert/encoder/layer_0/attention/output/LayerNorm/gamma:0' shape=(768,) dtype=float32>\n",
      "bert_module/bert/encoder/layer_0/attention/output/LayerNorm/gamma:0\n",
      "\t\t|\n",
      "\t\tV\n",
      "<tf.Variable 'bert_module/bert/encoder/layer_0/attention/output/dense/bias:0' shape=(768,) dtype=float32>\n",
      "bert_module/bert/encoder/layer_0/attention/output/dense/bias:0\n",
      "\t\t|\n",
      "\t\tV\n",
      "<tf.Variable 'bert_module/bert/encoder/layer_0/attention/output/dense/kernel:0' shape=(768, 768) dtype=float32>\n",
      "bert_module/bert/encoder/layer_0/attention/output/dense/kernel:0\n",
      "\t\t|\n",
      "\t\tV\n",
      "<tf.Variable 'bert_module/bert/encoder/layer_0/attention/self/key/bias:0' shape=(768,) dtype=float32>\n",
      "bert_module/bert/encoder/layer_0/attention/self/key/bias:0\n",
      "\t\t|\n",
      "\t\tV\n",
      "<tf.Variable 'bert_module/bert/encoder/layer_0/attention/self/key/kernel:0' shape=(768, 768) dtype=float32>\n",
      "bert_module/bert/encoder/layer_0/attention/self/key/kernel:0\n",
      "\t\t|\n",
      "\t\tV\n",
      "<tf.Variable 'bert_module/bert/encoder/layer_0/attention/self/query/bias:0' shape=(768,) dtype=float32>\n",
      "bert_module/bert/encoder/layer_0/attention/self/query/bias:0\n",
      "\t\t|\n",
      "\t\tV\n",
      "<tf.Variable 'bert_module/bert/encoder/layer_0/attention/self/query/kernel:0' shape=(768, 768) dtype=float32>\n",
      "bert_module/bert/encoder/layer_0/attention/self/query/kernel:0\n",
      "\t\t|\n",
      "\t\tV\n",
      "<tf.Variable 'bert_module/bert/encoder/layer_0/attention/self/value/bias:0' shape=(768,) dtype=float32>\n",
      "bert_module/bert/encoder/layer_0/attention/self/value/bias:0\n",
      "\t\t|\n",
      "\t\tV\n",
      "<tf.Variable 'bert_module/bert/encoder/layer_0/attention/self/value/kernel:0' shape=(768, 768) dtype=float32>\n",
      "bert_module/bert/encoder/layer_0/attention/self/value/kernel:0\n",
      "\t\t|\n",
      "\t\tV\n",
      "<tf.Variable 'bert_module/bert/encoder/layer_0/intermediate/dense/bias:0' shape=(3072,) dtype=float32>\n",
      "bert_module/bert/encoder/layer_0/intermediate/dense/bias:0\n",
      "\t\t|\n",
      "\t\tV\n",
      "<tf.Variable 'bert_module/bert/encoder/layer_0/intermediate/dense/kernel:0' shape=(768, 3072) dtype=float32>\n",
      "bert_module/bert/encoder/layer_0/intermediate/dense/kernel:0\n",
      "\t\t|\n",
      "\t\tV\n",
      "<tf.Variable 'bert_module/bert/encoder/layer_0/output/LayerNorm/beta:0' shape=(768,) dtype=float32>\n",
      "bert_module/bert/encoder/layer_0/output/LayerNorm/beta:0\n",
      "\t\t|\n",
      "\t\tV\n",
      "<tf.Variable 'bert_module/bert/encoder/layer_0/output/LayerNorm/gamma:0' shape=(768,) dtype=float32>\n",
      "bert_module/bert/encoder/layer_0/output/LayerNorm/gamma:0\n",
      "\t\t|\n",
      "\t\tV\n",
      "<tf.Variable 'bert_module/bert/encoder/layer_0/output/dense/bias:0' shape=(768,) dtype=float32>\n",
      "bert_module/bert/encoder/layer_0/output/dense/bias:0\n",
      "\t\t|\n",
      "\t\tV\n",
      "<tf.Variable 'bert_module/bert/encoder/layer_0/output/dense/kernel:0' shape=(3072, 768) dtype=float32>\n",
      "bert_module/bert/encoder/layer_0/output/dense/kernel:0\n",
      "\t\t|\n",
      "\t\tV\n",
      "<tf.Variable 'bert_module/bert/encoder/layer_1/attention/output/LayerNorm/beta:0' shape=(768,) dtype=float32>\n",
      "bert_module/bert/encoder/layer_1/attention/output/LayerNorm/beta:0\n",
      "\t\t|\n",
      "\t\tV\n",
      "<tf.Variable 'bert_module/bert/encoder/layer_1/attention/output/LayerNorm/gamma:0' shape=(768,) dtype=float32>\n",
      "bert_module/bert/encoder/layer_1/attention/output/LayerNorm/gamma:0\n",
      "\t\t|\n",
      "\t\tV\n",
      "<tf.Variable 'bert_module/bert/encoder/layer_1/attention/output/dense/bias:0' shape=(768,) dtype=float32>\n",
      "bert_module/bert/encoder/layer_1/attention/output/dense/bias:0\n",
      "\t\t|\n",
      "\t\tV\n",
      "<tf.Variable 'bert_module/bert/encoder/layer_1/attention/output/dense/kernel:0' shape=(768, 768) dtype=float32>\n",
      "bert_module/bert/encoder/layer_1/attention/output/dense/kernel:0\n",
      "\t\t|\n",
      "\t\tV\n",
      "<tf.Variable 'bert_module/bert/encoder/layer_1/attention/self/key/bias:0' shape=(768,) dtype=float32>\n",
      "bert_module/bert/encoder/layer_1/attention/self/key/bias:0\n",
      "\t\t|\n",
      "\t\tV\n",
      "<tf.Variable 'bert_module/bert/encoder/layer_1/attention/self/key/kernel:0' shape=(768, 768) dtype=float32>\n",
      "bert_module/bert/encoder/layer_1/attention/self/key/kernel:0\n",
      "\t\t|\n",
      "\t\tV\n",
      "<tf.Variable 'bert_module/bert/encoder/layer_1/attention/self/query/bias:0' shape=(768,) dtype=float32>\n",
      "bert_module/bert/encoder/layer_1/attention/self/query/bias:0\n",
      "\t\t|\n",
      "\t\tV\n",
      "<tf.Variable 'bert_module/bert/encoder/layer_1/attention/self/query/kernel:0' shape=(768, 768) dtype=float32>\n",
      "bert_module/bert/encoder/layer_1/attention/self/query/kernel:0\n",
      "\t\t|\n",
      "\t\tV\n",
      "<tf.Variable 'bert_module/bert/encoder/layer_1/attention/self/value/bias:0' shape=(768,) dtype=float32>\n",
      "bert_module/bert/encoder/layer_1/attention/self/value/bias:0\n",
      "\t\t|\n",
      "\t\tV\n",
      "<tf.Variable 'bert_module/bert/encoder/layer_1/attention/self/value/kernel:0' shape=(768, 768) dtype=float32>\n",
      "bert_module/bert/encoder/layer_1/attention/self/value/kernel:0\n",
      "\t\t|\n",
      "\t\tV\n",
      "<tf.Variable 'bert_module/bert/encoder/layer_1/intermediate/dense/bias:0' shape=(3072,) dtype=float32>\n",
      "bert_module/bert/encoder/layer_1/intermediate/dense/bias:0\n",
      "\t\t|\n",
      "\t\tV\n",
      "<tf.Variable 'bert_module/bert/encoder/layer_1/intermediate/dense/kernel:0' shape=(768, 3072) dtype=float32>\n",
      "bert_module/bert/encoder/layer_1/intermediate/dense/kernel:0\n",
      "\t\t|\n",
      "\t\tV\n",
      "<tf.Variable 'bert_module/bert/encoder/layer_1/output/LayerNorm/beta:0' shape=(768,) dtype=float32>\n",
      "bert_module/bert/encoder/layer_1/output/LayerNorm/beta:0\n",
      "\t\t|\n",
      "\t\tV\n",
      "<tf.Variable 'bert_module/bert/encoder/layer_1/output/LayerNorm/gamma:0' shape=(768,) dtype=float32>\n",
      "bert_module/bert/encoder/layer_1/output/LayerNorm/gamma:0\n",
      "\t\t|\n",
      "\t\tV\n",
      "<tf.Variable 'bert_module/bert/encoder/layer_1/output/dense/bias:0' shape=(768,) dtype=float32>\n",
      "bert_module/bert/encoder/layer_1/output/dense/bias:0\n",
      "\t\t|\n",
      "\t\tV\n",
      "<tf.Variable 'bert_module/bert/encoder/layer_1/output/dense/kernel:0' shape=(3072, 768) dtype=float32>\n",
      "bert_module/bert/encoder/layer_1/output/dense/kernel:0\n",
      "\t\t|\n",
      "\t\tV\n",
      "<tf.Variable 'bert_module/bert/encoder/layer_10/attention/output/LayerNorm/beta:0' shape=(768,) dtype=float32>\n",
      "bert_module/bert/encoder/layer_10/attention/output/LayerNorm/beta:0\n",
      "\t\t|\n",
      "\t\tV\n",
      "<tf.Variable 'bert_module/bert/encoder/layer_10/attention/output/LayerNorm/gamma:0' shape=(768,) dtype=float32>\n",
      "bert_module/bert/encoder/layer_10/attention/output/LayerNorm/gamma:0\n",
      "\t\t|\n",
      "\t\tV\n",
      "<tf.Variable 'bert_module/bert/encoder/layer_10/attention/output/dense/bias:0' shape=(768,) dtype=float32>\n",
      "bert_module/bert/encoder/layer_10/attention/output/dense/bias:0\n",
      "\t\t|\n",
      "\t\tV\n",
      "<tf.Variable 'bert_module/bert/encoder/layer_10/attention/output/dense/kernel:0' shape=(768, 768) dtype=float32>\n",
      "bert_module/bert/encoder/layer_10/attention/output/dense/kernel:0\n",
      "\t\t|\n",
      "\t\tV\n",
      "<tf.Variable 'bert_module/bert/encoder/layer_10/attention/self/key/bias:0' shape=(768,) dtype=float32>\n",
      "bert_module/bert/encoder/layer_10/attention/self/key/bias:0\n",
      "\t\t|\n",
      "\t\tV\n",
      "<tf.Variable 'bert_module/bert/encoder/layer_10/attention/self/key/kernel:0' shape=(768, 768) dtype=float32>\n",
      "bert_module/bert/encoder/layer_10/attention/self/key/kernel:0\n",
      "\t\t|\n",
      "\t\tV\n",
      "<tf.Variable 'bert_module/bert/encoder/layer_10/attention/self/query/bias:0' shape=(768,) dtype=float32>\n",
      "bert_module/bert/encoder/layer_10/attention/self/query/bias:0\n",
      "\t\t|\n",
      "\t\tV\n",
      "<tf.Variable 'bert_module/bert/encoder/layer_10/attention/self/query/kernel:0' shape=(768, 768) dtype=float32>\n",
      "bert_module/bert/encoder/layer_10/attention/self/query/kernel:0\n",
      "\t\t|\n",
      "\t\tV\n",
      "<tf.Variable 'bert_module/bert/encoder/layer_10/attention/self/value/bias:0' shape=(768,) dtype=float32>\n",
      "bert_module/bert/encoder/layer_10/attention/self/value/bias:0\n",
      "\t\t|\n",
      "\t\tV\n",
      "<tf.Variable 'bert_module/bert/encoder/layer_10/attention/self/value/kernel:0' shape=(768, 768) dtype=float32>\n",
      "bert_module/bert/encoder/layer_10/attention/self/value/kernel:0\n",
      "\t\t|\n",
      "\t\tV\n",
      "<tf.Variable 'bert_module/bert/encoder/layer_10/intermediate/dense/bias:0' shape=(3072,) dtype=float32>\n",
      "bert_module/bert/encoder/layer_10/intermediate/dense/bias:0\n",
      "\t\t|\n",
      "\t\tV\n",
      "<tf.Variable 'bert_module/bert/encoder/layer_10/intermediate/dense/kernel:0' shape=(768, 3072) dtype=float32>\n",
      "bert_module/bert/encoder/layer_10/intermediate/dense/kernel:0\n",
      "\t\t|\n",
      "\t\tV\n",
      "<tf.Variable 'bert_module/bert/encoder/layer_10/output/LayerNorm/beta:0' shape=(768,) dtype=float32>\n",
      "bert_module/bert/encoder/layer_10/output/LayerNorm/beta:0\n",
      "\t\t|\n",
      "\t\tV\n",
      "<tf.Variable 'bert_module/bert/encoder/layer_10/output/LayerNorm/gamma:0' shape=(768,) dtype=float32>\n",
      "bert_module/bert/encoder/layer_10/output/LayerNorm/gamma:0\n",
      "\t\t|\n",
      "\t\tV\n",
      "<tf.Variable 'bert_module/bert/encoder/layer_10/output/dense/bias:0' shape=(768,) dtype=float32>\n",
      "bert_module/bert/encoder/layer_10/output/dense/bias:0\n",
      "\t\t|\n",
      "\t\tV\n",
      "<tf.Variable 'bert_module/bert/encoder/layer_10/output/dense/kernel:0' shape=(3072, 768) dtype=float32>\n",
      "bert_module/bert/encoder/layer_10/output/dense/kernel:0\n",
      "\t\t|\n",
      "\t\tV\n",
      "<tf.Variable 'bert_module/bert/encoder/layer_11/attention/output/LayerNorm/beta:0' shape=(768,) dtype=float32>\n",
      "bert_module/bert/encoder/layer_11/attention/output/LayerNorm/beta:0\n",
      "\t\t|\n",
      "\t\tV\n",
      "<tf.Variable 'bert_module/bert/encoder/layer_11/attention/output/LayerNorm/gamma:0' shape=(768,) dtype=float32>\n",
      "bert_module/bert/encoder/layer_11/attention/output/LayerNorm/gamma:0\n",
      "\t\t|\n",
      "\t\tV\n",
      "<tf.Variable 'bert_module/bert/encoder/layer_11/attention/output/dense/bias:0' shape=(768,) dtype=float32>\n",
      "bert_module/bert/encoder/layer_11/attention/output/dense/bias:0\n",
      "\t\t|\n",
      "\t\tV\n",
      "<tf.Variable 'bert_module/bert/encoder/layer_11/attention/output/dense/kernel:0' shape=(768, 768) dtype=float32>\n",
      "bert_module/bert/encoder/layer_11/attention/output/dense/kernel:0\n",
      "\t\t|\n",
      "\t\tV\n",
      "<tf.Variable 'bert_module/bert/encoder/layer_11/attention/self/key/bias:0' shape=(768,) dtype=float32>\n",
      "bert_module/bert/encoder/layer_11/attention/self/key/bias:0\n",
      "\t\t|\n",
      "\t\tV\n",
      "<tf.Variable 'bert_module/bert/encoder/layer_11/attention/self/key/kernel:0' shape=(768, 768) dtype=float32>\n",
      "bert_module/bert/encoder/layer_11/attention/self/key/kernel:0\n",
      "\t\t|\n",
      "\t\tV\n",
      "<tf.Variable 'bert_module/bert/encoder/layer_11/attention/self/query/bias:0' shape=(768,) dtype=float32>\n",
      "bert_module/bert/encoder/layer_11/attention/self/query/bias:0\n",
      "\t\t|\n",
      "\t\tV\n",
      "<tf.Variable 'bert_module/bert/encoder/layer_11/attention/self/query/kernel:0' shape=(768, 768) dtype=float32>\n",
      "bert_module/bert/encoder/layer_11/attention/self/query/kernel:0\n",
      "\t\t|\n",
      "\t\tV\n",
      "<tf.Variable 'bert_module/bert/encoder/layer_11/attention/self/value/bias:0' shape=(768,) dtype=float32>\n",
      "bert_module/bert/encoder/layer_11/attention/self/value/bias:0\n",
      "\t\t|\n",
      "\t\tV\n",
      "<tf.Variable 'bert_module/bert/encoder/layer_11/attention/self/value/kernel:0' shape=(768, 768) dtype=float32>\n",
      "bert_module/bert/encoder/layer_11/attention/self/value/kernel:0\n",
      "\t\t|\n",
      "\t\tV\n",
      "<tf.Variable 'bert_module/bert/encoder/layer_11/intermediate/dense/bias:0' shape=(3072,) dtype=float32>\n",
      "bert_module/bert/encoder/layer_11/intermediate/dense/bias:0\n",
      "\t\t|\n",
      "\t\tV\n",
      "<tf.Variable 'bert_module/bert/encoder/layer_11/intermediate/dense/kernel:0' shape=(768, 3072) dtype=float32>\n",
      "bert_module/bert/encoder/layer_11/intermediate/dense/kernel:0\n",
      "\t\t|\n",
      "\t\tV\n",
      "<tf.Variable 'bert_module/bert/encoder/layer_11/output/LayerNorm/beta:0' shape=(768,) dtype=float32>\n",
      "bert_module/bert/encoder/layer_11/output/LayerNorm/beta:0\n",
      "\t\t|\n",
      "\t\tV\n",
      "<tf.Variable 'bert_module/bert/encoder/layer_11/output/LayerNorm/gamma:0' shape=(768,) dtype=float32>\n",
      "bert_module/bert/encoder/layer_11/output/LayerNorm/gamma:0\n",
      "\t\t|\n",
      "\t\tV\n",
      "<tf.Variable 'bert_module/bert/encoder/layer_11/output/dense/bias:0' shape=(768,) dtype=float32>\n",
      "bert_module/bert/encoder/layer_11/output/dense/bias:0\n",
      "\t\t|\n",
      "\t\tV\n",
      "<tf.Variable 'bert_module/bert/encoder/layer_11/output/dense/kernel:0' shape=(3072, 768) dtype=float32>\n",
      "bert_module/bert/encoder/layer_11/output/dense/kernel:0\n",
      "\t\t|\n",
      "\t\tV\n",
      "<tf.Variable 'bert_module/bert/encoder/layer_2/attention/output/LayerNorm/beta:0' shape=(768,) dtype=float32>\n",
      "bert_module/bert/encoder/layer_2/attention/output/LayerNorm/beta:0\n",
      "\t\t|\n",
      "\t\tV\n",
      "<tf.Variable 'bert_module/bert/encoder/layer_2/attention/output/LayerNorm/gamma:0' shape=(768,) dtype=float32>\n",
      "bert_module/bert/encoder/layer_2/attention/output/LayerNorm/gamma:0\n",
      "\t\t|\n",
      "\t\tV\n",
      "<tf.Variable 'bert_module/bert/encoder/layer_2/attention/output/dense/bias:0' shape=(768,) dtype=float32>\n",
      "bert_module/bert/encoder/layer_2/attention/output/dense/bias:0\n",
      "\t\t|\n",
      "\t\tV\n",
      "<tf.Variable 'bert_module/bert/encoder/layer_2/attention/output/dense/kernel:0' shape=(768, 768) dtype=float32>\n",
      "bert_module/bert/encoder/layer_2/attention/output/dense/kernel:0\n",
      "\t\t|\n",
      "\t\tV\n",
      "<tf.Variable 'bert_module/bert/encoder/layer_2/attention/self/key/bias:0' shape=(768,) dtype=float32>\n",
      "bert_module/bert/encoder/layer_2/attention/self/key/bias:0\n",
      "\t\t|\n",
      "\t\tV\n",
      "<tf.Variable 'bert_module/bert/encoder/layer_2/attention/self/key/kernel:0' shape=(768, 768) dtype=float32>\n",
      "bert_module/bert/encoder/layer_2/attention/self/key/kernel:0\n",
      "\t\t|\n",
      "\t\tV\n",
      "<tf.Variable 'bert_module/bert/encoder/layer_2/attention/self/query/bias:0' shape=(768,) dtype=float32>\n",
      "bert_module/bert/encoder/layer_2/attention/self/query/bias:0\n",
      "\t\t|\n",
      "\t\tV\n",
      "<tf.Variable 'bert_module/bert/encoder/layer_2/attention/self/query/kernel:0' shape=(768, 768) dtype=float32>\n",
      "bert_module/bert/encoder/layer_2/attention/self/query/kernel:0\n",
      "\t\t|\n",
      "\t\tV\n",
      "<tf.Variable 'bert_module/bert/encoder/layer_2/attention/self/value/bias:0' shape=(768,) dtype=float32>\n",
      "bert_module/bert/encoder/layer_2/attention/self/value/bias:0\n",
      "\t\t|\n",
      "\t\tV\n",
      "<tf.Variable 'bert_module/bert/encoder/layer_2/attention/self/value/kernel:0' shape=(768, 768) dtype=float32>\n",
      "bert_module/bert/encoder/layer_2/attention/self/value/kernel:0\n",
      "\t\t|\n",
      "\t\tV\n",
      "<tf.Variable 'bert_module/bert/encoder/layer_2/intermediate/dense/bias:0' shape=(3072,) dtype=float32>\n",
      "bert_module/bert/encoder/layer_2/intermediate/dense/bias:0\n",
      "\t\t|\n",
      "\t\tV\n",
      "<tf.Variable 'bert_module/bert/encoder/layer_2/intermediate/dense/kernel:0' shape=(768, 3072) dtype=float32>\n",
      "bert_module/bert/encoder/layer_2/intermediate/dense/kernel:0\n",
      "\t\t|\n",
      "\t\tV\n",
      "<tf.Variable 'bert_module/bert/encoder/layer_2/output/LayerNorm/beta:0' shape=(768,) dtype=float32>\n",
      "bert_module/bert/encoder/layer_2/output/LayerNorm/beta:0\n",
      "\t\t|\n",
      "\t\tV\n",
      "<tf.Variable 'bert_module/bert/encoder/layer_2/output/LayerNorm/gamma:0' shape=(768,) dtype=float32>\n",
      "bert_module/bert/encoder/layer_2/output/LayerNorm/gamma:0\n",
      "\t\t|\n",
      "\t\tV\n",
      "<tf.Variable 'bert_module/bert/encoder/layer_2/output/dense/bias:0' shape=(768,) dtype=float32>\n",
      "bert_module/bert/encoder/layer_2/output/dense/bias:0\n",
      "\t\t|\n",
      "\t\tV\n",
      "<tf.Variable 'bert_module/bert/encoder/layer_2/output/dense/kernel:0' shape=(3072, 768) dtype=float32>\n",
      "bert_module/bert/encoder/layer_2/output/dense/kernel:0\n",
      "\t\t|\n",
      "\t\tV\n",
      "<tf.Variable 'bert_module/bert/encoder/layer_3/attention/output/LayerNorm/beta:0' shape=(768,) dtype=float32>\n",
      "bert_module/bert/encoder/layer_3/attention/output/LayerNorm/beta:0\n",
      "\t\t|\n",
      "\t\tV\n",
      "<tf.Variable 'bert_module/bert/encoder/layer_3/attention/output/LayerNorm/gamma:0' shape=(768,) dtype=float32>\n",
      "bert_module/bert/encoder/layer_3/attention/output/LayerNorm/gamma:0\n",
      "\t\t|\n",
      "\t\tV\n",
      "<tf.Variable 'bert_module/bert/encoder/layer_3/attention/output/dense/bias:0' shape=(768,) dtype=float32>\n",
      "bert_module/bert/encoder/layer_3/attention/output/dense/bias:0\n",
      "\t\t|\n",
      "\t\tV\n",
      "<tf.Variable 'bert_module/bert/encoder/layer_3/attention/output/dense/kernel:0' shape=(768, 768) dtype=float32>\n",
      "bert_module/bert/encoder/layer_3/attention/output/dense/kernel:0\n",
      "\t\t|\n",
      "\t\tV\n",
      "<tf.Variable 'bert_module/bert/encoder/layer_3/attention/self/key/bias:0' shape=(768,) dtype=float32>\n",
      "bert_module/bert/encoder/layer_3/attention/self/key/bias:0\n",
      "\t\t|\n",
      "\t\tV\n",
      "<tf.Variable 'bert_module/bert/encoder/layer_3/attention/self/key/kernel:0' shape=(768, 768) dtype=float32>\n",
      "bert_module/bert/encoder/layer_3/attention/self/key/kernel:0\n",
      "\t\t|\n",
      "\t\tV\n",
      "<tf.Variable 'bert_module/bert/encoder/layer_3/attention/self/query/bias:0' shape=(768,) dtype=float32>\n",
      "bert_module/bert/encoder/layer_3/attention/self/query/bias:0\n",
      "\t\t|\n",
      "\t\tV\n",
      "<tf.Variable 'bert_module/bert/encoder/layer_3/attention/self/query/kernel:0' shape=(768, 768) dtype=float32>\n",
      "bert_module/bert/encoder/layer_3/attention/self/query/kernel:0\n",
      "\t\t|\n",
      "\t\tV\n",
      "<tf.Variable 'bert_module/bert/encoder/layer_3/attention/self/value/bias:0' shape=(768,) dtype=float32>\n",
      "bert_module/bert/encoder/layer_3/attention/self/value/bias:0\n",
      "\t\t|\n",
      "\t\tV\n",
      "<tf.Variable 'bert_module/bert/encoder/layer_3/attention/self/value/kernel:0' shape=(768, 768) dtype=float32>\n",
      "bert_module/bert/encoder/layer_3/attention/self/value/kernel:0\n",
      "\t\t|\n",
      "\t\tV\n",
      "<tf.Variable 'bert_module/bert/encoder/layer_3/intermediate/dense/bias:0' shape=(3072,) dtype=float32>\n",
      "bert_module/bert/encoder/layer_3/intermediate/dense/bias:0\n",
      "\t\t|\n",
      "\t\tV\n",
      "<tf.Variable 'bert_module/bert/encoder/layer_3/intermediate/dense/kernel:0' shape=(768, 3072) dtype=float32>\n",
      "bert_module/bert/encoder/layer_3/intermediate/dense/kernel:0\n",
      "\t\t|\n",
      "\t\tV\n",
      "<tf.Variable 'bert_module/bert/encoder/layer_3/output/LayerNorm/beta:0' shape=(768,) dtype=float32>\n",
      "bert_module/bert/encoder/layer_3/output/LayerNorm/beta:0\n",
      "\t\t|\n",
      "\t\tV\n",
      "<tf.Variable 'bert_module/bert/encoder/layer_3/output/LayerNorm/gamma:0' shape=(768,) dtype=float32>\n",
      "bert_module/bert/encoder/layer_3/output/LayerNorm/gamma:0\n",
      "\t\t|\n",
      "\t\tV\n",
      "<tf.Variable 'bert_module/bert/encoder/layer_3/output/dense/bias:0' shape=(768,) dtype=float32>\n",
      "bert_module/bert/encoder/layer_3/output/dense/bias:0\n",
      "\t\t|\n",
      "\t\tV\n",
      "<tf.Variable 'bert_module/bert/encoder/layer_3/output/dense/kernel:0' shape=(3072, 768) dtype=float32>\n",
      "bert_module/bert/encoder/layer_3/output/dense/kernel:0\n",
      "\t\t|\n",
      "\t\tV\n",
      "<tf.Variable 'bert_module/bert/encoder/layer_4/attention/output/LayerNorm/beta:0' shape=(768,) dtype=float32>\n",
      "bert_module/bert/encoder/layer_4/attention/output/LayerNorm/beta:0\n",
      "\t\t|\n",
      "\t\tV\n",
      "<tf.Variable 'bert_module/bert/encoder/layer_4/attention/output/LayerNorm/gamma:0' shape=(768,) dtype=float32>\n",
      "bert_module/bert/encoder/layer_4/attention/output/LayerNorm/gamma:0\n",
      "\t\t|\n",
      "\t\tV\n",
      "<tf.Variable 'bert_module/bert/encoder/layer_4/attention/output/dense/bias:0' shape=(768,) dtype=float32>\n",
      "bert_module/bert/encoder/layer_4/attention/output/dense/bias:0\n",
      "\t\t|\n",
      "\t\tV\n",
      "<tf.Variable 'bert_module/bert/encoder/layer_4/attention/output/dense/kernel:0' shape=(768, 768) dtype=float32>\n",
      "bert_module/bert/encoder/layer_4/attention/output/dense/kernel:0\n",
      "\t\t|\n",
      "\t\tV\n",
      "<tf.Variable 'bert_module/bert/encoder/layer_4/attention/self/key/bias:0' shape=(768,) dtype=float32>\n",
      "bert_module/bert/encoder/layer_4/attention/self/key/bias:0\n",
      "\t\t|\n",
      "\t\tV\n",
      "<tf.Variable 'bert_module/bert/encoder/layer_4/attention/self/key/kernel:0' shape=(768, 768) dtype=float32>\n",
      "bert_module/bert/encoder/layer_4/attention/self/key/kernel:0\n",
      "\t\t|\n",
      "\t\tV\n",
      "<tf.Variable 'bert_module/bert/encoder/layer_4/attention/self/query/bias:0' shape=(768,) dtype=float32>\n",
      "bert_module/bert/encoder/layer_4/attention/self/query/bias:0\n",
      "\t\t|\n",
      "\t\tV\n",
      "<tf.Variable 'bert_module/bert/encoder/layer_4/attention/self/query/kernel:0' shape=(768, 768) dtype=float32>\n",
      "bert_module/bert/encoder/layer_4/attention/self/query/kernel:0\n",
      "\t\t|\n",
      "\t\tV\n",
      "<tf.Variable 'bert_module/bert/encoder/layer_4/attention/self/value/bias:0' shape=(768,) dtype=float32>\n",
      "bert_module/bert/encoder/layer_4/attention/self/value/bias:0\n",
      "\t\t|\n",
      "\t\tV\n",
      "<tf.Variable 'bert_module/bert/encoder/layer_4/attention/self/value/kernel:0' shape=(768, 768) dtype=float32>\n",
      "bert_module/bert/encoder/layer_4/attention/self/value/kernel:0\n",
      "\t\t|\n",
      "\t\tV\n",
      "<tf.Variable 'bert_module/bert/encoder/layer_4/intermediate/dense/bias:0' shape=(3072,) dtype=float32>\n",
      "bert_module/bert/encoder/layer_4/intermediate/dense/bias:0\n",
      "\t\t|\n",
      "\t\tV\n",
      "<tf.Variable 'bert_module/bert/encoder/layer_4/intermediate/dense/kernel:0' shape=(768, 3072) dtype=float32>\n",
      "bert_module/bert/encoder/layer_4/intermediate/dense/kernel:0\n",
      "\t\t|\n",
      "\t\tV\n",
      "<tf.Variable 'bert_module/bert/encoder/layer_4/output/LayerNorm/beta:0' shape=(768,) dtype=float32>\n",
      "bert_module/bert/encoder/layer_4/output/LayerNorm/beta:0\n",
      "\t\t|\n",
      "\t\tV\n",
      "<tf.Variable 'bert_module/bert/encoder/layer_4/output/LayerNorm/gamma:0' shape=(768,) dtype=float32>\n",
      "bert_module/bert/encoder/layer_4/output/LayerNorm/gamma:0\n",
      "\t\t|\n",
      "\t\tV\n",
      "<tf.Variable 'bert_module/bert/encoder/layer_4/output/dense/bias:0' shape=(768,) dtype=float32>\n",
      "bert_module/bert/encoder/layer_4/output/dense/bias:0\n",
      "\t\t|\n",
      "\t\tV\n",
      "<tf.Variable 'bert_module/bert/encoder/layer_4/output/dense/kernel:0' shape=(3072, 768) dtype=float32>\n",
      "bert_module/bert/encoder/layer_4/output/dense/kernel:0\n",
      "\t\t|\n",
      "\t\tV\n",
      "<tf.Variable 'bert_module/bert/encoder/layer_5/attention/output/LayerNorm/beta:0' shape=(768,) dtype=float32>\n",
      "bert_module/bert/encoder/layer_5/attention/output/LayerNorm/beta:0\n",
      "\t\t|\n",
      "\t\tV\n",
      "<tf.Variable 'bert_module/bert/encoder/layer_5/attention/output/LayerNorm/gamma:0' shape=(768,) dtype=float32>\n",
      "bert_module/bert/encoder/layer_5/attention/output/LayerNorm/gamma:0\n",
      "\t\t|\n",
      "\t\tV\n",
      "<tf.Variable 'bert_module/bert/encoder/layer_5/attention/output/dense/bias:0' shape=(768,) dtype=float32>\n",
      "bert_module/bert/encoder/layer_5/attention/output/dense/bias:0\n",
      "\t\t|\n",
      "\t\tV\n",
      "<tf.Variable 'bert_module/bert/encoder/layer_5/attention/output/dense/kernel:0' shape=(768, 768) dtype=float32>\n",
      "bert_module/bert/encoder/layer_5/attention/output/dense/kernel:0\n",
      "\t\t|\n",
      "\t\tV\n",
      "<tf.Variable 'bert_module/bert/encoder/layer_5/attention/self/key/bias:0' shape=(768,) dtype=float32>\n",
      "bert_module/bert/encoder/layer_5/attention/self/key/bias:0\n",
      "\t\t|\n",
      "\t\tV\n",
      "<tf.Variable 'bert_module/bert/encoder/layer_5/attention/self/key/kernel:0' shape=(768, 768) dtype=float32>\n",
      "bert_module/bert/encoder/layer_5/attention/self/key/kernel:0\n",
      "\t\t|\n",
      "\t\tV\n",
      "<tf.Variable 'bert_module/bert/encoder/layer_5/attention/self/query/bias:0' shape=(768,) dtype=float32>\n",
      "bert_module/bert/encoder/layer_5/attention/self/query/bias:0\n",
      "\t\t|\n",
      "\t\tV\n",
      "<tf.Variable 'bert_module/bert/encoder/layer_5/attention/self/query/kernel:0' shape=(768, 768) dtype=float32>\n",
      "bert_module/bert/encoder/layer_5/attention/self/query/kernel:0\n",
      "\t\t|\n",
      "\t\tV\n",
      "<tf.Variable 'bert_module/bert/encoder/layer_5/attention/self/value/bias:0' shape=(768,) dtype=float32>\n",
      "bert_module/bert/encoder/layer_5/attention/self/value/bias:0\n",
      "\t\t|\n",
      "\t\tV\n",
      "<tf.Variable 'bert_module/bert/encoder/layer_5/attention/self/value/kernel:0' shape=(768, 768) dtype=float32>\n",
      "bert_module/bert/encoder/layer_5/attention/self/value/kernel:0\n",
      "\t\t|\n",
      "\t\tV\n",
      "<tf.Variable 'bert_module/bert/encoder/layer_5/intermediate/dense/bias:0' shape=(3072,) dtype=float32>\n",
      "bert_module/bert/encoder/layer_5/intermediate/dense/bias:0\n",
      "\t\t|\n",
      "\t\tV\n",
      "<tf.Variable 'bert_module/bert/encoder/layer_5/intermediate/dense/kernel:0' shape=(768, 3072) dtype=float32>\n",
      "bert_module/bert/encoder/layer_5/intermediate/dense/kernel:0\n",
      "\t\t|\n",
      "\t\tV\n",
      "<tf.Variable 'bert_module/bert/encoder/layer_5/output/LayerNorm/beta:0' shape=(768,) dtype=float32>\n",
      "bert_module/bert/encoder/layer_5/output/LayerNorm/beta:0\n",
      "\t\t|\n",
      "\t\tV\n",
      "<tf.Variable 'bert_module/bert/encoder/layer_5/output/LayerNorm/gamma:0' shape=(768,) dtype=float32>\n",
      "bert_module/bert/encoder/layer_5/output/LayerNorm/gamma:0\n",
      "\t\t|\n",
      "\t\tV\n",
      "<tf.Variable 'bert_module/bert/encoder/layer_5/output/dense/bias:0' shape=(768,) dtype=float32>\n",
      "bert_module/bert/encoder/layer_5/output/dense/bias:0\n",
      "\t\t|\n",
      "\t\tV\n",
      "<tf.Variable 'bert_module/bert/encoder/layer_5/output/dense/kernel:0' shape=(3072, 768) dtype=float32>\n",
      "bert_module/bert/encoder/layer_5/output/dense/kernel:0\n",
      "\t\t|\n",
      "\t\tV\n",
      "<tf.Variable 'bert_module/bert/encoder/layer_6/attention/output/LayerNorm/beta:0' shape=(768,) dtype=float32>\n",
      "bert_module/bert/encoder/layer_6/attention/output/LayerNorm/beta:0\n",
      "\t\t|\n",
      "\t\tV\n",
      "<tf.Variable 'bert_module/bert/encoder/layer_6/attention/output/LayerNorm/gamma:0' shape=(768,) dtype=float32>\n",
      "bert_module/bert/encoder/layer_6/attention/output/LayerNorm/gamma:0\n",
      "\t\t|\n",
      "\t\tV\n",
      "<tf.Variable 'bert_module/bert/encoder/layer_6/attention/output/dense/bias:0' shape=(768,) dtype=float32>\n",
      "bert_module/bert/encoder/layer_6/attention/output/dense/bias:0\n",
      "\t\t|\n",
      "\t\tV\n",
      "<tf.Variable 'bert_module/bert/encoder/layer_6/attention/output/dense/kernel:0' shape=(768, 768) dtype=float32>\n",
      "bert_module/bert/encoder/layer_6/attention/output/dense/kernel:0\n",
      "\t\t|\n",
      "\t\tV\n",
      "<tf.Variable 'bert_module/bert/encoder/layer_6/attention/self/key/bias:0' shape=(768,) dtype=float32>\n",
      "bert_module/bert/encoder/layer_6/attention/self/key/bias:0\n",
      "\t\t|\n",
      "\t\tV\n",
      "<tf.Variable 'bert_module/bert/encoder/layer_6/attention/self/key/kernel:0' shape=(768, 768) dtype=float32>\n",
      "bert_module/bert/encoder/layer_6/attention/self/key/kernel:0\n",
      "\t\t|\n",
      "\t\tV\n",
      "<tf.Variable 'bert_module/bert/encoder/layer_6/attention/self/query/bias:0' shape=(768,) dtype=float32>\n",
      "bert_module/bert/encoder/layer_6/attention/self/query/bias:0\n",
      "\t\t|\n",
      "\t\tV\n",
      "<tf.Variable 'bert_module/bert/encoder/layer_6/attention/self/query/kernel:0' shape=(768, 768) dtype=float32>\n",
      "bert_module/bert/encoder/layer_6/attention/self/query/kernel:0\n",
      "\t\t|\n",
      "\t\tV\n",
      "<tf.Variable 'bert_module/bert/encoder/layer_6/attention/self/value/bias:0' shape=(768,) dtype=float32>\n",
      "bert_module/bert/encoder/layer_6/attention/self/value/bias:0\n",
      "\t\t|\n",
      "\t\tV\n",
      "<tf.Variable 'bert_module/bert/encoder/layer_6/attention/self/value/kernel:0' shape=(768, 768) dtype=float32>\n",
      "bert_module/bert/encoder/layer_6/attention/self/value/kernel:0\n",
      "\t\t|\n",
      "\t\tV\n",
      "<tf.Variable 'bert_module/bert/encoder/layer_6/intermediate/dense/bias:0' shape=(3072,) dtype=float32>\n",
      "bert_module/bert/encoder/layer_6/intermediate/dense/bias:0\n",
      "\t\t|\n",
      "\t\tV\n",
      "<tf.Variable 'bert_module/bert/encoder/layer_6/intermediate/dense/kernel:0' shape=(768, 3072) dtype=float32>\n",
      "bert_module/bert/encoder/layer_6/intermediate/dense/kernel:0\n",
      "\t\t|\n",
      "\t\tV\n",
      "<tf.Variable 'bert_module/bert/encoder/layer_6/output/LayerNorm/beta:0' shape=(768,) dtype=float32>\n",
      "bert_module/bert/encoder/layer_6/output/LayerNorm/beta:0\n",
      "\t\t|\n",
      "\t\tV\n",
      "<tf.Variable 'bert_module/bert/encoder/layer_6/output/LayerNorm/gamma:0' shape=(768,) dtype=float32>\n",
      "bert_module/bert/encoder/layer_6/output/LayerNorm/gamma:0\n",
      "\t\t|\n",
      "\t\tV\n",
      "<tf.Variable 'bert_module/bert/encoder/layer_6/output/dense/bias:0' shape=(768,) dtype=float32>\n",
      "bert_module/bert/encoder/layer_6/output/dense/bias:0\n",
      "\t\t|\n",
      "\t\tV\n",
      "<tf.Variable 'bert_module/bert/encoder/layer_6/output/dense/kernel:0' shape=(3072, 768) dtype=float32>\n",
      "bert_module/bert/encoder/layer_6/output/dense/kernel:0\n",
      "\t\t|\n",
      "\t\tV\n",
      "<tf.Variable 'bert_module/bert/encoder/layer_7/attention/output/LayerNorm/beta:0' shape=(768,) dtype=float32>\n",
      "bert_module/bert/encoder/layer_7/attention/output/LayerNorm/beta:0\n",
      "\t\t|\n",
      "\t\tV\n",
      "<tf.Variable 'bert_module/bert/encoder/layer_7/attention/output/LayerNorm/gamma:0' shape=(768,) dtype=float32>\n",
      "bert_module/bert/encoder/layer_7/attention/output/LayerNorm/gamma:0\n",
      "\t\t|\n",
      "\t\tV\n",
      "<tf.Variable 'bert_module/bert/encoder/layer_7/attention/output/dense/bias:0' shape=(768,) dtype=float32>\n",
      "bert_module/bert/encoder/layer_7/attention/output/dense/bias:0\n",
      "\t\t|\n",
      "\t\tV\n",
      "<tf.Variable 'bert_module/bert/encoder/layer_7/attention/output/dense/kernel:0' shape=(768, 768) dtype=float32>\n",
      "bert_module/bert/encoder/layer_7/attention/output/dense/kernel:0\n",
      "\t\t|\n",
      "\t\tV\n",
      "<tf.Variable 'bert_module/bert/encoder/layer_7/attention/self/key/bias:0' shape=(768,) dtype=float32>\n",
      "bert_module/bert/encoder/layer_7/attention/self/key/bias:0\n",
      "\t\t|\n",
      "\t\tV\n",
      "<tf.Variable 'bert_module/bert/encoder/layer_7/attention/self/key/kernel:0' shape=(768, 768) dtype=float32>\n",
      "bert_module/bert/encoder/layer_7/attention/self/key/kernel:0\n",
      "\t\t|\n",
      "\t\tV\n",
      "<tf.Variable 'bert_module/bert/encoder/layer_7/attention/self/query/bias:0' shape=(768,) dtype=float32>\n",
      "bert_module/bert/encoder/layer_7/attention/self/query/bias:0\n",
      "\t\t|\n",
      "\t\tV\n",
      "<tf.Variable 'bert_module/bert/encoder/layer_7/attention/self/query/kernel:0' shape=(768, 768) dtype=float32>\n",
      "bert_module/bert/encoder/layer_7/attention/self/query/kernel:0\n",
      "\t\t|\n",
      "\t\tV\n",
      "<tf.Variable 'bert_module/bert/encoder/layer_7/attention/self/value/bias:0' shape=(768,) dtype=float32>\n",
      "bert_module/bert/encoder/layer_7/attention/self/value/bias:0\n",
      "\t\t|\n",
      "\t\tV\n",
      "<tf.Variable 'bert_module/bert/encoder/layer_7/attention/self/value/kernel:0' shape=(768, 768) dtype=float32>\n",
      "bert_module/bert/encoder/layer_7/attention/self/value/kernel:0\n",
      "\t\t|\n",
      "\t\tV\n",
      "<tf.Variable 'bert_module/bert/encoder/layer_7/intermediate/dense/bias:0' shape=(3072,) dtype=float32>\n",
      "bert_module/bert/encoder/layer_7/intermediate/dense/bias:0\n",
      "\t\t|\n",
      "\t\tV\n",
      "<tf.Variable 'bert_module/bert/encoder/layer_7/intermediate/dense/kernel:0' shape=(768, 3072) dtype=float32>\n",
      "bert_module/bert/encoder/layer_7/intermediate/dense/kernel:0\n",
      "\t\t|\n",
      "\t\tV\n",
      "<tf.Variable 'bert_module/bert/encoder/layer_7/output/LayerNorm/beta:0' shape=(768,) dtype=float32>\n",
      "bert_module/bert/encoder/layer_7/output/LayerNorm/beta:0\n",
      "\t\t|\n",
      "\t\tV\n",
      "<tf.Variable 'bert_module/bert/encoder/layer_7/output/LayerNorm/gamma:0' shape=(768,) dtype=float32>\n",
      "bert_module/bert/encoder/layer_7/output/LayerNorm/gamma:0\n",
      "\t\t|\n",
      "\t\tV\n",
      "<tf.Variable 'bert_module/bert/encoder/layer_7/output/dense/bias:0' shape=(768,) dtype=float32>\n",
      "bert_module/bert/encoder/layer_7/output/dense/bias:0\n",
      "\t\t|\n",
      "\t\tV\n",
      "<tf.Variable 'bert_module/bert/encoder/layer_7/output/dense/kernel:0' shape=(3072, 768) dtype=float32>\n",
      "bert_module/bert/encoder/layer_7/output/dense/kernel:0\n",
      "\t\t|\n",
      "\t\tV\n",
      "<tf.Variable 'bert_module/bert/encoder/layer_8/attention/output/LayerNorm/beta:0' shape=(768,) dtype=float32>\n",
      "bert_module/bert/encoder/layer_8/attention/output/LayerNorm/beta:0\n",
      "\t\t|\n",
      "\t\tV\n",
      "<tf.Variable 'bert_module/bert/encoder/layer_8/attention/output/LayerNorm/gamma:0' shape=(768,) dtype=float32>\n",
      "bert_module/bert/encoder/layer_8/attention/output/LayerNorm/gamma:0\n",
      "\t\t|\n",
      "\t\tV\n",
      "<tf.Variable 'bert_module/bert/encoder/layer_8/attention/output/dense/bias:0' shape=(768,) dtype=float32>\n",
      "bert_module/bert/encoder/layer_8/attention/output/dense/bias:0\n",
      "\t\t|\n",
      "\t\tV\n",
      "<tf.Variable 'bert_module/bert/encoder/layer_8/attention/output/dense/kernel:0' shape=(768, 768) dtype=float32>\n",
      "bert_module/bert/encoder/layer_8/attention/output/dense/kernel:0\n",
      "\t\t|\n",
      "\t\tV\n",
      "<tf.Variable 'bert_module/bert/encoder/layer_8/attention/self/key/bias:0' shape=(768,) dtype=float32>\n",
      "bert_module/bert/encoder/layer_8/attention/self/key/bias:0\n",
      "\t\t|\n",
      "\t\tV\n",
      "<tf.Variable 'bert_module/bert/encoder/layer_8/attention/self/key/kernel:0' shape=(768, 768) dtype=float32>\n",
      "bert_module/bert/encoder/layer_8/attention/self/key/kernel:0\n",
      "\t\t|\n",
      "\t\tV\n",
      "<tf.Variable 'bert_module/bert/encoder/layer_8/attention/self/query/bias:0' shape=(768,) dtype=float32>\n",
      "bert_module/bert/encoder/layer_8/attention/self/query/bias:0\n",
      "\t\t|\n",
      "\t\tV\n",
      "<tf.Variable 'bert_module/bert/encoder/layer_8/attention/self/query/kernel:0' shape=(768, 768) dtype=float32>\n",
      "bert_module/bert/encoder/layer_8/attention/self/query/kernel:0\n",
      "\t\t|\n",
      "\t\tV\n",
      "<tf.Variable 'bert_module/bert/encoder/layer_8/attention/self/value/bias:0' shape=(768,) dtype=float32>\n",
      "bert_module/bert/encoder/layer_8/attention/self/value/bias:0\n",
      "\t\t|\n",
      "\t\tV\n",
      "<tf.Variable 'bert_module/bert/encoder/layer_8/attention/self/value/kernel:0' shape=(768, 768) dtype=float32>\n",
      "bert_module/bert/encoder/layer_8/attention/self/value/kernel:0\n",
      "\t\t|\n",
      "\t\tV\n",
      "<tf.Variable 'bert_module/bert/encoder/layer_8/intermediate/dense/bias:0' shape=(3072,) dtype=float32>\n",
      "bert_module/bert/encoder/layer_8/intermediate/dense/bias:0\n",
      "\t\t|\n",
      "\t\tV\n",
      "<tf.Variable 'bert_module/bert/encoder/layer_8/intermediate/dense/kernel:0' shape=(768, 3072) dtype=float32>\n",
      "bert_module/bert/encoder/layer_8/intermediate/dense/kernel:0\n",
      "\t\t|\n",
      "\t\tV\n",
      "<tf.Variable 'bert_module/bert/encoder/layer_8/output/LayerNorm/beta:0' shape=(768,) dtype=float32>\n",
      "bert_module/bert/encoder/layer_8/output/LayerNorm/beta:0\n",
      "\t\t|\n",
      "\t\tV\n",
      "<tf.Variable 'bert_module/bert/encoder/layer_8/output/LayerNorm/gamma:0' shape=(768,) dtype=float32>\n",
      "bert_module/bert/encoder/layer_8/output/LayerNorm/gamma:0\n",
      "\t\t|\n",
      "\t\tV\n",
      "<tf.Variable 'bert_module/bert/encoder/layer_8/output/dense/bias:0' shape=(768,) dtype=float32>\n",
      "bert_module/bert/encoder/layer_8/output/dense/bias:0\n",
      "\t\t|\n",
      "\t\tV\n",
      "<tf.Variable 'bert_module/bert/encoder/layer_8/output/dense/kernel:0' shape=(3072, 768) dtype=float32>\n",
      "bert_module/bert/encoder/layer_8/output/dense/kernel:0\n",
      "\t\t|\n",
      "\t\tV\n",
      "<tf.Variable 'bert_module/bert/encoder/layer_9/attention/output/LayerNorm/beta:0' shape=(768,) dtype=float32>\n",
      "bert_module/bert/encoder/layer_9/attention/output/LayerNorm/beta:0\n",
      "\t\t|\n",
      "\t\tV\n",
      "<tf.Variable 'bert_module/bert/encoder/layer_9/attention/output/LayerNorm/gamma:0' shape=(768,) dtype=float32>\n",
      "bert_module/bert/encoder/layer_9/attention/output/LayerNorm/gamma:0\n",
      "\t\t|\n",
      "\t\tV\n",
      "<tf.Variable 'bert_module/bert/encoder/layer_9/attention/output/dense/bias:0' shape=(768,) dtype=float32>\n",
      "bert_module/bert/encoder/layer_9/attention/output/dense/bias:0\n",
      "\t\t|\n",
      "\t\tV\n",
      "<tf.Variable 'bert_module/bert/encoder/layer_9/attention/output/dense/kernel:0' shape=(768, 768) dtype=float32>\n",
      "bert_module/bert/encoder/layer_9/attention/output/dense/kernel:0\n",
      "\t\t|\n",
      "\t\tV\n",
      "<tf.Variable 'bert_module/bert/encoder/layer_9/attention/self/key/bias:0' shape=(768,) dtype=float32>\n",
      "bert_module/bert/encoder/layer_9/attention/self/key/bias:0\n",
      "\t\t|\n",
      "\t\tV\n",
      "<tf.Variable 'bert_module/bert/encoder/layer_9/attention/self/key/kernel:0' shape=(768, 768) dtype=float32>\n",
      "bert_module/bert/encoder/layer_9/attention/self/key/kernel:0\n",
      "\t\t|\n",
      "\t\tV\n",
      "<tf.Variable 'bert_module/bert/encoder/layer_9/attention/self/query/bias:0' shape=(768,) dtype=float32>\n",
      "bert_module/bert/encoder/layer_9/attention/self/query/bias:0\n",
      "\t\t|\n",
      "\t\tV\n",
      "<tf.Variable 'bert_module/bert/encoder/layer_9/attention/self/query/kernel:0' shape=(768, 768) dtype=float32>\n",
      "bert_module/bert/encoder/layer_9/attention/self/query/kernel:0\n",
      "\t\t|\n",
      "\t\tV\n",
      "<tf.Variable 'bert_module/bert/encoder/layer_9/attention/self/value/bias:0' shape=(768,) dtype=float32>\n",
      "bert_module/bert/encoder/layer_9/attention/self/value/bias:0\n",
      "\t\t|\n",
      "\t\tV\n",
      "<tf.Variable 'bert_module/bert/encoder/layer_9/attention/self/value/kernel:0' shape=(768, 768) dtype=float32>\n",
      "bert_module/bert/encoder/layer_9/attention/self/value/kernel:0\n",
      "\t\t|\n",
      "\t\tV\n",
      "<tf.Variable 'bert_module/bert/encoder/layer_9/intermediate/dense/bias:0' shape=(3072,) dtype=float32>\n",
      "bert_module/bert/encoder/layer_9/intermediate/dense/bias:0\n",
      "\t\t|\n",
      "\t\tV\n",
      "<tf.Variable 'bert_module/bert/encoder/layer_9/intermediate/dense/kernel:0' shape=(768, 3072) dtype=float32>\n",
      "bert_module/bert/encoder/layer_9/intermediate/dense/kernel:0\n",
      "\t\t|\n",
      "\t\tV\n",
      "<tf.Variable 'bert_module/bert/encoder/layer_9/output/LayerNorm/beta:0' shape=(768,) dtype=float32>\n",
      "bert_module/bert/encoder/layer_9/output/LayerNorm/beta:0\n",
      "\t\t|\n",
      "\t\tV\n",
      "<tf.Variable 'bert_module/bert/encoder/layer_9/output/LayerNorm/gamma:0' shape=(768,) dtype=float32>\n",
      "bert_module/bert/encoder/layer_9/output/LayerNorm/gamma:0\n",
      "\t\t|\n",
      "\t\tV\n",
      "<tf.Variable 'bert_module/bert/encoder/layer_9/output/dense/bias:0' shape=(768,) dtype=float32>\n",
      "bert_module/bert/encoder/layer_9/output/dense/bias:0\n",
      "\t\t|\n",
      "\t\tV\n",
      "<tf.Variable 'bert_module/bert/encoder/layer_9/output/dense/kernel:0' shape=(3072, 768) dtype=float32>\n",
      "bert_module/bert/encoder/layer_9/output/dense/kernel:0\n",
      "\t\t|\n",
      "\t\tV\n",
      "<tf.Variable 'bert_module/bert/pooler/dense/bias:0' shape=(768,) dtype=float32>\n",
      "bert_module/bert/pooler/dense/bias:0\n",
      "\t\t|\n",
      "\t\tV\n",
      "<tf.Variable 'bert_module/bert/pooler/dense/kernel:0' shape=(768, 768) dtype=float32>\n",
      "bert_module/bert/pooler/dense/kernel:0\n",
      "\t\t|\n",
      "\t\tV\n",
      "<tf.Variable 'bert_module/cls/predictions/output_bias:0' shape=(30522,) dtype=float32>\n",
      "bert_module/cls/predictions/output_bias:0\n",
      "\t\t|\n",
      "\t\tV\n",
      "<tf.Variable 'bert_module/cls/predictions/transform/LayerNorm/beta:0' shape=(768,) dtype=float32>\n",
      "bert_module/cls/predictions/transform/LayerNorm/beta:0\n",
      "\t\t|\n",
      "\t\tV\n",
      "<tf.Variable 'bert_module/cls/predictions/transform/LayerNorm/gamma:0' shape=(768,) dtype=float32>\n",
      "bert_module/cls/predictions/transform/LayerNorm/gamma:0\n",
      "\t\t|\n",
      "\t\tV\n",
      "<tf.Variable 'bert_module/cls/predictions/transform/dense/bias:0' shape=(768,) dtype=float32>\n",
      "bert_module/cls/predictions/transform/dense/bias:0\n",
      "\t\t|\n",
      "\t\tV\n",
      "<tf.Variable 'bert_module/cls/predictions/transform/dense/kernel:0' shape=(768, 768) dtype=float32>\n",
      "bert_module/cls/predictions/transform/dense/kernel:0\n",
      "\t\t|\n",
      "\t\tV\n"
     ]
    }
   ],
   "source": [
    "for var in bm.variables:\n",
    "    print(var)\n",
    "    print(var.name)\n",
    "    print('\\t\\t|')\n",
    "    print('\\t\\tV')"
   ]
  },
  {
   "cell_type": "code",
   "execution_count": 26,
   "metadata": {},
   "outputs": [
    {
     "data": {
      "text/plain": [
       "204"
      ]
     },
     "execution_count": 26,
     "metadata": {},
     "output_type": "execute_result"
    }
   ],
   "source": [
    "len(bm.variables)"
   ]
  },
  {
   "cell_type": "code",
   "execution_count": 27,
   "metadata": {},
   "outputs": [
    {
     "name": "stdout",
     "output_type": "stream",
     "text": [
      "encoder/layer_10\n",
      "encoder/layer_9\n",
      "encoder/layer_8\n",
      "encoder/layer_7\n",
      "encoder/layer_6\n",
      "encoder/layer_5\n",
      "encoder/layer_4\n",
      "encoder/layer_3\n",
      "encoder/layer_2\n",
      "encoder/layer_1\n",
      "encoder/layer_0\n"
     ]
    }
   ],
   "source": [
    "for i in range(10+1):\n",
    "    print(f\"encoder/layer_{str(10 - i)}\")"
   ]
  },
  {
   "cell_type": "code",
   "execution_count": 28,
   "metadata": {},
   "outputs": [],
   "source": [
    "class BertLayer(tf.layers.Layer):\n",
    "    \n",
    "    def __init__(self, bert_path, n_fine_tune_encoders=10, **kwargs,):\n",
    "        \n",
    "        self.n_fine_tune_encoders = n_fine_tune_encoders\n",
    "        self.trainable = True\n",
    "        self.output_size = 768\n",
    "        self.bert_path = bert_path\n",
    "        super(BertLayer, self).__init__(**kwargs)\n",
    "\n",
    "        \n",
    "    def build(self, input_shape):\n",
    "        self.bert = tf_hub.Module(self.bert_path,\n",
    "                                  trainable=self.trainable, \n",
    "                                  name=f\"{self.name}_module\")\n",
    "\n",
    "        # Remove unused layers\n",
    "        trainable_vars = self.bert.variables\n",
    "        trainable_vars = [var for var in trainable_vars \n",
    "                                  if not \"/cls/\" in var.name]\n",
    "        trainable_layers = [\"embeddings\", \"pooler/dense\"]\n",
    "\n",
    "\n",
    "        # Select how many layers to fine tune\n",
    "        for i in range(self.n_fine_tune_encoders+1):\n",
    "            trainable_layers.append(f\"encoder/layer_{str(10 - i)}\")\n",
    "\n",
    "        # Update trainable vars to contain only the specified layers\n",
    "        trainable_vars = [var for var in trainable_vars\n",
    "                                  if any([l in var.name \n",
    "                                              for l in trainable_layers])]\n",
    "\n",
    "        # Add to trainable weights\n",
    "        for var in trainable_vars:\n",
    "            self._trainable_weights.append(var)\n",
    "\n",
    "        for var in self.bert.variables:\n",
    "            if var not in self._trainable_weights:# and 'encoder/layer' not in var.name:\n",
    "                self._non_trainable_weights.append(var)\n",
    "        print('Trainable layers:', len(self._trainable_weights))\n",
    "        print('Non Trainable layers:', len(self._non_trainable_weights))\n",
    "\n",
    "        super(BertLayer, self).build(input_shape)\n",
    "\n",
    "        \n",
    "    def call(self, inputs):\n",
    "        \n",
    "        inputs = [K.cast(x, dtype=\"int32\") for x in inputs]\n",
    "        input_ids, input_mask, segment_ids = inputs\n",
    "        bert_inputs = dict(input_ids=input_ids, \n",
    "                           input_mask=input_mask, \n",
    "                           segment_ids=segment_ids)\n",
    "        \n",
    "        pooled = self.bert(inputs=bert_inputs, \n",
    "                           signature=\"tokens\", \n",
    "                           as_dict=True)[\"pooled_output\"]\n",
    "\n",
    "        return pooled\n",
    "\n",
    "    \n",
    "    def compute_output_shape(self, input_shape):\n",
    "        return (input_shape[0], self.output_size) "
   ]
  },
  {
   "cell_type": "code",
   "execution_count": 29,
   "metadata": {},
   "outputs": [],
   "source": [
    "# Build model\n",
    "def build_model(bert_path, max_seq_length, n_fine_tune_encoders=10): \n",
    "    \n",
    "    inp_id = tf.keras.layers.Input(shape=(max_seq_length,), name=\"input_ids\")\n",
    "    inp_mask = tf.keras.layers.Input(shape=(max_seq_length,), name=\"input_masks\")\n",
    "    inp_segment = tf.keras.layers.Input(shape=(max_seq_length,), name=\"segment_ids\")\n",
    "    bert_inputs = [inp_id, inp_mask, inp_segment]\n",
    "    \n",
    "    bert_output = BertLayer(bert_path=bert_path, \n",
    "                            n_fine_tune_encoders=n_fine_tune_encoders)(bert_inputs)\n",
    "    \n",
    "    dense = tf.keras.layers.Dense(256, activation='relu')(bert_output)\n",
    "    pred = tf.keras.layers.Dense(1, activation='sigmoid')(dense)\n",
    "    \n",
    "    model = tf.keras.models.Model(inputs=bert_inputs, outputs=pred)\n",
    "    model.compile(loss='binary_crossentropy', \n",
    "                  optimizer=tf.keras.optimizers.Adam(lr=2e-5), \n",
    "                  metrics=['accuracy'])    \n",
    "    return model"
   ]
  },
  {
   "cell_type": "code",
   "execution_count": 30,
   "metadata": {},
   "outputs": [],
   "source": [
    "def initialize_vars(sess):\n",
    "    sess.run(tf.local_variables_initializer())\n",
    "    sess.run(tf.global_variables_initializer())\n",
    "    sess.run(tf.tables_initializer())\n",
    "    K.set_session(sess)"
   ]
  },
  {
   "cell_type": "code",
   "execution_count": 31,
   "metadata": {},
   "outputs": [
    {
     "data": {
      "text/plain": [
       "512"
      ]
     },
     "execution_count": 31,
     "metadata": {},
     "output_type": "execute_result"
    }
   ],
   "source": [
    "MAX_SEQ_LENGTH"
   ]
  },
  {
   "cell_type": "code",
   "execution_count": 32,
   "metadata": {},
   "outputs": [
    {
     "name": "stdout",
     "output_type": "stream",
     "text": [
      "INFO:tensorflow:Saver not created because there are no variables in the graph to restore\n"
     ]
    },
    {
     "name": "stderr",
     "output_type": "stream",
     "text": [
      "I0701 02:06:06.637487 140267069904704 tf_logging.py:115] Saver not created because there are no variables in the graph to restore\n"
     ]
    },
    {
     "name": "stdout",
     "output_type": "stream",
     "text": [
      "Trainable layers: 199\n",
      "Non Trainable layers: 5\n",
      "INFO:tensorflow:Saver not created because there are no variables in the graph to restore\n"
     ]
    },
    {
     "name": "stderr",
     "output_type": "stream",
     "text": [
      "I0701 02:06:08.384334 140267069904704 tf_logging.py:115] Saver not created because there are no variables in the graph to restore\n"
     ]
    }
   ],
   "source": [
    "model = build_model(bert_path=BERT_PATH, max_seq_length=MAX_SEQ_LENGTH, n_fine_tune_encoders=10)\n",
    "\n",
    "# Instantiate variables\n",
    "initialize_vars(sess)"
   ]
  },
  {
   "cell_type": "code",
   "execution_count": 34,
   "metadata": {},
   "outputs": [
    {
     "name": "stdout",
     "output_type": "stream",
     "text": [
      "__________________________________________________________________________________________________\n",
      "Layer (type)                    Output Shape         Param #     Connected to                     \n",
      "==================================================================================================\n",
      "input_ids (InputLayer)          (None, 512)          0                                            \n",
      "__________________________________________________________________________________________________\n",
      "input_masks (InputLayer)        (None, 512)          0                                            \n",
      "__________________________________________________________________________________________________\n",
      "segment_ids (InputLayer)        (None, 512)          0                                            \n",
      "__________________________________________________________________________________________________\n",
      "bert_layer_1 (BertLayer)        (None, 768)          110104890   input_ids[0][0]                  \n",
      "                                                                 input_masks[0][0]                \n",
      "                                                                 segment_ids[0][0]                \n",
      "__________________________________________________________________________________________________\n",
      "dense (Dense)                   (None, 256)          196864      bert_layer_1[0][0]               \n",
      "__________________________________________________________________________________________________\n",
      "dense_1 (Dense)                 (None, 1)            257         dense[0][0]                      \n",
      "==================================================================================================\n",
      "Total params: 110,302,011\n",
      "Trainable params: 109,679,361\n",
      "Non-trainable params: 622,650\n",
      "__________________________________________________________________________________________________\n"
     ]
    }
   ],
   "source": [
    "model.summary()"
   ]
  },
  {
   "cell_type": "code",
   "execution_count": 35,
   "metadata": {},
   "outputs": [
    {
     "name": "stderr",
     "output_type": "stream",
     "text": [
      "/home/redanalyze/anaconda3/lib/python3.6/site-packages/tensorflow/python/ops/gradients_impl.py:112: UserWarning: Converting sparse IndexedSlices to a dense Tensor of unknown shape. This may consume a large amount of memory.\n",
      "  \"Converting sparse IndexedSlices to a dense Tensor of unknown shape. \"\n"
     ]
    },
    {
     "name": "stdout",
     "output_type": "stream",
     "text": [
      "Train on 30000 samples, validate on 5000 samples\n",
      "Epoch 1/3\n",
      "30000/30000 [==============================] - 4427s 148ms/step - loss: 0.2086 - acc: 0.9178 - val_loss: 0.1599 - val_acc: 0.9370\n",
      "Epoch 2/3\n",
      "30000/30000 [==============================] - 4413s 147ms/step - loss: 0.0809 - acc: 0.9732 - val_loss: 0.1916 - val_acc: 0.9322\n",
      "Epoch 3/3\n",
      " 3570/30000 [==>...........................] - ETA: 1:01:08 - loss: 0.0259 - acc: 0.9927"
     ]
    },
    {
     "ename": "KeyboardInterrupt",
     "evalue": "",
     "output_type": "error",
     "traceback": [
      "\u001b[0;31m---------------------------------------------------------------------------\u001b[0m",
      "\u001b[0;31mKeyboardInterrupt\u001b[0m                         Traceback (most recent call last)",
      "\u001b[0;32m<ipython-input-35-e1f167438af0>\u001b[0m in \u001b[0;36m<module>\u001b[0;34m\u001b[0m\n\u001b[1;32m      5\u001b[0m     \u001b[0mepochs\u001b[0m\u001b[0;34m=\u001b[0m\u001b[0;36m3\u001b[0m\u001b[0;34m,\u001b[0m\u001b[0;34m\u001b[0m\u001b[0;34m\u001b[0m\u001b[0m\n\u001b[1;32m      6\u001b[0m     \u001b[0mbatch_size\u001b[0m\u001b[0;34m=\u001b[0m\u001b[0;36m15\u001b[0m\u001b[0;34m,\u001b[0m\u001b[0;34m\u001b[0m\u001b[0;34m\u001b[0m\u001b[0m\n\u001b[0;32m----> 7\u001b[0;31m     \u001b[0mverbose\u001b[0m\u001b[0;34m=\u001b[0m\u001b[0;36m1\u001b[0m\u001b[0;34m\u001b[0m\u001b[0;34m\u001b[0m\u001b[0m\n\u001b[0m\u001b[1;32m      8\u001b[0m )\n",
      "\u001b[0;32m~/anaconda3/lib/python3.6/site-packages/tensorflow/python/keras/engine/training.py\u001b[0m in \u001b[0;36mfit\u001b[0;34m(self, x, y, batch_size, epochs, verbose, callbacks, validation_split, validation_data, shuffle, class_weight, sample_weight, initial_epoch, steps_per_epoch, validation_steps, max_queue_size, workers, use_multiprocessing, **kwargs)\u001b[0m\n\u001b[1;32m   1637\u001b[0m           \u001b[0minitial_epoch\u001b[0m\u001b[0;34m=\u001b[0m\u001b[0minitial_epoch\u001b[0m\u001b[0;34m,\u001b[0m\u001b[0;34m\u001b[0m\u001b[0;34m\u001b[0m\u001b[0m\n\u001b[1;32m   1638\u001b[0m           \u001b[0msteps_per_epoch\u001b[0m\u001b[0;34m=\u001b[0m\u001b[0msteps_per_epoch\u001b[0m\u001b[0;34m,\u001b[0m\u001b[0;34m\u001b[0m\u001b[0;34m\u001b[0m\u001b[0m\n\u001b[0;32m-> 1639\u001b[0;31m           validation_steps=validation_steps)\n\u001b[0m\u001b[1;32m   1640\u001b[0m \u001b[0;34m\u001b[0m\u001b[0m\n\u001b[1;32m   1641\u001b[0m   def evaluate(self,\n",
      "\u001b[0;32m~/anaconda3/lib/python3.6/site-packages/tensorflow/python/keras/engine/training_arrays.py\u001b[0m in \u001b[0;36mfit_loop\u001b[0;34m(model, inputs, targets, sample_weights, batch_size, epochs, verbose, callbacks, val_inputs, val_targets, val_sample_weights, shuffle, initial_epoch, steps_per_epoch, validation_steps)\u001b[0m\n\u001b[1;32m    213\u001b[0m           \u001b[0mins_batch\u001b[0m\u001b[0;34m[\u001b[0m\u001b[0mi\u001b[0m\u001b[0;34m]\u001b[0m \u001b[0;34m=\u001b[0m \u001b[0mins_batch\u001b[0m\u001b[0;34m[\u001b[0m\u001b[0mi\u001b[0m\u001b[0;34m]\u001b[0m\u001b[0;34m.\u001b[0m\u001b[0mtoarray\u001b[0m\u001b[0;34m(\u001b[0m\u001b[0;34m)\u001b[0m\u001b[0;34m\u001b[0m\u001b[0;34m\u001b[0m\u001b[0m\n\u001b[1;32m    214\u001b[0m \u001b[0;34m\u001b[0m\u001b[0m\n\u001b[0;32m--> 215\u001b[0;31m         \u001b[0mouts\u001b[0m \u001b[0;34m=\u001b[0m \u001b[0mf\u001b[0m\u001b[0;34m(\u001b[0m\u001b[0mins_batch\u001b[0m\u001b[0;34m)\u001b[0m\u001b[0;34m\u001b[0m\u001b[0;34m\u001b[0m\u001b[0m\n\u001b[0m\u001b[1;32m    216\u001b[0m         \u001b[0;32mif\u001b[0m \u001b[0;32mnot\u001b[0m \u001b[0misinstance\u001b[0m\u001b[0;34m(\u001b[0m\u001b[0mouts\u001b[0m\u001b[0;34m,\u001b[0m \u001b[0mlist\u001b[0m\u001b[0;34m)\u001b[0m\u001b[0;34m:\u001b[0m\u001b[0;34m\u001b[0m\u001b[0;34m\u001b[0m\u001b[0m\n\u001b[1;32m    217\u001b[0m           \u001b[0mouts\u001b[0m \u001b[0;34m=\u001b[0m \u001b[0;34m[\u001b[0m\u001b[0mouts\u001b[0m\u001b[0;34m]\u001b[0m\u001b[0;34m\u001b[0m\u001b[0;34m\u001b[0m\u001b[0m\n",
      "\u001b[0;32m~/anaconda3/lib/python3.6/site-packages/tensorflow/python/keras/backend.py\u001b[0m in \u001b[0;36m__call__\u001b[0;34m(self, inputs)\u001b[0m\n\u001b[1;32m   2984\u001b[0m \u001b[0;34m\u001b[0m\u001b[0m\n\u001b[1;32m   2985\u001b[0m     fetched = self._callable_fn(*array_vals,\n\u001b[0;32m-> 2986\u001b[0;31m                                 run_metadata=self.run_metadata)\n\u001b[0m\u001b[1;32m   2987\u001b[0m     \u001b[0mself\u001b[0m\u001b[0;34m.\u001b[0m\u001b[0m_call_fetch_callbacks\u001b[0m\u001b[0;34m(\u001b[0m\u001b[0mfetched\u001b[0m\u001b[0;34m[\u001b[0m\u001b[0;34m-\u001b[0m\u001b[0mlen\u001b[0m\u001b[0;34m(\u001b[0m\u001b[0mself\u001b[0m\u001b[0;34m.\u001b[0m\u001b[0m_fetches\u001b[0m\u001b[0;34m)\u001b[0m\u001b[0;34m:\u001b[0m\u001b[0;34m]\u001b[0m\u001b[0;34m)\u001b[0m\u001b[0;34m\u001b[0m\u001b[0;34m\u001b[0m\u001b[0m\n\u001b[1;32m   2988\u001b[0m     \u001b[0;32mreturn\u001b[0m \u001b[0mfetched\u001b[0m\u001b[0;34m[\u001b[0m\u001b[0;34m:\u001b[0m\u001b[0mlen\u001b[0m\u001b[0;34m(\u001b[0m\u001b[0mself\u001b[0m\u001b[0;34m.\u001b[0m\u001b[0moutputs\u001b[0m\u001b[0;34m)\u001b[0m\u001b[0;34m]\u001b[0m\u001b[0;34m\u001b[0m\u001b[0;34m\u001b[0m\u001b[0m\n",
      "\u001b[0;32m~/anaconda3/lib/python3.6/site-packages/tensorflow/python/client/session.py\u001b[0m in \u001b[0;36m__call__\u001b[0;34m(self, *args, **kwargs)\u001b[0m\n\u001b[1;32m   1437\u001b[0m           ret = tf_session.TF_SessionRunCallable(\n\u001b[1;32m   1438\u001b[0m               \u001b[0mself\u001b[0m\u001b[0;34m.\u001b[0m\u001b[0m_session\u001b[0m\u001b[0;34m.\u001b[0m\u001b[0m_session\u001b[0m\u001b[0;34m,\u001b[0m \u001b[0mself\u001b[0m\u001b[0;34m.\u001b[0m\u001b[0m_handle\u001b[0m\u001b[0;34m,\u001b[0m \u001b[0margs\u001b[0m\u001b[0;34m,\u001b[0m \u001b[0mstatus\u001b[0m\u001b[0;34m,\u001b[0m\u001b[0;34m\u001b[0m\u001b[0;34m\u001b[0m\u001b[0m\n\u001b[0;32m-> 1439\u001b[0;31m               run_metadata_ptr)\n\u001b[0m\u001b[1;32m   1440\u001b[0m         \u001b[0;32mif\u001b[0m \u001b[0mrun_metadata\u001b[0m\u001b[0;34m:\u001b[0m\u001b[0;34m\u001b[0m\u001b[0;34m\u001b[0m\u001b[0m\n\u001b[1;32m   1441\u001b[0m           \u001b[0mproto_data\u001b[0m \u001b[0;34m=\u001b[0m \u001b[0mtf_session\u001b[0m\u001b[0;34m.\u001b[0m\u001b[0mTF_GetBuffer\u001b[0m\u001b[0;34m(\u001b[0m\u001b[0mrun_metadata_ptr\u001b[0m\u001b[0;34m)\u001b[0m\u001b[0;34m\u001b[0m\u001b[0;34m\u001b[0m\u001b[0m\n",
      "\u001b[0;31mKeyboardInterrupt\u001b[0m: "
     ]
    }
   ],
   "source": [
    "model.fit(\n",
    "    [train_input_ids, train_input_masks, train_segment_ids], \n",
    "    train_labels,\n",
    "    validation_data=([val_input_ids, val_input_masks, val_segment_ids], val_labels),\n",
    "    epochs=3,\n",
    "    batch_size=15,\n",
    "    verbose=1\n",
    ")"
   ]
  },
  {
   "cell_type": "code",
   "execution_count": 38,
   "metadata": {},
   "outputs": [
    {
     "name": "stdout",
     "output_type": "stream",
     "text": [
      "15000/15000 [==============================] - 802s 53ms/step\n"
     ]
    }
   ],
   "source": [
    "test_predictions = model.predict(x=[test_input_ids, \n",
    "                                    test_input_masks, \n",
    "                                    test_segment_ids],\n",
    "                                 batch_size=200,\n",
    "                                 verbose=1)"
   ]
  },
  {
   "cell_type": "code",
   "execution_count": 39,
   "metadata": {},
   "outputs": [],
   "source": [
    "test_predictions = test_predictions.ravel()"
   ]
  },
  {
   "cell_type": "code",
   "execution_count": 40,
   "metadata": {},
   "outputs": [],
   "source": [
    "test_pred_labels = [1 if prob > 0.5 else 0 for prob in test_predictions]"
   ]
  },
  {
   "cell_type": "code",
   "execution_count": 41,
   "metadata": {},
   "outputs": [
    {
     "name": "stdout",
     "output_type": "stream",
     "text": [
      "Classification Report:\n",
      "              precision    recall  f1-score   support\n",
      "\n",
      "           0       0.93      0.95      0.94      7490\n",
      "           1       0.95      0.93      0.94      7510\n",
      "\n",
      "    accuracy                           0.94     15000\n",
      "   macro avg       0.94      0.94      0.94     15000\n",
      "weighted avg       0.94      0.94      0.94     15000\n",
      "\n"
     ]
    }
   ],
   "source": [
    "from sklearn.metrics import confusion_matrix, classification_report\n",
    "\n",
    "print('Classification Report:')\n",
    "print(classification_report(y_true=test_labels, y_pred=test_pred_labels))"
   ]
  },
  {
   "cell_type": "code",
   "execution_count": 42,
   "metadata": {},
   "outputs": [
    {
     "data": {
      "image/png": "[encoded data removed]",
      "text/plain": [
       "<Figure size 432x288 with 2 Axes>"
      ]
     },
     "metadata": {
      "needs_background": "light"
     },
     "output_type": "display_data"
    }
   ],
   "source": [
    "import seaborn as sns\n",
    "import matplotlib.pyplot as plt\n",
    "\n",
    "%matplotlib inline\n",
    "\n",
    "with tf.Session() as session:\n",
    "    cm = tf.confusion_matrix(test_labels, test_pred_labels).eval()\n",
    "\n",
    "LABELS = ['negative', 'positive']\n",
    "sns.heatmap(cm, annot=True, xticklabels=LABELS, yticklabels=LABELS, fmt='g')\n",
    "xl = plt.xlabel(\"Predicted\")\n",
    "yl = plt.ylabel(\"Actuals\")"
   ]
  },
  {
   "cell_type": "code",
   "execution_count": 43,
   "metadata": {},
   "outputs": [],
   "source": [
    "model.save_weights('bert_sentiment_model_weights_seq512b15.h5')"
   ]
  },
  {
   "cell_type": "code",
   "execution_count": 44,
   "metadata": {},
   "outputs": [],
   "source": [
    "model.save('bert_sentiment_model_seq512b15.h5')"
   ]
  },
  {
   "cell_type": "code",
   "execution_count": 45,
   "metadata": {},
   "outputs": [
    {
     "name": "stdout",
     "output_type": "stream",
     "text": [
      "total 4357MB\r\n",
      "-rw-rw-r-- 1 redanalyze redanalyze    1MB Jul  1 04:57 'BERT - TF Keras implementation - Sentiment Analysis-Copy1.ipynb'\r\n",
      "-rw-rw-r-- 1 redanalyze redanalyze    1MB Jul  1 02:00 'BERT - TF Keras implementation - Sentiment Analysis.ipynb'\r\n",
      "-rw-rw-r-- 1 redanalyze redanalyze    1MB Jun 21 13:11 'BERT Inference - TF Implementation - Sentiment Analysis.ipynb'\r\n",
      "-rw-rw-r-- 1 redanalyze redanalyze    1MB Jun 21 13:11 'BERT Training - TF Implementation - Sentiment Analysis.ipynb'\r\n",
      "-rw-rw-r-- 1 redanalyze redanalyze 1320MB Jun 25 08:12  bert_sentiment_model.h5\r\n",
      "-rw-rw-r-- 1 redanalyze redanalyze 1320MB Jul  1 04:57  bert_sentiment_model_seq512b15.h5\r\n",
      "-rw-rw-r-- 1 redanalyze redanalyze  442MB Jun 25 08:12  bert_sentiment_model_weights.h5\r\n",
      "-rw-rw-r-- 1 redanalyze redanalyze  442MB Jul  1 04:57  bert_sentiment_model_weights_seq512b15.h5\r\n",
      "-rw-rw-r-- 1 redanalyze redanalyze    1MB Jun 21 11:18  checkpoint\r\n",
      "drwxr-xr-x 2 redanalyze redanalyze    1MB Jun 21 10:02  eval\r\n",
      "-rw-rw-r-- 1 redanalyze redanalyze  623MB Jun 21 11:18  events.out.tfevents.1561110216.better-eve-instance\r\n",
      "-rw-rw-r-- 1 redanalyze redanalyze  193MB Jun 21 11:01  graph.pbtxt\r\n",
      "-rw-rw-r-- 1 redanalyze redanalyze   20MB Jun 21 03:12  imdb_movie_reviews.csv.bz2\r\n",
      "drwxrwxr-x 3 redanalyze redanalyze    1MB Jun 21 12:55  tf_models\r\n"
     ]
    }
   ],
   "source": [
    "! ls -l --block-size=MB"
   ]
  },
  {
   "cell_type": "code",
   "execution_count": 46,
   "metadata": {},
   "outputs": [
    {
     "name": "stdout",
     "output_type": "stream",
     "text": [
      "INFO:tensorflow:Saver not created because there are no variables in the graph to restore\n"
     ]
    },
    {
     "name": "stderr",
     "output_type": "stream",
     "text": [
      "I0701 04:57:47.784232 140267069904704 tf_logging.py:115] Saver not created because there are no variables in the graph to restore\n"
     ]
    },
    {
     "name": "stdout",
     "output_type": "stream",
     "text": [
      "Trainable layers: 199\n",
      "Non Trainable layers: 5\n",
      "INFO:tensorflow:Saver not created because there are no variables in the graph to restore\n"
     ]
    },
    {
     "name": "stderr",
     "output_type": "stream",
     "text": [
      "I0701 04:57:49.445465 140267069904704 tf_logging.py:115] Saver not created because there are no variables in the graph to restore\n"
     ]
    },
    {
     "name": "stdout",
     "output_type": "stream",
     "text": [
      "__________________________________________________________________________________________________\n",
      "Layer (type)                    Output Shape         Param #     Connected to                     \n",
      "==================================================================================================\n",
      "input_ids (InputLayer)          (None, 512)          0                                            \n",
      "__________________________________________________________________________________________________\n",
      "input_masks (InputLayer)        (None, 512)          0                                            \n",
      "__________________________________________________________________________________________________\n",
      "segment_ids (InputLayer)        (None, 512)          0                                            \n",
      "__________________________________________________________________________________________________\n",
      "bert_layer_2 (BertLayer)        (None, 768)          110104890   input_ids[0][0]                  \n",
      "                                                                 input_masks[0][0]                \n",
      "                                                                 segment_ids[0][0]                \n",
      "__________________________________________________________________________________________________\n",
      "dense_2 (Dense)                 (None, 256)          196864      bert_layer_2[0][0]               \n",
      "__________________________________________________________________________________________________\n",
      "dense_3 (Dense)                 (None, 1)            257         dense_2[0][0]                    \n",
      "==================================================================================================\n",
      "Total params: 110,302,011\n",
      "Trainable params: 109,679,361\n",
      "Non-trainable params: 622,650\n",
      "__________________________________________________________________________________________________\n"
     ]
    }
   ],
   "source": [
    "model = None\n",
    "model = build_model(bert_path=BERT_PATH, max_seq_length=MAX_SEQ_LENGTH, n_fine_tune_encoders=10)\n",
    "initialize_vars(sess)\n",
    "model.summary()"
   ]
  },
  {
   "cell_type": "code",
   "execution_count": 47,
   "metadata": {},
   "outputs": [
    {
     "name": "stdout",
     "output_type": "stream",
     "text": [
      "15000/15000 [==============================] - 811s 54ms/step\n"
     ]
    }
   ],
   "source": [
    "test_predictions = model.predict(x=[test_input_ids, \n",
    "                                    test_input_masks, \n",
    "                                    test_segment_ids],\n",
    "                                 batch_size=200,\n",
    "                                 verbose=1)"
   ]
  },
  {
   "cell_type": "code",
   "execution_count": 48,
   "metadata": {},
   "outputs": [],
   "source": [
    "test_predictions = test_predictions.ravel()\n",
    "test_pred_labels = [1 if prob > 0.5 else 0 for prob in test_predictions]"
   ]
  },
  {
   "cell_type": "code",
   "execution_count": 49,
   "metadata": {},
   "outputs": [
    {
     "name": "stdout",
     "output_type": "stream",
     "text": [
      "Classification Report:\n",
      "              precision    recall  f1-score   support\n",
      "\n",
      "           0       0.50      1.00      0.67      7490\n",
      "           1       0.50      0.00      0.00      7510\n",
      "\n",
      "    accuracy                           0.50     15000\n",
      "   macro avg       0.50      0.50      0.33     15000\n",
      "weighted avg       0.50      0.50      0.33     15000\n",
      "\n"
     ]
    }
   ],
   "source": [
    "print('Classification Report:')\n",
    "print(classification_report(y_true=test_labels, y_pred=test_pred_labels))"
   ]
  },
  {
   "cell_type": "code",
   "execution_count": 50,
   "metadata": {},
   "outputs": [
    {
     "data": {
      "image/png": "[encoded data removed]",
      "text/plain": [
       "<Figure size 432x288 with 2 Axes>"
      ]
     },
     "metadata": {
      "needs_background": "light"
     },
     "output_type": "display_data"
    }
   ],
   "source": [
    "with tf.Session() as session:\n",
    "    cm = tf.confusion_matrix(test_labels, test_pred_labels).eval()\n",
    "\n",
    "LABELS = ['negative', 'positive']\n",
    "sns.heatmap(cm, annot=True, xticklabels=LABELS, yticklabels=LABELS, fmt='g')\n",
    "xl = plt.xlabel(\"Predicted\")\n",
    "yl = plt.ylabel(\"Actuals\")"
   ]
  },
  {
   "cell_type": "code",
   "execution_count": null,
   "metadata": {},
   "outputs": [],
   "source": []
  },
  {
   "cell_type": "code",
   "execution_count": 51,
   "metadata": {},
   "outputs": [],
   "source": [
    "model.load_weights('bert_sentiment_model_weights_seq512b15.h5')"
   ]
  },
  {
   "cell_type": "code",
   "execution_count": 52,
   "metadata": {},
   "outputs": [
    {
     "name": "stdout",
     "output_type": "stream",
     "text": [
      "15000/15000 [==============================] - 808s 54ms/step\n"
     ]
    }
   ],
   "source": [
    "test_predictions = model.predict(x=[test_input_ids, \n",
    "                                    test_input_masks, \n",
    "                                    test_segment_ids],\n",
    "                                 batch_size=200,\n",
    "                                 verbose=1)"
   ]
  },
  {
   "cell_type": "code",
   "execution_count": 53,
   "metadata": {},
   "outputs": [],
   "source": [
    "test_predictions = test_predictions.ravel()\n",
    "test_pred_labels = [1 if prob > 0.5 else 0 for prob in test_predictions]"
   ]
  },
  {
   "cell_type": "code",
   "execution_count": 54,
   "metadata": {},
   "outputs": [
    {
     "name": "stdout",
     "output_type": "stream",
     "text": [
      "Classification Report:\n",
      "              precision    recall  f1-score   support\n",
      "\n",
      "           0       0.93      0.95      0.94      7490\n",
      "           1       0.95      0.93      0.94      7510\n",
      "\n",
      "    accuracy                           0.94     15000\n",
      "   macro avg       0.94      0.94      0.94     15000\n",
      "weighted avg       0.94      0.94      0.94     15000\n",
      "\n"
     ]
    }
   ],
   "source": [
    "print('Classification Report:')\n",
    "print(classification_report(y_true=test_labels, y_pred=test_pred_labels))"
   ]
  },
  {
   "cell_type": "code",
   "execution_count": 55,
   "metadata": {},
   "outputs": [
    {
     "data": {
      "image/png": "[encoded data removed]",
      "text/plain": [
       "<Figure size 432x288 with 2 Axes>"
      ]
     },
     "metadata": {
      "needs_background": "light"
     },
     "output_type": "display_data"
    }
   ],
   "source": [
    "with tf.Session() as session:\n",
    "    cm = tf.confusion_matrix(test_labels, test_pred_labels).eval()\n",
    "\n",
    "LABELS = ['negative', 'positive']\n",
    "sns.heatmap(cm, annot=True, xticklabels=LABELS, yticklabels=LABELS, fmt='g')\n",
    "xl = plt.xlabel(\"Predicted\")\n",
    "yl = plt.ylabel(\"Actuals\")"
   ]
  },
  {
   "cell_type": "code",
   "execution_count": null,
   "metadata": {},
   "outputs": [],
   "source": []
  }
 ],
 "metadata": {
  "kernelspec": {
   "display_name": "Python 3",
   "language": "python",
   "name": "python3"
  },
  "language_info": {
   "codemirror_mode": {
    "name": "ipython",
    "version": 3
   },
   "file_extension": ".py",
   "mimetype": "text/x-python",
   "name": "python",
   "nbconvert_exporter": "python",
   "pygments_lexer": "ipython3",
   "version": "3.6.8"
  }
 },
 "nbformat": 4,
 "nbformat_minor": 2
}
